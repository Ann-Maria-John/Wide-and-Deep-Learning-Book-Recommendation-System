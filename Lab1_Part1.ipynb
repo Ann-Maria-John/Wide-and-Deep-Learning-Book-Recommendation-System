{
 "cells": [
  {
   "cell_type": "code",
   "execution_count": null,
   "metadata": {
    "colab": {
     "base_uri": "https://localhost:8080/"
    },
    "executionInfo": {
     "elapsed": 27004,
     "status": "ok",
     "timestamp": 1711406248143,
     "user": {
      "displayName": "Supriya Vasagiri",
      "userId": "15627917195817140532"
     },
     "user_tz": 420
    },
    "id": "ojXmZjLAZXHy",
    "outputId": "9bbe1d92-9196-4e03-947d-fa798733c103"
   },
   "outputs": [
    {
     "name": "stdout",
     "output_type": "stream",
     "text": [
      "Mounted at /content/drive\n"
     ]
    }
   ],
   "source": [
    "from google.colab import drive\n",
    "drive.mount('/content/drive')"
   ]
  },
  {
   "cell_type": "code",
   "execution_count": null,
   "metadata": {
    "id": "OaQFmQioZiiz"
   },
   "outputs": [],
   "source": [
    "import pandas as pd\n",
    "import numpy as np\n",
    "import torch\n",
    "import torch.nn as nn\n",
    "import torch.optim as optim\n",
    "from sklearn.model_selection import train_test_split\n",
    "from sklearn.preprocessing import LabelEncoder, StandardScaler\n",
    "\n",
    "import warnings\n",
    "\n",
    "# Ignore all warnings\n",
    "warnings.filterwarnings(\"ignore\")\n",
    "\n",
    "# Globally setting print options\n",
    "pd.set_option('display.max_columns', None)\n",
    "pd.set_option('display.max_rows', None)"
   ]
  },
  {
   "cell_type": "code",
   "execution_count": null,
   "metadata": {
    "id": "DvTymLC9n34_"
   },
   "outputs": [],
   "source": [
    "users = pd.read_csv('/content/drive/MyDrive/BX-Users.csv', on_bad_lines='skip', delimiter=';', encoding = 'ISO-8859-1') #encoding = \"latin-1\""
   ]
  },
  {
   "cell_type": "code",
   "execution_count": null,
   "metadata": {
    "colab": {
     "base_uri": "https://localhost:8080/"
    },
    "executionInfo": {
     "elapsed": 4728,
     "status": "ok",
     "timestamp": 1711406264734,
     "user": {
      "displayName": "Supriya Vasagiri",
      "userId": "15627917195817140532"
     },
     "user_tz": 420
    },
    "id": "6acuur0rn5Ps",
    "outputId": "2716b017-bd70-498c-9b75-5557aa1aaa7b"
   },
   "outputs": [
    {
     "name": "stderr",
     "output_type": "stream",
     "text": [
      "<ipython-input-5-e4402a19d355>:1: DtypeWarning: Columns (3) have mixed types. Specify dtype option on import or set low_memory=False.\n",
      "  books = pd.read_csv('/content/drive/MyDrive/BX-Books.csv', on_bad_lines='skip', delimiter=';', encoding = 'ISO-8859-1') #encoding = \"latin-1\n"
     ]
    }
   ],
   "source": [
    "books = pd.read_csv('/content/drive/MyDrive/BX-Books.csv', on_bad_lines='skip', delimiter=';', encoding = 'ISO-8859-1') #encoding = \"latin-1"
   ]
  },
  {
   "cell_type": "code",
   "execution_count": null,
   "metadata": {
    "id": "5Iaf1lNNn7N9"
   },
   "outputs": [],
   "source": [
    "ratings = pd.read_csv('/content/drive/MyDrive/BX-Book-Ratings.csv', on_bad_lines='skip', delimiter=';', encoding = 'ISO-8859-1')"
   ]
  },
  {
   "cell_type": "code",
   "execution_count": null,
   "metadata": {
    "colab": {
     "base_uri": "https://localhost:8080/"
    },
    "executionInfo": {
     "elapsed": 4,
     "status": "ok",
     "timestamp": 1711406271142,
     "user": {
      "displayName": "Supriya Vasagiri",
      "userId": "15627917195817140532"
     },
     "user_tz": 420
    },
    "id": "hAVvDGbEoh0T",
    "outputId": "67e48a0c-36ec-4af4-bb2a-796b5966aec6"
   },
   "outputs": [
    {
     "data": {
      "text/plain": [
       "(278858, 3)"
      ]
     },
     "execution_count": 10,
     "metadata": {},
     "output_type": "execute_result"
    }
   ],
   "source": [
    "users.shape"
   ]
  },
  {
   "cell_type": "code",
   "execution_count": null,
   "metadata": {
    "colab": {
     "base_uri": "https://localhost:8080/"
    },
    "executionInfo": {
     "elapsed": 3,
     "status": "ok",
     "timestamp": 1711406271762,
     "user": {
      "displayName": "Supriya Vasagiri",
      "userId": "15627917195817140532"
     },
     "user_tz": 420
    },
    "id": "_Xl4D_iLrO4s",
    "outputId": "81731374-2eba-48d7-bd0a-a2c3ae77a727"
   },
   "outputs": [
    {
     "data": {
      "text/plain": [
       "Index(['User-ID', 'Location', 'Age'], dtype='object')"
      ]
     },
     "execution_count": 11,
     "metadata": {},
     "output_type": "execute_result"
    }
   ],
   "source": [
    "users.columns"
   ]
  },
  {
   "cell_type": "code",
   "execution_count": null,
   "metadata": {
    "colab": {
     "base_uri": "https://localhost:8080/"
    },
    "executionInfo": {
     "elapsed": 8,
     "status": "ok",
     "timestamp": 1711406272923,
     "user": {
      "displayName": "Supriya Vasagiri",
      "userId": "15627917195817140532"
     },
     "user_tz": 420
    },
    "id": "89CXw15XojPw",
    "outputId": "355674b6-cd32-4916-df62-6d0f231d7be9"
   },
   "outputs": [
    {
     "data": {
      "text/plain": [
       "(271360, 8)"
      ]
     },
     "execution_count": 12,
     "metadata": {},
     "output_type": "execute_result"
    }
   ],
   "source": [
    "books.shape"
   ]
  },
  {
   "cell_type": "code",
   "execution_count": null,
   "metadata": {
    "colab": {
     "base_uri": "https://localhost:8080/"
    },
    "executionInfo": {
     "elapsed": 6,
     "status": "ok",
     "timestamp": 1711406272923,
     "user": {
      "displayName": "Supriya Vasagiri",
      "userId": "15627917195817140532"
     },
     "user_tz": 420
    },
    "id": "yRDucTu7rQn4",
    "outputId": "ede58f5c-f671-4cc9-f0aa-d3b82661b7b8"
   },
   "outputs": [
    {
     "data": {
      "text/plain": [
       "Index(['ISBN', 'Book-Title', 'Book-Author', 'Year-Of-Publication', 'Publisher',\n",
       "       'Image-URL-S', 'Image-URL-M', 'Image-URL-L'],\n",
       "      dtype='object')"
      ]
     },
     "execution_count": 13,
     "metadata": {},
     "output_type": "execute_result"
    }
   ],
   "source": [
    "books.columns"
   ]
  },
  {
   "cell_type": "code",
   "execution_count": null,
   "metadata": {
    "colab": {
     "base_uri": "https://localhost:8080/"
    },
    "executionInfo": {
     "elapsed": 4,
     "status": "ok",
     "timestamp": 1711406272923,
     "user": {
      "displayName": "Supriya Vasagiri",
      "userId": "15627917195817140532"
     },
     "user_tz": 420
    },
    "id": "_3occEeMolAS",
    "outputId": "91996c93-daa0-42be-87b9-de79aa1a85dc"
   },
   "outputs": [
    {
     "data": {
      "text/plain": [
       "(1149780, 3)"
      ]
     },
     "execution_count": 14,
     "metadata": {},
     "output_type": "execute_result"
    }
   ],
   "source": [
    "ratings.shape"
   ]
  },
  {
   "cell_type": "code",
   "execution_count": null,
   "metadata": {
    "colab": {
     "base_uri": "https://localhost:8080/"
    },
    "executionInfo": {
     "elapsed": 3,
     "status": "ok",
     "timestamp": 1711406272923,
     "user": {
      "displayName": "Supriya Vasagiri",
      "userId": "15627917195817140532"
     },
     "user_tz": 420
    },
    "id": "8Sc2YSB4rSTz",
    "outputId": "ec3f3523-65f8-440b-cc32-2ef1f6f9dedd"
   },
   "outputs": [
    {
     "data": {
      "text/plain": [
       "Index(['User-ID', 'ISBN', 'Book-Rating'], dtype='object')"
      ]
     },
     "execution_count": 15,
     "metadata": {},
     "output_type": "execute_result"
    }
   ],
   "source": [
    "ratings.columns"
   ]
  },
  {
   "cell_type": "markdown",
   "metadata": {
    "id": "_OAz4GFrrfQv"
   },
   "source": [
    "### Merge .csv files"
   ]
  },
  {
   "cell_type": "code",
   "execution_count": null,
   "metadata": {
    "id": "2IQGQchOrZ_j"
   },
   "outputs": [],
   "source": [
    "data = pd.merge(ratings, users, on='User-ID', how='inner')"
   ]
  },
  {
   "cell_type": "code",
   "execution_count": null,
   "metadata": {
    "id": "JBkCfCaJrb9N"
   },
   "outputs": [],
   "source": [
    "data = pd.merge(data, books, on='ISBN', how='inner')"
   ]
  },
  {
   "cell_type": "code",
   "execution_count": null,
   "metadata": {
    "colab": {
     "base_uri": "https://localhost:8080/",
     "height": 503
    },
    "executionInfo": {
     "elapsed": 325,
     "status": "ok",
     "timestamp": 1711406275864,
     "user": {
      "displayName": "Supriya Vasagiri",
      "userId": "15627917195817140532"
     },
     "user_tz": 420
    },
    "id": "3vsPOYtbrlEM",
    "outputId": "00e09e56-e51f-4ba4-ee9e-f0218375fa35"
   },
   "outputs": [
    {
     "data": {
      "application/vnd.google.colaboratory.intrinsic+json": {
       "type": "dataframe",
       "variable_name": "data"
      },
      "text/html": [
       "\n",
       "  <div id=\"df-9436bb1e-03c8-44eb-a3df-fc3a529b7d6c\" class=\"colab-df-container\">\n",
       "    <div>\n",
       "<style scoped>\n",
       "    .dataframe tbody tr th:only-of-type {\n",
       "        vertical-align: middle;\n",
       "    }\n",
       "\n",
       "    .dataframe tbody tr th {\n",
       "        vertical-align: top;\n",
       "    }\n",
       "\n",
       "    .dataframe thead th {\n",
       "        text-align: right;\n",
       "    }\n",
       "</style>\n",
       "<table border=\"1\" class=\"dataframe\">\n",
       "  <thead>\n",
       "    <tr style=\"text-align: right;\">\n",
       "      <th></th>\n",
       "      <th>User-ID</th>\n",
       "      <th>ISBN</th>\n",
       "      <th>Book-Rating</th>\n",
       "      <th>Location</th>\n",
       "      <th>Age</th>\n",
       "      <th>Book-Title</th>\n",
       "      <th>Book-Author</th>\n",
       "      <th>Year-Of-Publication</th>\n",
       "      <th>Publisher</th>\n",
       "      <th>Image-URL-S</th>\n",
       "      <th>Image-URL-M</th>\n",
       "      <th>Image-URL-L</th>\n",
       "    </tr>\n",
       "  </thead>\n",
       "  <tbody>\n",
       "    <tr>\n",
       "      <th>0</th>\n",
       "      <td>276725</td>\n",
       "      <td>034545104X</td>\n",
       "      <td>0</td>\n",
       "      <td>tyler, texas, usa</td>\n",
       "      <td>NaN</td>\n",
       "      <td>Flesh Tones: A Novel</td>\n",
       "      <td>M. J. Rose</td>\n",
       "      <td>2002</td>\n",
       "      <td>Ballantine Books</td>\n",
       "      <td>http://images.amazon.com/images/P/034545104X.0...</td>\n",
       "      <td>http://images.amazon.com/images/P/034545104X.0...</td>\n",
       "      <td>http://images.amazon.com/images/P/034545104X.0...</td>\n",
       "    </tr>\n",
       "    <tr>\n",
       "      <th>1</th>\n",
       "      <td>2313</td>\n",
       "      <td>034545104X</td>\n",
       "      <td>5</td>\n",
       "      <td>cincinnati, ohio, usa</td>\n",
       "      <td>23.0</td>\n",
       "      <td>Flesh Tones: A Novel</td>\n",
       "      <td>M. J. Rose</td>\n",
       "      <td>2002</td>\n",
       "      <td>Ballantine Books</td>\n",
       "      <td>http://images.amazon.com/images/P/034545104X.0...</td>\n",
       "      <td>http://images.amazon.com/images/P/034545104X.0...</td>\n",
       "      <td>http://images.amazon.com/images/P/034545104X.0...</td>\n",
       "    </tr>\n",
       "    <tr>\n",
       "      <th>2</th>\n",
       "      <td>6543</td>\n",
       "      <td>034545104X</td>\n",
       "      <td>0</td>\n",
       "      <td>strafford, missouri, usa</td>\n",
       "      <td>34.0</td>\n",
       "      <td>Flesh Tones: A Novel</td>\n",
       "      <td>M. J. Rose</td>\n",
       "      <td>2002</td>\n",
       "      <td>Ballantine Books</td>\n",
       "      <td>http://images.amazon.com/images/P/034545104X.0...</td>\n",
       "      <td>http://images.amazon.com/images/P/034545104X.0...</td>\n",
       "      <td>http://images.amazon.com/images/P/034545104X.0...</td>\n",
       "    </tr>\n",
       "    <tr>\n",
       "      <th>3</th>\n",
       "      <td>8680</td>\n",
       "      <td>034545104X</td>\n",
       "      <td>5</td>\n",
       "      <td>st. charles county, missouri, usa</td>\n",
       "      <td>2.0</td>\n",
       "      <td>Flesh Tones: A Novel</td>\n",
       "      <td>M. J. Rose</td>\n",
       "      <td>2002</td>\n",
       "      <td>Ballantine Books</td>\n",
       "      <td>http://images.amazon.com/images/P/034545104X.0...</td>\n",
       "      <td>http://images.amazon.com/images/P/034545104X.0...</td>\n",
       "      <td>http://images.amazon.com/images/P/034545104X.0...</td>\n",
       "    </tr>\n",
       "    <tr>\n",
       "      <th>4</th>\n",
       "      <td>10314</td>\n",
       "      <td>034545104X</td>\n",
       "      <td>9</td>\n",
       "      <td>beaverton, oregon, usa</td>\n",
       "      <td>NaN</td>\n",
       "      <td>Flesh Tones: A Novel</td>\n",
       "      <td>M. J. Rose</td>\n",
       "      <td>2002</td>\n",
       "      <td>Ballantine Books</td>\n",
       "      <td>http://images.amazon.com/images/P/034545104X.0...</td>\n",
       "      <td>http://images.amazon.com/images/P/034545104X.0...</td>\n",
       "      <td>http://images.amazon.com/images/P/034545104X.0...</td>\n",
       "    </tr>\n",
       "  </tbody>\n",
       "</table>\n",
       "</div>\n",
       "    <div class=\"colab-df-buttons\">\n",
       "\n",
       "  <div class=\"colab-df-container\">\n",
       "    <button class=\"colab-df-convert\" onclick=\"convertToInteractive('df-9436bb1e-03c8-44eb-a3df-fc3a529b7d6c')\"\n",
       "            title=\"Convert this dataframe to an interactive table.\"\n",
       "            style=\"display:none;\">\n",
       "\n",
       "  <svg xmlns=\"http://www.w3.org/2000/svg\" height=\"24px\" viewBox=\"0 -960 960 960\">\n",
       "    <path d=\"M120-120v-720h720v720H120Zm60-500h600v-160H180v160Zm220 220h160v-160H400v160Zm0 220h160v-160H400v160ZM180-400h160v-160H180v160Zm440 0h160v-160H620v160ZM180-180h160v-160H180v160Zm440 0h160v-160H620v160Z\"/>\n",
       "  </svg>\n",
       "    </button>\n",
       "\n",
       "  <style>\n",
       "    .colab-df-container {\n",
       "      display:flex;\n",
       "      gap: 12px;\n",
       "    }\n",
       "\n",
       "    .colab-df-convert {\n",
       "      background-color: #E8F0FE;\n",
       "      border: none;\n",
       "      border-radius: 50%;\n",
       "      cursor: pointer;\n",
       "      display: none;\n",
       "      fill: #1967D2;\n",
       "      height: 32px;\n",
       "      padding: 0 0 0 0;\n",
       "      width: 32px;\n",
       "    }\n",
       "\n",
       "    .colab-df-convert:hover {\n",
       "      background-color: #E2EBFA;\n",
       "      box-shadow: 0px 1px 2px rgba(60, 64, 67, 0.3), 0px 1px 3px 1px rgba(60, 64, 67, 0.15);\n",
       "      fill: #174EA6;\n",
       "    }\n",
       "\n",
       "    .colab-df-buttons div {\n",
       "      margin-bottom: 4px;\n",
       "    }\n",
       "\n",
       "    [theme=dark] .colab-df-convert {\n",
       "      background-color: #3B4455;\n",
       "      fill: #D2E3FC;\n",
       "    }\n",
       "\n",
       "    [theme=dark] .colab-df-convert:hover {\n",
       "      background-color: #434B5C;\n",
       "      box-shadow: 0px 1px 3px 1px rgba(0, 0, 0, 0.15);\n",
       "      filter: drop-shadow(0px 1px 2px rgba(0, 0, 0, 0.3));\n",
       "      fill: #FFFFFF;\n",
       "    }\n",
       "  </style>\n",
       "\n",
       "    <script>\n",
       "      const buttonEl =\n",
       "        document.querySelector('#df-9436bb1e-03c8-44eb-a3df-fc3a529b7d6c button.colab-df-convert');\n",
       "      buttonEl.style.display =\n",
       "        google.colab.kernel.accessAllowed ? 'block' : 'none';\n",
       "\n",
       "      async function convertToInteractive(key) {\n",
       "        const element = document.querySelector('#df-9436bb1e-03c8-44eb-a3df-fc3a529b7d6c');\n",
       "        const dataTable =\n",
       "          await google.colab.kernel.invokeFunction('convertToInteractive',\n",
       "                                                    [key], {});\n",
       "        if (!dataTable) return;\n",
       "\n",
       "        const docLinkHtml = 'Like what you see? Visit the ' +\n",
       "          '<a target=\"_blank\" href=https://colab.research.google.com/notebooks/data_table.ipynb>data table notebook</a>'\n",
       "          + ' to learn more about interactive tables.';\n",
       "        element.innerHTML = '';\n",
       "        dataTable['output_type'] = 'display_data';\n",
       "        await google.colab.output.renderOutput(dataTable, element);\n",
       "        const docLink = document.createElement('div');\n",
       "        docLink.innerHTML = docLinkHtml;\n",
       "        element.appendChild(docLink);\n",
       "      }\n",
       "    </script>\n",
       "  </div>\n",
       "\n",
       "\n",
       "<div id=\"df-b419c019-dd97-40b3-8a23-1e90fe9294a8\">\n",
       "  <button class=\"colab-df-quickchart\" onclick=\"quickchart('df-b419c019-dd97-40b3-8a23-1e90fe9294a8')\"\n",
       "            title=\"Suggest charts\"\n",
       "            style=\"display:none;\">\n",
       "\n",
       "<svg xmlns=\"http://www.w3.org/2000/svg\" height=\"24px\"viewBox=\"0 0 24 24\"\n",
       "     width=\"24px\">\n",
       "    <g>\n",
       "        <path d=\"M19 3H5c-1.1 0-2 .9-2 2v14c0 1.1.9 2 2 2h14c1.1 0 2-.9 2-2V5c0-1.1-.9-2-2-2zM9 17H7v-7h2v7zm4 0h-2V7h2v10zm4 0h-2v-4h2v4z\"/>\n",
       "    </g>\n",
       "</svg>\n",
       "  </button>\n",
       "\n",
       "<style>\n",
       "  .colab-df-quickchart {\n",
       "      --bg-color: #E8F0FE;\n",
       "      --fill-color: #1967D2;\n",
       "      --hover-bg-color: #E2EBFA;\n",
       "      --hover-fill-color: #174EA6;\n",
       "      --disabled-fill-color: #AAA;\n",
       "      --disabled-bg-color: #DDD;\n",
       "  }\n",
       "\n",
       "  [theme=dark] .colab-df-quickchart {\n",
       "      --bg-color: #3B4455;\n",
       "      --fill-color: #D2E3FC;\n",
       "      --hover-bg-color: #434B5C;\n",
       "      --hover-fill-color: #FFFFFF;\n",
       "      --disabled-bg-color: #3B4455;\n",
       "      --disabled-fill-color: #666;\n",
       "  }\n",
       "\n",
       "  .colab-df-quickchart {\n",
       "    background-color: var(--bg-color);\n",
       "    border: none;\n",
       "    border-radius: 50%;\n",
       "    cursor: pointer;\n",
       "    display: none;\n",
       "    fill: var(--fill-color);\n",
       "    height: 32px;\n",
       "    padding: 0;\n",
       "    width: 32px;\n",
       "  }\n",
       "\n",
       "  .colab-df-quickchart:hover {\n",
       "    background-color: var(--hover-bg-color);\n",
       "    box-shadow: 0 1px 2px rgba(60, 64, 67, 0.3), 0 1px 3px 1px rgba(60, 64, 67, 0.15);\n",
       "    fill: var(--button-hover-fill-color);\n",
       "  }\n",
       "\n",
       "  .colab-df-quickchart-complete:disabled,\n",
       "  .colab-df-quickchart-complete:disabled:hover {\n",
       "    background-color: var(--disabled-bg-color);\n",
       "    fill: var(--disabled-fill-color);\n",
       "    box-shadow: none;\n",
       "  }\n",
       "\n",
       "  .colab-df-spinner {\n",
       "    border: 2px solid var(--fill-color);\n",
       "    border-color: transparent;\n",
       "    border-bottom-color: var(--fill-color);\n",
       "    animation:\n",
       "      spin 1s steps(1) infinite;\n",
       "  }\n",
       "\n",
       "  @keyframes spin {\n",
       "    0% {\n",
       "      border-color: transparent;\n",
       "      border-bottom-color: var(--fill-color);\n",
       "      border-left-color: var(--fill-color);\n",
       "    }\n",
       "    20% {\n",
       "      border-color: transparent;\n",
       "      border-left-color: var(--fill-color);\n",
       "      border-top-color: var(--fill-color);\n",
       "    }\n",
       "    30% {\n",
       "      border-color: transparent;\n",
       "      border-left-color: var(--fill-color);\n",
       "      border-top-color: var(--fill-color);\n",
       "      border-right-color: var(--fill-color);\n",
       "    }\n",
       "    40% {\n",
       "      border-color: transparent;\n",
       "      border-right-color: var(--fill-color);\n",
       "      border-top-color: var(--fill-color);\n",
       "    }\n",
       "    60% {\n",
       "      border-color: transparent;\n",
       "      border-right-color: var(--fill-color);\n",
       "    }\n",
       "    80% {\n",
       "      border-color: transparent;\n",
       "      border-right-color: var(--fill-color);\n",
       "      border-bottom-color: var(--fill-color);\n",
       "    }\n",
       "    90% {\n",
       "      border-color: transparent;\n",
       "      border-bottom-color: var(--fill-color);\n",
       "    }\n",
       "  }\n",
       "</style>\n",
       "\n",
       "  <script>\n",
       "    async function quickchart(key) {\n",
       "      const quickchartButtonEl =\n",
       "        document.querySelector('#' + key + ' button');\n",
       "      quickchartButtonEl.disabled = true;  // To prevent multiple clicks.\n",
       "      quickchartButtonEl.classList.add('colab-df-spinner');\n",
       "      try {\n",
       "        const charts = await google.colab.kernel.invokeFunction(\n",
       "            'suggestCharts', [key], {});\n",
       "      } catch (error) {\n",
       "        console.error('Error during call to suggestCharts:', error);\n",
       "      }\n",
       "      quickchartButtonEl.classList.remove('colab-df-spinner');\n",
       "      quickchartButtonEl.classList.add('colab-df-quickchart-complete');\n",
       "    }\n",
       "    (() => {\n",
       "      let quickchartButtonEl =\n",
       "        document.querySelector('#df-b419c019-dd97-40b3-8a23-1e90fe9294a8 button');\n",
       "      quickchartButtonEl.style.display =\n",
       "        google.colab.kernel.accessAllowed ? 'block' : 'none';\n",
       "    })();\n",
       "  </script>\n",
       "</div>\n",
       "    </div>\n",
       "  </div>\n"
      ],
      "text/plain": [
       "   User-ID        ISBN  Book-Rating                           Location   Age  \\\n",
       "0   276725  034545104X            0                  tyler, texas, usa   NaN   \n",
       "1     2313  034545104X            5              cincinnati, ohio, usa  23.0   \n",
       "2     6543  034545104X            0           strafford, missouri, usa  34.0   \n",
       "3     8680  034545104X            5  st. charles county, missouri, usa   2.0   \n",
       "4    10314  034545104X            9             beaverton, oregon, usa   NaN   \n",
       "\n",
       "             Book-Title Book-Author Year-Of-Publication         Publisher  \\\n",
       "0  Flesh Tones: A Novel  M. J. Rose                2002  Ballantine Books   \n",
       "1  Flesh Tones: A Novel  M. J. Rose                2002  Ballantine Books   \n",
       "2  Flesh Tones: A Novel  M. J. Rose                2002  Ballantine Books   \n",
       "3  Flesh Tones: A Novel  M. J. Rose                2002  Ballantine Books   \n",
       "4  Flesh Tones: A Novel  M. J. Rose                2002  Ballantine Books   \n",
       "\n",
       "                                         Image-URL-S  \\\n",
       "0  http://images.amazon.com/images/P/034545104X.0...   \n",
       "1  http://images.amazon.com/images/P/034545104X.0...   \n",
       "2  http://images.amazon.com/images/P/034545104X.0...   \n",
       "3  http://images.amazon.com/images/P/034545104X.0...   \n",
       "4  http://images.amazon.com/images/P/034545104X.0...   \n",
       "\n",
       "                                         Image-URL-M  \\\n",
       "0  http://images.amazon.com/images/P/034545104X.0...   \n",
       "1  http://images.amazon.com/images/P/034545104X.0...   \n",
       "2  http://images.amazon.com/images/P/034545104X.0...   \n",
       "3  http://images.amazon.com/images/P/034545104X.0...   \n",
       "4  http://images.amazon.com/images/P/034545104X.0...   \n",
       "\n",
       "                                         Image-URL-L  \n",
       "0  http://images.amazon.com/images/P/034545104X.0...  \n",
       "1  http://images.amazon.com/images/P/034545104X.0...  \n",
       "2  http://images.amazon.com/images/P/034545104X.0...  \n",
       "3  http://images.amazon.com/images/P/034545104X.0...  \n",
       "4  http://images.amazon.com/images/P/034545104X.0...  "
      ]
     },
     "execution_count": 18,
     "metadata": {},
     "output_type": "execute_result"
    }
   ],
   "source": [
    "data.head()"
   ]
  },
  {
   "cell_type": "code",
   "execution_count": null,
   "metadata": {
    "colab": {
     "base_uri": "https://localhost:8080/"
    },
    "executionInfo": {
     "elapsed": 10,
     "status": "ok",
     "timestamp": 1711406275864,
     "user": {
      "displayName": "Supriya Vasagiri",
      "userId": "15627917195817140532"
     },
     "user_tz": 420
    },
    "id": "tFmxDH8Orm_q",
    "outputId": "c0daea70-510c-4b01-a378-26e6fffdbf5b"
   },
   "outputs": [
    {
     "data": {
      "text/plain": [
       "(1031136, 12)"
      ]
     },
     "execution_count": 19,
     "metadata": {},
     "output_type": "execute_result"
    }
   ],
   "source": [
    "data.shape"
   ]
  },
  {
   "cell_type": "code",
   "execution_count": null,
   "metadata": {
    "colab": {
     "base_uri": "https://localhost:8080/"
    },
    "executionInfo": {
     "elapsed": 10,
     "status": "ok",
     "timestamp": 1711406275865,
     "user": {
      "displayName": "Supriya Vasagiri",
      "userId": "15627917195817140532"
     },
     "user_tz": 420
    },
    "id": "im-CE1merqD5",
    "outputId": "2cafb40f-b983-4123-c8a6-99f10715988d"
   },
   "outputs": [
    {
     "data": {
      "text/plain": [
       "Index(['User-ID', 'ISBN', 'Book-Rating', 'Location', 'Age', 'Book-Title',\n",
       "       'Book-Author', 'Year-Of-Publication', 'Publisher', 'Image-URL-S',\n",
       "       'Image-URL-M', 'Image-URL-L'],\n",
       "      dtype='object')"
      ]
     },
     "execution_count": 20,
     "metadata": {},
     "output_type": "execute_result"
    }
   ],
   "source": [
    "data.columns"
   ]
  },
  {
   "cell_type": "markdown",
   "metadata": {
    "id": "Sse7SzUVeF9D"
   },
   "source": [
    "### Drop unnecessary columns"
   ]
  },
  {
   "cell_type": "code",
   "execution_count": null,
   "metadata": {
    "id": "d5OzOzePrzis"
   },
   "outputs": [],
   "source": [
    "df = data.drop(columns=['Image-URL-S', 'Image-URL-M', 'Image-URL-L'], axis=1)"
   ]
  },
  {
   "cell_type": "code",
   "execution_count": null,
   "metadata": {
    "colab": {
     "base_uri": "https://localhost:8080/"
    },
    "executionInfo": {
     "elapsed": 8,
     "status": "ok",
     "timestamp": 1711406275865,
     "user": {
      "displayName": "Supriya Vasagiri",
      "userId": "15627917195817140532"
     },
     "user_tz": 420
    },
    "id": "KCLxv4DbaMjF",
    "outputId": "96ed22e6-2e6f-4d07-e69e-124f54b48e96"
   },
   "outputs": [
    {
     "data": {
      "text/plain": [
       "(1031136, 9)"
      ]
     },
     "execution_count": 22,
     "metadata": {},
     "output_type": "execute_result"
    }
   ],
   "source": [
    "df.shape"
   ]
  },
  {
   "cell_type": "markdown",
   "metadata": {
    "id": "Ano5zuCN77L2"
   },
   "source": [
    "### Feature Extraction"
   ]
  },
  {
   "cell_type": "code",
   "execution_count": null,
   "metadata": {
    "id": "i1Ho4X1EflD-"
   },
   "outputs": [],
   "source": [
    "# Extract country from Location column\n",
    "# Drop Location column\n",
    "\n",
    "df['Country'] = df['Location'].str.split(',').str[-1].str.strip()\n",
    "df.drop(columns=['Location'], inplace=True)"
   ]
  },
  {
   "cell_type": "markdown",
   "metadata": {
    "id": "0u5cW1bswyFJ"
   },
   "source": [
    "### Data Wrangling"
   ]
  },
  {
   "cell_type": "code",
   "execution_count": null,
   "metadata": {
    "id": "Ifg81p-he7vX"
   },
   "outputs": [],
   "source": [
    "# Change data type of year column\n",
    "# Year-Of-Publication has non-numeric values. errors='coerce' - replace non-numeric values with NaN\n",
    "\n",
    "df['Year-Of-Publication'] = pd.to_numeric(df['Year-Of-Publication'], errors='coerce')"
   ]
  },
  {
   "cell_type": "code",
   "execution_count": null,
   "metadata": {
    "id": "wWBQ7BkyaMjF"
   },
   "outputs": [],
   "source": [
    "# Move target column 'Book-Rating' as the last column in the df\n",
    "\n",
    "move_target = 'Book-Rating'\n",
    "df = df[[col for col in df.columns if col!= move_target] + [move_target]]"
   ]
  },
  {
   "cell_type": "code",
   "execution_count": null,
   "metadata": {
    "colab": {
     "base_uri": "https://localhost:8080/",
     "height": 206
    },
    "executionInfo": {
     "elapsed": 11,
     "status": "ok",
     "timestamp": 1711406281482,
     "user": {
      "displayName": "Supriya Vasagiri",
      "userId": "15627917195817140532"
     },
     "user_tz": 420
    },
    "id": "Gm4-oDX4ftH_",
    "outputId": "60d307ca-c9af-4bb2-d962-227b62cebd0b"
   },
   "outputs": [
    {
     "data": {
      "application/vnd.google.colaboratory.intrinsic+json": {
       "type": "dataframe",
       "variable_name": "df"
      },
      "text/html": [
       "\n",
       "  <div id=\"df-a2cd29e5-bbd5-4d4b-88fe-86eef00caf8a\" class=\"colab-df-container\">\n",
       "    <div>\n",
       "<style scoped>\n",
       "    .dataframe tbody tr th:only-of-type {\n",
       "        vertical-align: middle;\n",
       "    }\n",
       "\n",
       "    .dataframe tbody tr th {\n",
       "        vertical-align: top;\n",
       "    }\n",
       "\n",
       "    .dataframe thead th {\n",
       "        text-align: right;\n",
       "    }\n",
       "</style>\n",
       "<table border=\"1\" class=\"dataframe\">\n",
       "  <thead>\n",
       "    <tr style=\"text-align: right;\">\n",
       "      <th></th>\n",
       "      <th>User-ID</th>\n",
       "      <th>ISBN</th>\n",
       "      <th>Age</th>\n",
       "      <th>Book-Title</th>\n",
       "      <th>Book-Author</th>\n",
       "      <th>Year-Of-Publication</th>\n",
       "      <th>Publisher</th>\n",
       "      <th>Country</th>\n",
       "      <th>Book-Rating</th>\n",
       "    </tr>\n",
       "  </thead>\n",
       "  <tbody>\n",
       "    <tr>\n",
       "      <th>0</th>\n",
       "      <td>276725</td>\n",
       "      <td>034545104X</td>\n",
       "      <td>NaN</td>\n",
       "      <td>Flesh Tones: A Novel</td>\n",
       "      <td>M. J. Rose</td>\n",
       "      <td>2002.0</td>\n",
       "      <td>Ballantine Books</td>\n",
       "      <td>usa</td>\n",
       "      <td>0</td>\n",
       "    </tr>\n",
       "    <tr>\n",
       "      <th>1</th>\n",
       "      <td>2313</td>\n",
       "      <td>034545104X</td>\n",
       "      <td>23.0</td>\n",
       "      <td>Flesh Tones: A Novel</td>\n",
       "      <td>M. J. Rose</td>\n",
       "      <td>2002.0</td>\n",
       "      <td>Ballantine Books</td>\n",
       "      <td>usa</td>\n",
       "      <td>5</td>\n",
       "    </tr>\n",
       "    <tr>\n",
       "      <th>2</th>\n",
       "      <td>6543</td>\n",
       "      <td>034545104X</td>\n",
       "      <td>34.0</td>\n",
       "      <td>Flesh Tones: A Novel</td>\n",
       "      <td>M. J. Rose</td>\n",
       "      <td>2002.0</td>\n",
       "      <td>Ballantine Books</td>\n",
       "      <td>usa</td>\n",
       "      <td>0</td>\n",
       "    </tr>\n",
       "    <tr>\n",
       "      <th>3</th>\n",
       "      <td>8680</td>\n",
       "      <td>034545104X</td>\n",
       "      <td>2.0</td>\n",
       "      <td>Flesh Tones: A Novel</td>\n",
       "      <td>M. J. Rose</td>\n",
       "      <td>2002.0</td>\n",
       "      <td>Ballantine Books</td>\n",
       "      <td>usa</td>\n",
       "      <td>5</td>\n",
       "    </tr>\n",
       "    <tr>\n",
       "      <th>4</th>\n",
       "      <td>10314</td>\n",
       "      <td>034545104X</td>\n",
       "      <td>NaN</td>\n",
       "      <td>Flesh Tones: A Novel</td>\n",
       "      <td>M. J. Rose</td>\n",
       "      <td>2002.0</td>\n",
       "      <td>Ballantine Books</td>\n",
       "      <td>usa</td>\n",
       "      <td>9</td>\n",
       "    </tr>\n",
       "  </tbody>\n",
       "</table>\n",
       "</div>\n",
       "    <div class=\"colab-df-buttons\">\n",
       "\n",
       "  <div class=\"colab-df-container\">\n",
       "    <button class=\"colab-df-convert\" onclick=\"convertToInteractive('df-a2cd29e5-bbd5-4d4b-88fe-86eef00caf8a')\"\n",
       "            title=\"Convert this dataframe to an interactive table.\"\n",
       "            style=\"display:none;\">\n",
       "\n",
       "  <svg xmlns=\"http://www.w3.org/2000/svg\" height=\"24px\" viewBox=\"0 -960 960 960\">\n",
       "    <path d=\"M120-120v-720h720v720H120Zm60-500h600v-160H180v160Zm220 220h160v-160H400v160Zm0 220h160v-160H400v160ZM180-400h160v-160H180v160Zm440 0h160v-160H620v160ZM180-180h160v-160H180v160Zm440 0h160v-160H620v160Z\"/>\n",
       "  </svg>\n",
       "    </button>\n",
       "\n",
       "  <style>\n",
       "    .colab-df-container {\n",
       "      display:flex;\n",
       "      gap: 12px;\n",
       "    }\n",
       "\n",
       "    .colab-df-convert {\n",
       "      background-color: #E8F0FE;\n",
       "      border: none;\n",
       "      border-radius: 50%;\n",
       "      cursor: pointer;\n",
       "      display: none;\n",
       "      fill: #1967D2;\n",
       "      height: 32px;\n",
       "      padding: 0 0 0 0;\n",
       "      width: 32px;\n",
       "    }\n",
       "\n",
       "    .colab-df-convert:hover {\n",
       "      background-color: #E2EBFA;\n",
       "      box-shadow: 0px 1px 2px rgba(60, 64, 67, 0.3), 0px 1px 3px 1px rgba(60, 64, 67, 0.15);\n",
       "      fill: #174EA6;\n",
       "    }\n",
       "\n",
       "    .colab-df-buttons div {\n",
       "      margin-bottom: 4px;\n",
       "    }\n",
       "\n",
       "    [theme=dark] .colab-df-convert {\n",
       "      background-color: #3B4455;\n",
       "      fill: #D2E3FC;\n",
       "    }\n",
       "\n",
       "    [theme=dark] .colab-df-convert:hover {\n",
       "      background-color: #434B5C;\n",
       "      box-shadow: 0px 1px 3px 1px rgba(0, 0, 0, 0.15);\n",
       "      filter: drop-shadow(0px 1px 2px rgba(0, 0, 0, 0.3));\n",
       "      fill: #FFFFFF;\n",
       "    }\n",
       "  </style>\n",
       "\n",
       "    <script>\n",
       "      const buttonEl =\n",
       "        document.querySelector('#df-a2cd29e5-bbd5-4d4b-88fe-86eef00caf8a button.colab-df-convert');\n",
       "      buttonEl.style.display =\n",
       "        google.colab.kernel.accessAllowed ? 'block' : 'none';\n",
       "\n",
       "      async function convertToInteractive(key) {\n",
       "        const element = document.querySelector('#df-a2cd29e5-bbd5-4d4b-88fe-86eef00caf8a');\n",
       "        const dataTable =\n",
       "          await google.colab.kernel.invokeFunction('convertToInteractive',\n",
       "                                                    [key], {});\n",
       "        if (!dataTable) return;\n",
       "\n",
       "        const docLinkHtml = 'Like what you see? Visit the ' +\n",
       "          '<a target=\"_blank\" href=https://colab.research.google.com/notebooks/data_table.ipynb>data table notebook</a>'\n",
       "          + ' to learn more about interactive tables.';\n",
       "        element.innerHTML = '';\n",
       "        dataTable['output_type'] = 'display_data';\n",
       "        await google.colab.output.renderOutput(dataTable, element);\n",
       "        const docLink = document.createElement('div');\n",
       "        docLink.innerHTML = docLinkHtml;\n",
       "        element.appendChild(docLink);\n",
       "      }\n",
       "    </script>\n",
       "  </div>\n",
       "\n",
       "\n",
       "<div id=\"df-bf156e5a-3f12-4eb4-a66a-328021a20c30\">\n",
       "  <button class=\"colab-df-quickchart\" onclick=\"quickchart('df-bf156e5a-3f12-4eb4-a66a-328021a20c30')\"\n",
       "            title=\"Suggest charts\"\n",
       "            style=\"display:none;\">\n",
       "\n",
       "<svg xmlns=\"http://www.w3.org/2000/svg\" height=\"24px\"viewBox=\"0 0 24 24\"\n",
       "     width=\"24px\">\n",
       "    <g>\n",
       "        <path d=\"M19 3H5c-1.1 0-2 .9-2 2v14c0 1.1.9 2 2 2h14c1.1 0 2-.9 2-2V5c0-1.1-.9-2-2-2zM9 17H7v-7h2v7zm4 0h-2V7h2v10zm4 0h-2v-4h2v4z\"/>\n",
       "    </g>\n",
       "</svg>\n",
       "  </button>\n",
       "\n",
       "<style>\n",
       "  .colab-df-quickchart {\n",
       "      --bg-color: #E8F0FE;\n",
       "      --fill-color: #1967D2;\n",
       "      --hover-bg-color: #E2EBFA;\n",
       "      --hover-fill-color: #174EA6;\n",
       "      --disabled-fill-color: #AAA;\n",
       "      --disabled-bg-color: #DDD;\n",
       "  }\n",
       "\n",
       "  [theme=dark] .colab-df-quickchart {\n",
       "      --bg-color: #3B4455;\n",
       "      --fill-color: #D2E3FC;\n",
       "      --hover-bg-color: #434B5C;\n",
       "      --hover-fill-color: #FFFFFF;\n",
       "      --disabled-bg-color: #3B4455;\n",
       "      --disabled-fill-color: #666;\n",
       "  }\n",
       "\n",
       "  .colab-df-quickchart {\n",
       "    background-color: var(--bg-color);\n",
       "    border: none;\n",
       "    border-radius: 50%;\n",
       "    cursor: pointer;\n",
       "    display: none;\n",
       "    fill: var(--fill-color);\n",
       "    height: 32px;\n",
       "    padding: 0;\n",
       "    width: 32px;\n",
       "  }\n",
       "\n",
       "  .colab-df-quickchart:hover {\n",
       "    background-color: var(--hover-bg-color);\n",
       "    box-shadow: 0 1px 2px rgba(60, 64, 67, 0.3), 0 1px 3px 1px rgba(60, 64, 67, 0.15);\n",
       "    fill: var(--button-hover-fill-color);\n",
       "  }\n",
       "\n",
       "  .colab-df-quickchart-complete:disabled,\n",
       "  .colab-df-quickchart-complete:disabled:hover {\n",
       "    background-color: var(--disabled-bg-color);\n",
       "    fill: var(--disabled-fill-color);\n",
       "    box-shadow: none;\n",
       "  }\n",
       "\n",
       "  .colab-df-spinner {\n",
       "    border: 2px solid var(--fill-color);\n",
       "    border-color: transparent;\n",
       "    border-bottom-color: var(--fill-color);\n",
       "    animation:\n",
       "      spin 1s steps(1) infinite;\n",
       "  }\n",
       "\n",
       "  @keyframes spin {\n",
       "    0% {\n",
       "      border-color: transparent;\n",
       "      border-bottom-color: var(--fill-color);\n",
       "      border-left-color: var(--fill-color);\n",
       "    }\n",
       "    20% {\n",
       "      border-color: transparent;\n",
       "      border-left-color: var(--fill-color);\n",
       "      border-top-color: var(--fill-color);\n",
       "    }\n",
       "    30% {\n",
       "      border-color: transparent;\n",
       "      border-left-color: var(--fill-color);\n",
       "      border-top-color: var(--fill-color);\n",
       "      border-right-color: var(--fill-color);\n",
       "    }\n",
       "    40% {\n",
       "      border-color: transparent;\n",
       "      border-right-color: var(--fill-color);\n",
       "      border-top-color: var(--fill-color);\n",
       "    }\n",
       "    60% {\n",
       "      border-color: transparent;\n",
       "      border-right-color: var(--fill-color);\n",
       "    }\n",
       "    80% {\n",
       "      border-color: transparent;\n",
       "      border-right-color: var(--fill-color);\n",
       "      border-bottom-color: var(--fill-color);\n",
       "    }\n",
       "    90% {\n",
       "      border-color: transparent;\n",
       "      border-bottom-color: var(--fill-color);\n",
       "    }\n",
       "  }\n",
       "</style>\n",
       "\n",
       "  <script>\n",
       "    async function quickchart(key) {\n",
       "      const quickchartButtonEl =\n",
       "        document.querySelector('#' + key + ' button');\n",
       "      quickchartButtonEl.disabled = true;  // To prevent multiple clicks.\n",
       "      quickchartButtonEl.classList.add('colab-df-spinner');\n",
       "      try {\n",
       "        const charts = await google.colab.kernel.invokeFunction(\n",
       "            'suggestCharts', [key], {});\n",
       "      } catch (error) {\n",
       "        console.error('Error during call to suggestCharts:', error);\n",
       "      }\n",
       "      quickchartButtonEl.classList.remove('colab-df-spinner');\n",
       "      quickchartButtonEl.classList.add('colab-df-quickchart-complete');\n",
       "    }\n",
       "    (() => {\n",
       "      let quickchartButtonEl =\n",
       "        document.querySelector('#df-bf156e5a-3f12-4eb4-a66a-328021a20c30 button');\n",
       "      quickchartButtonEl.style.display =\n",
       "        google.colab.kernel.accessAllowed ? 'block' : 'none';\n",
       "    })();\n",
       "  </script>\n",
       "</div>\n",
       "    </div>\n",
       "  </div>\n"
      ],
      "text/plain": [
       "   User-ID        ISBN   Age            Book-Title Book-Author  \\\n",
       "0   276725  034545104X   NaN  Flesh Tones: A Novel  M. J. Rose   \n",
       "1     2313  034545104X  23.0  Flesh Tones: A Novel  M. J. Rose   \n",
       "2     6543  034545104X  34.0  Flesh Tones: A Novel  M. J. Rose   \n",
       "3     8680  034545104X   2.0  Flesh Tones: A Novel  M. J. Rose   \n",
       "4    10314  034545104X   NaN  Flesh Tones: A Novel  M. J. Rose   \n",
       "\n",
       "   Year-Of-Publication         Publisher Country  Book-Rating  \n",
       "0               2002.0  Ballantine Books     usa            0  \n",
       "1               2002.0  Ballantine Books     usa            5  \n",
       "2               2002.0  Ballantine Books     usa            0  \n",
       "3               2002.0  Ballantine Books     usa            5  \n",
       "4               2002.0  Ballantine Books     usa            9  "
      ]
     },
     "execution_count": 26,
     "metadata": {},
     "output_type": "execute_result"
    }
   ],
   "source": [
    "df.head()"
   ]
  },
  {
   "cell_type": "code",
   "execution_count": null,
   "metadata": {
    "colab": {
     "base_uri": "https://localhost:8080/"
    },
    "executionInfo": {
     "elapsed": 1035,
     "status": "ok",
     "timestamp": 1711406282511,
     "user": {
      "displayName": "Supriya Vasagiri",
      "userId": "15627917195817140532"
     },
     "user_tz": 420
    },
    "id": "gmTY7JjUjVOh",
    "outputId": "25a50c11-6184-4cf4-d4c0-30deb34f8568"
   },
   "outputs": [
    {
     "name": "stdout",
     "output_type": "stream",
     "text": [
      "<class 'pandas.core.frame.DataFrame'>\n",
      "Int64Index: 1031136 entries, 0 to 1031135\n",
      "Data columns (total 9 columns):\n",
      " #   Column               Non-Null Count    Dtype  \n",
      "---  ------               --------------    -----  \n",
      " 0   User-ID              1031136 non-null  int64  \n",
      " 1   ISBN                 1031136 non-null  object \n",
      " 2   Age                  753301 non-null   float64\n",
      " 3   Book-Title           1031136 non-null  object \n",
      " 4   Book-Author          1031135 non-null  object \n",
      " 5   Year-Of-Publication  1031132 non-null  float64\n",
      " 6   Publisher            1031134 non-null  object \n",
      " 7   Country              1031136 non-null  object \n",
      " 8   Book-Rating          1031136 non-null  int64  \n",
      "dtypes: float64(2), int64(2), object(5)\n",
      "memory usage: 78.7+ MB\n"
     ]
    }
   ],
   "source": [
    "df.info()"
   ]
  },
  {
   "cell_type": "code",
   "execution_count": null,
   "metadata": {
    "colab": {
     "base_uri": "https://localhost:8080/",
     "height": 174
    },
    "executionInfo": {
     "elapsed": 351,
     "status": "ok",
     "timestamp": 1711406282855,
     "user": {
      "displayName": "Supriya Vasagiri",
      "userId": "15627917195817140532"
     },
     "user_tz": 420
    },
    "id": "0bebQpKnjVry",
    "outputId": "b43eb45e-0d9f-4782-e582-8a8cde334b6e"
   },
   "outputs": [
    {
     "data": {
      "application/vnd.google.colaboratory.intrinsic+json": {
       "summary": "{\n  \"name\": \"df\",\n  \"rows\": 4,\n  \"fields\": [\n    {\n      \"column\": \"count\",\n      \"properties\": {\n        \"dtype\": \"number\",\n        \"std\": 138916.83334613076,\n        \"min\": 753301.0,\n        \"max\": 1031136.0,\n        \"num_unique_values\": 3,\n        \"samples\": [\n          1031136.0,\n          753301.0,\n          1031132.0\n        ],\n        \"semantic_type\": \"\",\n        \"description\": \"\"\n      }\n    },\n    {\n      \"column\": \"mean\",\n      \"properties\": {\n        \"dtype\": \"number\",\n        \"std\": 69968.54135413024,\n        \"min\": 2.839051298761754,\n        \"max\": 140594.5035058421,\n        \"num_unique_values\": 4,\n        \"samples\": [\n          37.39764848314286,\n          2.839051298761754,\n          140594.5035058421\n        ],\n        \"semantic_type\": \"\",\n        \"description\": \"\"\n      }\n    },\n    {\n      \"column\": \"std\",\n      \"properties\": {\n        \"dtype\": \"number\",\n        \"std\": 40220.95705656081,\n        \"min\": 3.8541566351752397,\n        \"max\": 80524.65903947077,\n        \"num_unique_values\": 4,\n        \"samples\": [\n          14.098254229789886,\n          3.8541566351752397,\n          80524.65903947077\n        ],\n        \"semantic_type\": \"\",\n        \"description\": \"\"\n      }\n    },\n    {\n      \"column\": \"min\",\n      \"properties\": {\n        \"dtype\": \"number\",\n        \"std\": 1.0,\n        \"min\": 0.0,\n        \"max\": 2.0,\n        \"num_unique_values\": 2,\n        \"samples\": [\n          0.0,\n          2.0\n        ],\n        \"semantic_type\": \"\",\n        \"description\": \"\"\n      }\n    },\n    {\n      \"column\": \"25%\",\n      \"properties\": {\n        \"dtype\": \"number\",\n        \"std\": 34883.299570377036,\n        \"min\": 0.0,\n        \"max\": 70415.0,\n        \"num_unique_values\": 4,\n        \"samples\": [\n          28.0,\n          0.0\n        ],\n        \"semantic_type\": \"\",\n        \"description\": \"\"\n      }\n    },\n    {\n      \"column\": \"50%\",\n      \"properties\": {\n        \"dtype\": \"number\",\n        \"std\": 70272.53065269055,\n        \"min\": 0.0,\n        \"max\": 141210.0,\n        \"num_unique_values\": 4,\n        \"samples\": [\n          35.0,\n          0.0\n        ],\n        \"semantic_type\": \"\",\n        \"description\": \"\"\n      }\n    },\n    {\n      \"column\": \"75%\",\n      \"properties\": {\n        \"dtype\": \"number\",\n        \"std\": 105374.9475140241,\n        \"min\": 7.0,\n        \"max\": 211426.0,\n        \"num_unique_values\": 4,\n        \"samples\": [\n          45.0,\n          7.0\n        ],\n        \"semantic_type\": \"\",\n        \"description\": \"\"\n      }\n    },\n    {\n      \"column\": \"max\",\n      \"properties\": {\n        \"dtype\": \"number\",\n        \"std\": 139045.9878493443,\n        \"min\": 10.0,\n        \"max\": 278854.0,\n        \"num_unique_values\": 4,\n        \"samples\": [\n          244.0,\n          10.0\n        ],\n        \"semantic_type\": \"\",\n        \"description\": \"\"\n      }\n    }\n  ]\n}",
       "type": "dataframe"
      },
      "text/html": [
       "\n",
       "  <div id=\"df-f2782263-5494-4676-9735-526bfefed55e\" class=\"colab-df-container\">\n",
       "    <div>\n",
       "<style scoped>\n",
       "    .dataframe tbody tr th:only-of-type {\n",
       "        vertical-align: middle;\n",
       "    }\n",
       "\n",
       "    .dataframe tbody tr th {\n",
       "        vertical-align: top;\n",
       "    }\n",
       "\n",
       "    .dataframe thead th {\n",
       "        text-align: right;\n",
       "    }\n",
       "</style>\n",
       "<table border=\"1\" class=\"dataframe\">\n",
       "  <thead>\n",
       "    <tr style=\"text-align: right;\">\n",
       "      <th></th>\n",
       "      <th>count</th>\n",
       "      <th>mean</th>\n",
       "      <th>std</th>\n",
       "      <th>min</th>\n",
       "      <th>25%</th>\n",
       "      <th>50%</th>\n",
       "      <th>75%</th>\n",
       "      <th>max</th>\n",
       "    </tr>\n",
       "  </thead>\n",
       "  <tbody>\n",
       "    <tr>\n",
       "      <th>User-ID</th>\n",
       "      <td>1031136.0</td>\n",
       "      <td>140594.503506</td>\n",
       "      <td>80524.659039</td>\n",
       "      <td>2.0</td>\n",
       "      <td>70415.0</td>\n",
       "      <td>141210.0</td>\n",
       "      <td>211426.0</td>\n",
       "      <td>278854.0</td>\n",
       "    </tr>\n",
       "    <tr>\n",
       "      <th>Age</th>\n",
       "      <td>753301.0</td>\n",
       "      <td>37.397648</td>\n",
       "      <td>14.098254</td>\n",
       "      <td>0.0</td>\n",
       "      <td>28.0</td>\n",
       "      <td>35.0</td>\n",
       "      <td>45.0</td>\n",
       "      <td>244.0</td>\n",
       "    </tr>\n",
       "    <tr>\n",
       "      <th>Year-Of-Publication</th>\n",
       "      <td>1031132.0</td>\n",
       "      <td>1968.194915</td>\n",
       "      <td>231.101484</td>\n",
       "      <td>0.0</td>\n",
       "      <td>1992.0</td>\n",
       "      <td>1997.0</td>\n",
       "      <td>2001.0</td>\n",
       "      <td>2050.0</td>\n",
       "    </tr>\n",
       "    <tr>\n",
       "      <th>Book-Rating</th>\n",
       "      <td>1031136.0</td>\n",
       "      <td>2.839051</td>\n",
       "      <td>3.854157</td>\n",
       "      <td>0.0</td>\n",
       "      <td>0.0</td>\n",
       "      <td>0.0</td>\n",
       "      <td>7.0</td>\n",
       "      <td>10.0</td>\n",
       "    </tr>\n",
       "  </tbody>\n",
       "</table>\n",
       "</div>\n",
       "    <div class=\"colab-df-buttons\">\n",
       "\n",
       "  <div class=\"colab-df-container\">\n",
       "    <button class=\"colab-df-convert\" onclick=\"convertToInteractive('df-f2782263-5494-4676-9735-526bfefed55e')\"\n",
       "            title=\"Convert this dataframe to an interactive table.\"\n",
       "            style=\"display:none;\">\n",
       "\n",
       "  <svg xmlns=\"http://www.w3.org/2000/svg\" height=\"24px\" viewBox=\"0 -960 960 960\">\n",
       "    <path d=\"M120-120v-720h720v720H120Zm60-500h600v-160H180v160Zm220 220h160v-160H400v160Zm0 220h160v-160H400v160ZM180-400h160v-160H180v160Zm440 0h160v-160H620v160ZM180-180h160v-160H180v160Zm440 0h160v-160H620v160Z\"/>\n",
       "  </svg>\n",
       "    </button>\n",
       "\n",
       "  <style>\n",
       "    .colab-df-container {\n",
       "      display:flex;\n",
       "      gap: 12px;\n",
       "    }\n",
       "\n",
       "    .colab-df-convert {\n",
       "      background-color: #E8F0FE;\n",
       "      border: none;\n",
       "      border-radius: 50%;\n",
       "      cursor: pointer;\n",
       "      display: none;\n",
       "      fill: #1967D2;\n",
       "      height: 32px;\n",
       "      padding: 0 0 0 0;\n",
       "      width: 32px;\n",
       "    }\n",
       "\n",
       "    .colab-df-convert:hover {\n",
       "      background-color: #E2EBFA;\n",
       "      box-shadow: 0px 1px 2px rgba(60, 64, 67, 0.3), 0px 1px 3px 1px rgba(60, 64, 67, 0.15);\n",
       "      fill: #174EA6;\n",
       "    }\n",
       "\n",
       "    .colab-df-buttons div {\n",
       "      margin-bottom: 4px;\n",
       "    }\n",
       "\n",
       "    [theme=dark] .colab-df-convert {\n",
       "      background-color: #3B4455;\n",
       "      fill: #D2E3FC;\n",
       "    }\n",
       "\n",
       "    [theme=dark] .colab-df-convert:hover {\n",
       "      background-color: #434B5C;\n",
       "      box-shadow: 0px 1px 3px 1px rgba(0, 0, 0, 0.15);\n",
       "      filter: drop-shadow(0px 1px 2px rgba(0, 0, 0, 0.3));\n",
       "      fill: #FFFFFF;\n",
       "    }\n",
       "  </style>\n",
       "\n",
       "    <script>\n",
       "      const buttonEl =\n",
       "        document.querySelector('#df-f2782263-5494-4676-9735-526bfefed55e button.colab-df-convert');\n",
       "      buttonEl.style.display =\n",
       "        google.colab.kernel.accessAllowed ? 'block' : 'none';\n",
       "\n",
       "      async function convertToInteractive(key) {\n",
       "        const element = document.querySelector('#df-f2782263-5494-4676-9735-526bfefed55e');\n",
       "        const dataTable =\n",
       "          await google.colab.kernel.invokeFunction('convertToInteractive',\n",
       "                                                    [key], {});\n",
       "        if (!dataTable) return;\n",
       "\n",
       "        const docLinkHtml = 'Like what you see? Visit the ' +\n",
       "          '<a target=\"_blank\" href=https://colab.research.google.com/notebooks/data_table.ipynb>data table notebook</a>'\n",
       "          + ' to learn more about interactive tables.';\n",
       "        element.innerHTML = '';\n",
       "        dataTable['output_type'] = 'display_data';\n",
       "        await google.colab.output.renderOutput(dataTable, element);\n",
       "        const docLink = document.createElement('div');\n",
       "        docLink.innerHTML = docLinkHtml;\n",
       "        element.appendChild(docLink);\n",
       "      }\n",
       "    </script>\n",
       "  </div>\n",
       "\n",
       "\n",
       "<div id=\"df-666bffe3-44c2-487a-bcc4-dd3eb7d71b5f\">\n",
       "  <button class=\"colab-df-quickchart\" onclick=\"quickchart('df-666bffe3-44c2-487a-bcc4-dd3eb7d71b5f')\"\n",
       "            title=\"Suggest charts\"\n",
       "            style=\"display:none;\">\n",
       "\n",
       "<svg xmlns=\"http://www.w3.org/2000/svg\" height=\"24px\"viewBox=\"0 0 24 24\"\n",
       "     width=\"24px\">\n",
       "    <g>\n",
       "        <path d=\"M19 3H5c-1.1 0-2 .9-2 2v14c0 1.1.9 2 2 2h14c1.1 0 2-.9 2-2V5c0-1.1-.9-2-2-2zM9 17H7v-7h2v7zm4 0h-2V7h2v10zm4 0h-2v-4h2v4z\"/>\n",
       "    </g>\n",
       "</svg>\n",
       "  </button>\n",
       "\n",
       "<style>\n",
       "  .colab-df-quickchart {\n",
       "      --bg-color: #E8F0FE;\n",
       "      --fill-color: #1967D2;\n",
       "      --hover-bg-color: #E2EBFA;\n",
       "      --hover-fill-color: #174EA6;\n",
       "      --disabled-fill-color: #AAA;\n",
       "      --disabled-bg-color: #DDD;\n",
       "  }\n",
       "\n",
       "  [theme=dark] .colab-df-quickchart {\n",
       "      --bg-color: #3B4455;\n",
       "      --fill-color: #D2E3FC;\n",
       "      --hover-bg-color: #434B5C;\n",
       "      --hover-fill-color: #FFFFFF;\n",
       "      --disabled-bg-color: #3B4455;\n",
       "      --disabled-fill-color: #666;\n",
       "  }\n",
       "\n",
       "  .colab-df-quickchart {\n",
       "    background-color: var(--bg-color);\n",
       "    border: none;\n",
       "    border-radius: 50%;\n",
       "    cursor: pointer;\n",
       "    display: none;\n",
       "    fill: var(--fill-color);\n",
       "    height: 32px;\n",
       "    padding: 0;\n",
       "    width: 32px;\n",
       "  }\n",
       "\n",
       "  .colab-df-quickchart:hover {\n",
       "    background-color: var(--hover-bg-color);\n",
       "    box-shadow: 0 1px 2px rgba(60, 64, 67, 0.3), 0 1px 3px 1px rgba(60, 64, 67, 0.15);\n",
       "    fill: var(--button-hover-fill-color);\n",
       "  }\n",
       "\n",
       "  .colab-df-quickchart-complete:disabled,\n",
       "  .colab-df-quickchart-complete:disabled:hover {\n",
       "    background-color: var(--disabled-bg-color);\n",
       "    fill: var(--disabled-fill-color);\n",
       "    box-shadow: none;\n",
       "  }\n",
       "\n",
       "  .colab-df-spinner {\n",
       "    border: 2px solid var(--fill-color);\n",
       "    border-color: transparent;\n",
       "    border-bottom-color: var(--fill-color);\n",
       "    animation:\n",
       "      spin 1s steps(1) infinite;\n",
       "  }\n",
       "\n",
       "  @keyframes spin {\n",
       "    0% {\n",
       "      border-color: transparent;\n",
       "      border-bottom-color: var(--fill-color);\n",
       "      border-left-color: var(--fill-color);\n",
       "    }\n",
       "    20% {\n",
       "      border-color: transparent;\n",
       "      border-left-color: var(--fill-color);\n",
       "      border-top-color: var(--fill-color);\n",
       "    }\n",
       "    30% {\n",
       "      border-color: transparent;\n",
       "      border-left-color: var(--fill-color);\n",
       "      border-top-color: var(--fill-color);\n",
       "      border-right-color: var(--fill-color);\n",
       "    }\n",
       "    40% {\n",
       "      border-color: transparent;\n",
       "      border-right-color: var(--fill-color);\n",
       "      border-top-color: var(--fill-color);\n",
       "    }\n",
       "    60% {\n",
       "      border-color: transparent;\n",
       "      border-right-color: var(--fill-color);\n",
       "    }\n",
       "    80% {\n",
       "      border-color: transparent;\n",
       "      border-right-color: var(--fill-color);\n",
       "      border-bottom-color: var(--fill-color);\n",
       "    }\n",
       "    90% {\n",
       "      border-color: transparent;\n",
       "      border-bottom-color: var(--fill-color);\n",
       "    }\n",
       "  }\n",
       "</style>\n",
       "\n",
       "  <script>\n",
       "    async function quickchart(key) {\n",
       "      const quickchartButtonEl =\n",
       "        document.querySelector('#' + key + ' button');\n",
       "      quickchartButtonEl.disabled = true;  // To prevent multiple clicks.\n",
       "      quickchartButtonEl.classList.add('colab-df-spinner');\n",
       "      try {\n",
       "        const charts = await google.colab.kernel.invokeFunction(\n",
       "            'suggestCharts', [key], {});\n",
       "      } catch (error) {\n",
       "        console.error('Error during call to suggestCharts:', error);\n",
       "      }\n",
       "      quickchartButtonEl.classList.remove('colab-df-spinner');\n",
       "      quickchartButtonEl.classList.add('colab-df-quickchart-complete');\n",
       "    }\n",
       "    (() => {\n",
       "      let quickchartButtonEl =\n",
       "        document.querySelector('#df-666bffe3-44c2-487a-bcc4-dd3eb7d71b5f button');\n",
       "      quickchartButtonEl.style.display =\n",
       "        google.colab.kernel.accessAllowed ? 'block' : 'none';\n",
       "    })();\n",
       "  </script>\n",
       "</div>\n",
       "    </div>\n",
       "  </div>\n"
      ],
      "text/plain": [
       "                         count           mean           std  min      25%  \\\n",
       "User-ID              1031136.0  140594.503506  80524.659039  2.0  70415.0   \n",
       "Age                   753301.0      37.397648     14.098254  0.0     28.0   \n",
       "Year-Of-Publication  1031132.0    1968.194915    231.101484  0.0   1992.0   \n",
       "Book-Rating          1031136.0       2.839051      3.854157  0.0      0.0   \n",
       "\n",
       "                          50%       75%       max  \n",
       "User-ID              141210.0  211426.0  278854.0  \n",
       "Age                      35.0      45.0     244.0  \n",
       "Year-Of-Publication    1997.0    2001.0    2050.0  \n",
       "Book-Rating               0.0       7.0      10.0  "
      ]
     },
     "execution_count": 28,
     "metadata": {},
     "output_type": "execute_result"
    }
   ],
   "source": [
    "df.describe().T"
   ]
  },
  {
   "cell_type": "markdown",
   "metadata": {
    "id": "253EerWhkQbg"
   },
   "source": [
    "Age has a minimum value of 0 and maximum of 244 indicating the presence of outliers."
   ]
  },
  {
   "cell_type": "markdown",
   "metadata": {
    "id": "xK4M5vt2w3_3"
   },
   "source": [
    "### Outlier Treatment for Age using IQR Method"
   ]
  },
  {
   "cell_type": "code",
   "execution_count": null,
   "metadata": {
    "colab": {
     "base_uri": "https://localhost:8080/",
     "height": 657
    },
    "executionInfo": {
     "elapsed": 624,
     "status": "ok",
     "timestamp": 1711406283476,
     "user": {
      "displayName": "Supriya Vasagiri",
      "userId": "15627917195817140532"
     },
     "user_tz": 420
    },
    "id": "IX693-C3h3kj",
    "outputId": "cf538c0b-3d98-4814-ce27-010fe375331b"
   },
   "outputs": [
    {
     "name": "stderr",
     "output_type": "stream",
     "text": [
      "<ipython-input-29-b974e9590443>:5: UserWarning: \n",
      "\n",
      "`distplot` is a deprecated function and will be removed in seaborn v0.14.0.\n",
      "\n",
      "Please adapt your code to use either `displot` (a figure-level function with\n",
      "similar flexibility) or `histplot` (an axes-level function for histograms).\n",
      "\n",
      "For a guide to updating your code to use the new functions, please see\n",
      "https://gist.github.com/mwaskom/de44147ed2974457ad6372750bbe5751\n",
      "\n",
      "  sns.distplot(df['Age'], kde=False)\n"
     ]
    },
    {
     "data": {
      "text/plain": [
       "<Axes: xlabel='Age'>"
      ]
     },
     "execution_count": 29,
     "metadata": {},
     "output_type": "execute_result"
    },
    {
     "data": {
      "image/png": "[encoded data removed]",
      "text/plain": [
       "<Figure size 640x480 with 1 Axes>"
      ]
     },
     "metadata": {},
     "output_type": "display_data"
    }
   ],
   "source": [
    "import seaborn as sns\n",
    "\n",
    "# Distribution for Age\n",
    "\n",
    "sns.distplot(df['Age'], kde=False)"
   ]
  },
  {
   "cell_type": "code",
   "execution_count": null,
   "metadata": {
    "colab": {
     "base_uri": "https://localhost:8080/",
     "height": 462
    },
    "executionInfo": {
     "elapsed": 1551,
     "status": "ok",
     "timestamp": 1711406285023,
     "user": {
      "displayName": "Supriya Vasagiri",
      "userId": "15627917195817140532"
     },
     "user_tz": 420
    },
    "id": "nVKacQgbjlHz",
    "outputId": "2dd8e573-1cf8-41ab-e4c0-f423f6f9c742"
   },
   "outputs": [
    {
     "data": {
      "text/plain": [
       "<Axes: >"
      ]
     },
     "execution_count": 30,
     "metadata": {},
     "output_type": "execute_result"
    },
    {
     "data": {
      "image/png": "[encoded data removed]",
      "text/plain": [
       "<Figure size 1000x500 with 1 Axes>"
      ]
     },
     "metadata": {},
     "output_type": "display_data"
    }
   ],
   "source": [
    "# Boxplot for Age\n",
    "\n",
    "import matplotlib.pyplot as plt\n",
    "\n",
    "plt.figure(figsize=(10,5))\n",
    "df.boxplot('Age', vert=False)"
   ]
  },
  {
   "cell_type": "code",
   "execution_count": null,
   "metadata": {
    "id": "AqreZf2gmJmI"
   },
   "outputs": [],
   "source": [
    "\"\"\"\n",
    "Function iterates over a list of numeric columns and calculates the quantiles, IQR and upper and lower limits\n",
    "\"\"\"\n",
    "\n",
    "def calculate_iqr_limits(df, cols):\n",
    "  iqr_limits_dict = {}\n",
    "  for col in cols:\n",
    "    # min and max\n",
    "    min = df[col].min()\n",
    "    max = df[col].max()\n",
    "\n",
    "    # Quantiles\n",
    "    Q1 = df[col].quantile(0.25)\n",
    "    Q2 = df[col].quantile(0.5) # median\n",
    "    Q3 = df[col].quantile(0.75)\n",
    "\n",
    "    # IQR range\n",
    "    IQR = round((Q3 - Q1),2)\n",
    "\n",
    "    # upper and lower limits\n",
    "    lower_iqr_limit = round((Q1 - (1.5*IQR)),2)\n",
    "    upper_iqr_limit = round((Q3 + (1.5*IQR)),2)\n",
    "\n",
    "    iqr_limits_dict[col] = {'IQR':IQR, 'min': min, 'LowerLimit':lower_iqr_limit, 'Q1':Q1, 'Q2':Q2, 'Q3':Q3, 'max': max, 'UpperLimit':upper_iqr_limit}\n",
    "\n",
    "  return iqr_limits_dict"
   ]
  },
  {
   "cell_type": "code",
   "execution_count": null,
   "metadata": {
    "id": "vKZsnMmfmKsu"
   },
   "outputs": [],
   "source": [
    "\"\"\"\n",
    "Function iterates over a list of numerical columns and checks and prints outliers based on the IQR calculation perfomed above\n",
    "\"\"\"\n",
    "\n",
    "def print_outliers(df, iqr_limit_dict):\n",
    "  outliers_dict = {}\n",
    "  outliers_total_count = 0\n",
    "  rows_w_ouliers = set() # if multiple outliers found at the same row index, the row index will only be appended once\n",
    "\n",
    "  for col, iqr_limits in iqr_limit_dict.items():\n",
    "    # Get outliers in the column\n",
    "    outliers_series = df[(df[col] < iqr_limits['LowerLimit']) | (df[col] > iqr_limits['UpperLimit'])][col]\n",
    "\n",
    "    if not outliers_series.empty:\n",
    "      outliers_tuple = [(index, value) for index, value in outliers_series.iteritems()]\n",
    "      outliers_dict[col] = outliers_tuple\n",
    "\n",
    "    # Get the count of outliers in the column\n",
    "    outliers_count = len(outliers_series)\n",
    "    outliers_total_count += outliers_count\n",
    "\n",
    "    if outliers_count > 0:\n",
    "      rows_w_ouliers.update(outliers_series.index)\n",
    "      print(f'Outliers for column {col}:')\n",
    "      print(outliers_series)\n",
    "      print(f'Count of outliers in {col}: {outliers_count} \\n')\n",
    "\n",
    "  print(f'Total count of outliers: {outliers_total_count}')\n",
    "  print(f'Count of rows with at least one outlier: {len(rows_w_ouliers)}')"
   ]
  },
  {
   "cell_type": "code",
   "execution_count": null,
   "metadata": {
    "id": "vG5IQO0-mMzM"
   },
   "outputs": [],
   "source": [
    "numeric_col = ['Age']"
   ]
  },
  {
   "cell_type": "code",
   "execution_count": null,
   "metadata": {
    "colab": {
     "base_uri": "https://localhost:8080/"
    },
    "executionInfo": {
     "elapsed": 17,
     "status": "ok",
     "timestamp": 1711406285024,
     "user": {
      "displayName": "Supriya Vasagiri",
      "userId": "15627917195817140532"
     },
     "user_tz": 420
    },
    "id": "i0bHXuqFmPit",
    "outputId": "c6668c42-6bad-421c-dc24-8bad06923b80"
   },
   "outputs": [
    {
     "data": {
      "text/plain": [
       "{'Age': {'IQR': 17.0,\n",
       "  'min': 0.0,\n",
       "  'LowerLimit': 2.5,\n",
       "  'Q1': 28.0,\n",
       "  'Q2': 35.0,\n",
       "  'Q3': 45.0,\n",
       "  'max': 244.0,\n",
       "  'UpperLimit': 70.5}}"
      ]
     },
     "execution_count": 34,
     "metadata": {},
     "output_type": "execute_result"
    }
   ],
   "source": [
    "calculated_limits_dict = calculate_iqr_limits(df, numeric_col)\n",
    "calculated_limits_dict"
   ]
  },
  {
   "cell_type": "code",
   "execution_count": null,
   "metadata": {
    "colab": {
     "base_uri": "https://localhost:8080/"
    },
    "executionInfo": {
     "elapsed": 13,
     "status": "ok",
     "timestamp": 1711406285024,
     "user": {
      "displayName": "Supriya Vasagiri",
      "userId": "15627917195817140532"
     },
     "user_tz": 420
    },
    "id": "bhskuvrrmw_u",
    "outputId": "b982a856-f449-4805-90ab-26b106d2e9a8"
   },
   "outputs": [
    {
     "data": {
      "text/plain": [
       "array([  0.,   1.,   2.,  71.,  72.,  73.,  74.,  75.,  76.,  77.,  78.,\n",
       "        79.,  80.,  81.,  82.,  83.,  84.,  85.,  86.,  89.,  90.,  92.,\n",
       "        93.,  94.,  95.,  96.,  97.,  98.,  99., 100., 101., 103., 104.,\n",
       "       105., 107., 108., 109., 114., 116., 118., 123., 124., 127., 128.,\n",
       "       132., 133., 136., 138., 140., 141., 146., 147., 148., 151., 152.,\n",
       "       156., 157., 168., 199., 200., 201., 204., 209., 212., 219., 220.,\n",
       "       223., 226., 228., 229., 237., 239., 244.])"
      ]
     },
     "execution_count": 35,
     "metadata": {},
     "output_type": "execute_result"
    }
   ],
   "source": [
    "# Get the values between upper limit and maximum for Car_Age\n",
    "condition_Age = df[(df['Age'] >= 0) & (df['Age'] < 2.5) | (df['Age'] > 70.5) & (df['Age'] <= 244)]['Age']\n",
    "\n",
    "# Sort and get the unique value\n",
    "sorted_values_Car_Age = condition_Age.sort_values().unique()\n",
    "sorted_values_Car_Age"
   ]
  },
  {
   "cell_type": "code",
   "execution_count": null,
   "metadata": {
    "colab": {
     "base_uri": "https://localhost:8080/"
    },
    "executionInfo": {
     "elapsed": 11,
     "status": "ok",
     "timestamp": 1711406285024,
     "user": {
      "displayName": "Supriya Vasagiri",
      "userId": "15627917195817140532"
     },
     "user_tz": 420
    },
    "id": "if1gu0Mpu8a-",
    "outputId": "195572f7-f643-4cf0-a655-3c13d9bf95b2"
   },
   "outputs": [
    {
     "data": {
      "text/plain": [
       "(1023166, 9)"
      ]
     },
     "execution_count": 36,
     "metadata": {},
     "output_type": "execute_result"
    }
   ],
   "source": [
    "# Drop outlier values for Age column - 7,970 records dropped\n",
    "\n",
    "age_ouliers_condition = ((df['Age'] >= 0) & (df['Age'] < 2.5)) | ((df['Age'] > 70.5) & (df['Age'] <= 244))\n",
    "\n",
    "df = df.drop(df[age_ouliers_condition].index)\n",
    "df.reset_index(drop=True, inplace=True)\n",
    "\n",
    "df.shape"
   ]
  },
  {
   "cell_type": "code",
   "execution_count": null,
   "metadata": {
    "colab": {
     "base_uri": "https://localhost:8080/",
     "height": 657
    },
    "executionInfo": {
     "elapsed": 13,
     "status": "ok",
     "timestamp": 1711406285377,
     "user": {
      "displayName": "Supriya Vasagiri",
      "userId": "15627917195817140532"
     },
     "user_tz": 420
    },
    "id": "teJg4uqvwjoB",
    "outputId": "d3996bf7-efab-419d-ef13-d33f3e78fe94"
   },
   "outputs": [
    {
     "name": "stderr",
     "output_type": "stream",
     "text": [
      "<ipython-input-37-fe5028fe1da6>:3: UserWarning: \n",
      "\n",
      "`distplot` is a deprecated function and will be removed in seaborn v0.14.0.\n",
      "\n",
      "Please adapt your code to use either `displot` (a figure-level function with\n",
      "similar flexibility) or `histplot` (an axes-level function for histograms).\n",
      "\n",
      "For a guide to updating your code to use the new functions, please see\n",
      "https://gist.github.com/mwaskom/de44147ed2974457ad6372750bbe5751\n",
      "\n",
      "  sns.distplot(df['Age'], kde=False)\n"
     ]
    },
    {
     "data": {
      "text/plain": [
       "<Axes: xlabel='Age'>"
      ]
     },
     "execution_count": 37,
     "metadata": {},
     "output_type": "execute_result"
    },
    {
     "data": {
      "image/png": "[encoded data removed]",
      "text/plain": [
       "<Figure size 640x480 with 1 Axes>"
      ]
     },
     "metadata": {},
     "output_type": "display_data"
    }
   ],
   "source": [
    "# Distribution for Age after outlier treatment\n",
    "\n",
    "sns.distplot(df['Age'], kde=False)"
   ]
  },
  {
   "cell_type": "code",
   "execution_count": null,
   "metadata": {
    "colab": {
     "base_uri": "https://localhost:8080/",
     "height": 462
    },
    "executionInfo": {
     "elapsed": 1345,
     "status": "ok",
     "timestamp": 1711406286714,
     "user": {
      "displayName": "Supriya Vasagiri",
      "userId": "15627917195817140532"
     },
     "user_tz": 420
    },
    "id": "7bLy6qAWwkMd",
    "outputId": "c361a576-30b8-48cf-82f1-1e4e98c23653"
   },
   "outputs": [
    {
     "data": {
      "text/plain": [
       "<Axes: >"
      ]
     },
     "execution_count": 38,
     "metadata": {},
     "output_type": "execute_result"
    },
    {
     "data": {
      "image/png": "[encoded data removed]",
      "text/plain": [
       "<Figure size 1000x500 with 1 Axes>"
      ]
     },
     "metadata": {},
     "output_type": "display_data"
    }
   ],
   "source": [
    "# Boxplot for Age after outlier treatment\n",
    "\n",
    "import matplotlib.pyplot as plt\n",
    "\n",
    "plt.figure(figsize=(10,5))\n",
    "df.boxplot('Age', vert=False)"
   ]
  },
  {
   "cell_type": "markdown",
   "metadata": {
    "id": "QpuaW7yAzIBG"
   },
   "source": [
    "### Missing Value Imputation"
   ]
  },
  {
   "cell_type": "code",
   "execution_count": null,
   "metadata": {
    "id": "IkhsQC-ezcE-"
   },
   "outputs": [],
   "source": [
    "\"\"\"\n",
    "Function to get the columns with missing values and their percentages alone\n",
    "\"\"\"\n",
    "\n",
    "def get_missing_val_count_df(df):\n",
    "    missing_values = df.isnull().sum()\n",
    "    missing_df = pd.DataFrame({'Feature_with_missing_value': missing_values.index, 'Missing_values': missing_values.values,\n",
    "                               'Percentage_missing_values': (missing_values.values/len(df))*100})\n",
    "    return missing_df[missing_df['Missing_values'] > 0]"
   ]
  },
  {
   "cell_type": "code",
   "execution_count": null,
   "metadata": {
    "colab": {
     "base_uri": "https://localhost:8080/",
     "height": 174
    },
    "executionInfo": {
     "elapsed": 1051,
     "status": "ok",
     "timestamp": 1711406287762,
     "user": {
      "displayName": "Supriya Vasagiri",
      "userId": "15627917195817140532"
     },
     "user_tz": 420
    },
    "id": "AihGD6Z4zeNa",
    "outputId": "acd86e21-6d77-4182-fbaa-0fed390bbcc7"
   },
   "outputs": [
    {
     "data": {
      "application/vnd.google.colaboratory.intrinsic+json": {
       "summary": "{\n  \"name\": \"get_missing_val_count_df(df)\",\n  \"rows\": 4,\n  \"fields\": [\n    {\n      \"column\": \"Feature_with_missing_value\",\n      \"properties\": {\n        \"dtype\": \"string\",\n        \"num_unique_values\": 4,\n        \"samples\": [\n          \"Book-Author\",\n          \"Publisher\",\n          \"Age\"\n        ],\n        \"semantic_type\": \"\",\n        \"description\": \"\"\n      }\n    },\n    {\n      \"column\": \"Missing_values\",\n      \"properties\": {\n        \"dtype\": \"number\",\n        \"std\": 138916,\n        \"min\": 1,\n        \"max\": 277835,\n        \"num_unique_values\": 4,\n        \"samples\": [\n          1,\n          2,\n          277835\n        ],\n        \"semantic_type\": \"\",\n        \"description\": \"\"\n      }\n    },\n    {\n      \"column\": \"Percentage_missing_values\",\n      \"properties\": {\n        \"dtype\": \"number\",\n        \"std\": 13.577106094116912,\n        \"min\": 9.773585126949096e-05,\n        \"max\": 27.154440237459028,\n        \"num_unique_values\": 4,\n        \"samples\": [\n          9.773585126949096e-05,\n          0.00019547170253898192,\n          27.154440237459028\n        ],\n        \"semantic_type\": \"\",\n        \"description\": \"\"\n      }\n    }\n  ]\n}",
       "type": "dataframe"
      },
      "text/html": [
       "\n",
       "  <div id=\"df-613ca4b6-0105-41ff-b76a-7740e9152d85\" class=\"colab-df-container\">\n",
       "    <div>\n",
       "<style scoped>\n",
       "    .dataframe tbody tr th:only-of-type {\n",
       "        vertical-align: middle;\n",
       "    }\n",
       "\n",
       "    .dataframe tbody tr th {\n",
       "        vertical-align: top;\n",
       "    }\n",
       "\n",
       "    .dataframe thead th {\n",
       "        text-align: right;\n",
       "    }\n",
       "</style>\n",
       "<table border=\"1\" class=\"dataframe\">\n",
       "  <thead>\n",
       "    <tr style=\"text-align: right;\">\n",
       "      <th></th>\n",
       "      <th>Feature_with_missing_value</th>\n",
       "      <th>Missing_values</th>\n",
       "      <th>Percentage_missing_values</th>\n",
       "    </tr>\n",
       "  </thead>\n",
       "  <tbody>\n",
       "    <tr>\n",
       "      <th>2</th>\n",
       "      <td>Age</td>\n",
       "      <td>277835</td>\n",
       "      <td>27.154440</td>\n",
       "    </tr>\n",
       "    <tr>\n",
       "      <th>4</th>\n",
       "      <td>Book-Author</td>\n",
       "      <td>1</td>\n",
       "      <td>0.000098</td>\n",
       "    </tr>\n",
       "    <tr>\n",
       "      <th>5</th>\n",
       "      <td>Year-Of-Publication</td>\n",
       "      <td>4</td>\n",
       "      <td>0.000391</td>\n",
       "    </tr>\n",
       "    <tr>\n",
       "      <th>6</th>\n",
       "      <td>Publisher</td>\n",
       "      <td>2</td>\n",
       "      <td>0.000195</td>\n",
       "    </tr>\n",
       "  </tbody>\n",
       "</table>\n",
       "</div>\n",
       "    <div class=\"colab-df-buttons\">\n",
       "\n",
       "  <div class=\"colab-df-container\">\n",
       "    <button class=\"colab-df-convert\" onclick=\"convertToInteractive('df-613ca4b6-0105-41ff-b76a-7740e9152d85')\"\n",
       "            title=\"Convert this dataframe to an interactive table.\"\n",
       "            style=\"display:none;\">\n",
       "\n",
       "  <svg xmlns=\"http://www.w3.org/2000/svg\" height=\"24px\" viewBox=\"0 -960 960 960\">\n",
       "    <path d=\"M120-120v-720h720v720H120Zm60-500h600v-160H180v160Zm220 220h160v-160H400v160Zm0 220h160v-160H400v160ZM180-400h160v-160H180v160Zm440 0h160v-160H620v160ZM180-180h160v-160H180v160Zm440 0h160v-160H620v160Z\"/>\n",
       "  </svg>\n",
       "    </button>\n",
       "\n",
       "  <style>\n",
       "    .colab-df-container {\n",
       "      display:flex;\n",
       "      gap: 12px;\n",
       "    }\n",
       "\n",
       "    .colab-df-convert {\n",
       "      background-color: #E8F0FE;\n",
       "      border: none;\n",
       "      border-radius: 50%;\n",
       "      cursor: pointer;\n",
       "      display: none;\n",
       "      fill: #1967D2;\n",
       "      height: 32px;\n",
       "      padding: 0 0 0 0;\n",
       "      width: 32px;\n",
       "    }\n",
       "\n",
       "    .colab-df-convert:hover {\n",
       "      background-color: #E2EBFA;\n",
       "      box-shadow: 0px 1px 2px rgba(60, 64, 67, 0.3), 0px 1px 3px 1px rgba(60, 64, 67, 0.15);\n",
       "      fill: #174EA6;\n",
       "    }\n",
       "\n",
       "    .colab-df-buttons div {\n",
       "      margin-bottom: 4px;\n",
       "    }\n",
       "\n",
       "    [theme=dark] .colab-df-convert {\n",
       "      background-color: #3B4455;\n",
       "      fill: #D2E3FC;\n",
       "    }\n",
       "\n",
       "    [theme=dark] .colab-df-convert:hover {\n",
       "      background-color: #434B5C;\n",
       "      box-shadow: 0px 1px 3px 1px rgba(0, 0, 0, 0.15);\n",
       "      filter: drop-shadow(0px 1px 2px rgba(0, 0, 0, 0.3));\n",
       "      fill: #FFFFFF;\n",
       "    }\n",
       "  </style>\n",
       "\n",
       "    <script>\n",
       "      const buttonEl =\n",
       "        document.querySelector('#df-613ca4b6-0105-41ff-b76a-7740e9152d85 button.colab-df-convert');\n",
       "      buttonEl.style.display =\n",
       "        google.colab.kernel.accessAllowed ? 'block' : 'none';\n",
       "\n",
       "      async function convertToInteractive(key) {\n",
       "        const element = document.querySelector('#df-613ca4b6-0105-41ff-b76a-7740e9152d85');\n",
       "        const dataTable =\n",
       "          await google.colab.kernel.invokeFunction('convertToInteractive',\n",
       "                                                    [key], {});\n",
       "        if (!dataTable) return;\n",
       "\n",
       "        const docLinkHtml = 'Like what you see? Visit the ' +\n",
       "          '<a target=\"_blank\" href=https://colab.research.google.com/notebooks/data_table.ipynb>data table notebook</a>'\n",
       "          + ' to learn more about interactive tables.';\n",
       "        element.innerHTML = '';\n",
       "        dataTable['output_type'] = 'display_data';\n",
       "        await google.colab.output.renderOutput(dataTable, element);\n",
       "        const docLink = document.createElement('div');\n",
       "        docLink.innerHTML = docLinkHtml;\n",
       "        element.appendChild(docLink);\n",
       "      }\n",
       "    </script>\n",
       "  </div>\n",
       "\n",
       "\n",
       "<div id=\"df-e7950b78-7fce-484d-99c5-d995e9ab21cd\">\n",
       "  <button class=\"colab-df-quickchart\" onclick=\"quickchart('df-e7950b78-7fce-484d-99c5-d995e9ab21cd')\"\n",
       "            title=\"Suggest charts\"\n",
       "            style=\"display:none;\">\n",
       "\n",
       "<svg xmlns=\"http://www.w3.org/2000/svg\" height=\"24px\"viewBox=\"0 0 24 24\"\n",
       "     width=\"24px\">\n",
       "    <g>\n",
       "        <path d=\"M19 3H5c-1.1 0-2 .9-2 2v14c0 1.1.9 2 2 2h14c1.1 0 2-.9 2-2V5c0-1.1-.9-2-2-2zM9 17H7v-7h2v7zm4 0h-2V7h2v10zm4 0h-2v-4h2v4z\"/>\n",
       "    </g>\n",
       "</svg>\n",
       "  </button>\n",
       "\n",
       "<style>\n",
       "  .colab-df-quickchart {\n",
       "      --bg-color: #E8F0FE;\n",
       "      --fill-color: #1967D2;\n",
       "      --hover-bg-color: #E2EBFA;\n",
       "      --hover-fill-color: #174EA6;\n",
       "      --disabled-fill-color: #AAA;\n",
       "      --disabled-bg-color: #DDD;\n",
       "  }\n",
       "\n",
       "  [theme=dark] .colab-df-quickchart {\n",
       "      --bg-color: #3B4455;\n",
       "      --fill-color: #D2E3FC;\n",
       "      --hover-bg-color: #434B5C;\n",
       "      --hover-fill-color: #FFFFFF;\n",
       "      --disabled-bg-color: #3B4455;\n",
       "      --disabled-fill-color: #666;\n",
       "  }\n",
       "\n",
       "  .colab-df-quickchart {\n",
       "    background-color: var(--bg-color);\n",
       "    border: none;\n",
       "    border-radius: 50%;\n",
       "    cursor: pointer;\n",
       "    display: none;\n",
       "    fill: var(--fill-color);\n",
       "    height: 32px;\n",
       "    padding: 0;\n",
       "    width: 32px;\n",
       "  }\n",
       "\n",
       "  .colab-df-quickchart:hover {\n",
       "    background-color: var(--hover-bg-color);\n",
       "    box-shadow: 0 1px 2px rgba(60, 64, 67, 0.3), 0 1px 3px 1px rgba(60, 64, 67, 0.15);\n",
       "    fill: var(--button-hover-fill-color);\n",
       "  }\n",
       "\n",
       "  .colab-df-quickchart-complete:disabled,\n",
       "  .colab-df-quickchart-complete:disabled:hover {\n",
       "    background-color: var(--disabled-bg-color);\n",
       "    fill: var(--disabled-fill-color);\n",
       "    box-shadow: none;\n",
       "  }\n",
       "\n",
       "  .colab-df-spinner {\n",
       "    border: 2px solid var(--fill-color);\n",
       "    border-color: transparent;\n",
       "    border-bottom-color: var(--fill-color);\n",
       "    animation:\n",
       "      spin 1s steps(1) infinite;\n",
       "  }\n",
       "\n",
       "  @keyframes spin {\n",
       "    0% {\n",
       "      border-color: transparent;\n",
       "      border-bottom-color: var(--fill-color);\n",
       "      border-left-color: var(--fill-color);\n",
       "    }\n",
       "    20% {\n",
       "      border-color: transparent;\n",
       "      border-left-color: var(--fill-color);\n",
       "      border-top-color: var(--fill-color);\n",
       "    }\n",
       "    30% {\n",
       "      border-color: transparent;\n",
       "      border-left-color: var(--fill-color);\n",
       "      border-top-color: var(--fill-color);\n",
       "      border-right-color: var(--fill-color);\n",
       "    }\n",
       "    40% {\n",
       "      border-color: transparent;\n",
       "      border-right-color: var(--fill-color);\n",
       "      border-top-color: var(--fill-color);\n",
       "    }\n",
       "    60% {\n",
       "      border-color: transparent;\n",
       "      border-right-color: var(--fill-color);\n",
       "    }\n",
       "    80% {\n",
       "      border-color: transparent;\n",
       "      border-right-color: var(--fill-color);\n",
       "      border-bottom-color: var(--fill-color);\n",
       "    }\n",
       "    90% {\n",
       "      border-color: transparent;\n",
       "      border-bottom-color: var(--fill-color);\n",
       "    }\n",
       "  }\n",
       "</style>\n",
       "\n",
       "  <script>\n",
       "    async function quickchart(key) {\n",
       "      const quickchartButtonEl =\n",
       "        document.querySelector('#' + key + ' button');\n",
       "      quickchartButtonEl.disabled = true;  // To prevent multiple clicks.\n",
       "      quickchartButtonEl.classList.add('colab-df-spinner');\n",
       "      try {\n",
       "        const charts = await google.colab.kernel.invokeFunction(\n",
       "            'suggestCharts', [key], {});\n",
       "      } catch (error) {\n",
       "        console.error('Error during call to suggestCharts:', error);\n",
       "      }\n",
       "      quickchartButtonEl.classList.remove('colab-df-spinner');\n",
       "      quickchartButtonEl.classList.add('colab-df-quickchart-complete');\n",
       "    }\n",
       "    (() => {\n",
       "      let quickchartButtonEl =\n",
       "        document.querySelector('#df-e7950b78-7fce-484d-99c5-d995e9ab21cd button');\n",
       "      quickchartButtonEl.style.display =\n",
       "        google.colab.kernel.accessAllowed ? 'block' : 'none';\n",
       "    })();\n",
       "  </script>\n",
       "</div>\n",
       "    </div>\n",
       "  </div>\n"
      ],
      "text/plain": [
       "  Feature_with_missing_value  Missing_values  Percentage_missing_values\n",
       "2                        Age          277835                  27.154440\n",
       "4                Book-Author               1                   0.000098\n",
       "5        Year-Of-Publication               4                   0.000391\n",
       "6                  Publisher               2                   0.000195"
      ]
     },
     "execution_count": 40,
     "metadata": {},
     "output_type": "execute_result"
    }
   ],
   "source": [
    "get_missing_val_count_df(df)"
   ]
  },
  {
   "cell_type": "code",
   "execution_count": null,
   "metadata": {
    "colab": {
     "base_uri": "https://localhost:8080/",
     "height": 174
    },
    "executionInfo": {
     "elapsed": 11,
     "status": "ok",
     "timestamp": 1711406287762,
     "user": {
      "displayName": "Supriya Vasagiri",
      "userId": "15627917195817140532"
     },
     "user_tz": 420
    },
    "id": "XdiM_YN5zwXM",
    "outputId": "178e908f-12ca-4fd3-9765-58b87af47a15"
   },
   "outputs": [
    {
     "data": {
      "application/vnd.google.colaboratory.intrinsic+json": {
       "summary": "{\n  \"name\": \"df\",\n  \"rows\": 4,\n  \"fields\": [\n    {\n      \"column\": \"count\",\n      \"properties\": {\n        \"dtype\": \"number\",\n        \"std\": 138916.83334613076,\n        \"min\": 745331.0,\n        \"max\": 1023166.0,\n        \"num_unique_values\": 3,\n        \"samples\": [\n          1023166.0,\n          745331.0,\n          1023162.0\n        ],\n        \"semantic_type\": \"\",\n        \"description\": \"\"\n      }\n    },\n    {\n      \"column\": \"mean\",\n      \"properties\": {\n        \"dtype\": \"number\",\n        \"std\": 69964.33978283004,\n        \"min\": 2.836634524603046,\n        \"max\": 140585.9335542815,\n        \"num_unique_values\": 4,\n        \"samples\": [\n          36.85318200906711,\n          2.836634524603046,\n          140585.9335542815\n        ],\n        \"semantic_type\": \"\",\n        \"description\": \"\"\n      }\n    },\n    {\n      \"column\": \"std\",\n      \"properties\": {\n        \"dtype\": \"number\",\n        \"std\": 40207.72414275615,\n        \"min\": 3.8536386587491758,\n        \"max\": 80497.34495954581,\n        \"num_unique_values\": 4,\n        \"samples\": [\n          11.812047366597373,\n          3.8536386587491758,\n          80497.34495954581\n        ],\n        \"semantic_type\": \"\",\n        \"description\": \"\"\n      }\n    },\n    {\n      \"column\": \"min\",\n      \"properties\": {\n        \"dtype\": \"number\",\n        \"std\": 1.5,\n        \"min\": 0.0,\n        \"max\": 3.0,\n        \"num_unique_values\": 3,\n        \"samples\": [\n          2.0,\n          3.0,\n          0.0\n        ],\n        \"semantic_type\": \"\",\n        \"description\": \"\"\n      }\n    },\n    {\n      \"column\": \"25%\",\n      \"properties\": {\n        \"dtype\": \"number\",\n        \"std\": 34876.302072467486,\n        \"min\": 0.0,\n        \"max\": 70401.0,\n        \"num_unique_values\": 4,\n        \"samples\": [\n          28.0,\n          0.0,\n          70401.0\n        ],\n        \"semantic_type\": \"\",\n        \"description\": \"\"\n      }\n    },\n    {\n      \"column\": \"50%\",\n      \"properties\": {\n        \"dtype\": \"number\",\n        \"std\": 70269.03096137017,\n        \"min\": 0.0,\n        \"max\": 141203.0,\n        \"num_unique_values\": 4,\n        \"samples\": [\n          35.0,\n          0.0,\n          141203.0\n        ],\n        \"semantic_type\": \"\",\n        \"description\": \"\"\n      }\n    },\n    {\n      \"column\": \"75%\",\n      \"properties\": {\n        \"dtype\": \"number\",\n        \"std\": 105374.9475140241,\n        \"min\": 7.0,\n        \"max\": 211426.0,\n        \"num_unique_values\": 4,\n        \"samples\": [\n          45.0,\n          7.0,\n          211426.0\n        ],\n        \"semantic_type\": \"\",\n        \"description\": \"\"\n      }\n    },\n    {\n      \"column\": \"max\",\n      \"properties\": {\n        \"dtype\": \"number\",\n        \"std\": 139075.22994408457,\n        \"min\": 10.0,\n        \"max\": 278854.0,\n        \"num_unique_values\": 4,\n        \"samples\": [\n          70.0,\n          10.0,\n          278854.0\n        ],\n        \"semantic_type\": \"\",\n        \"description\": \"\"\n      }\n    }\n  ]\n}",
       "type": "dataframe"
      },
      "text/html": [
       "\n",
       "  <div id=\"df-bb80ec33-2385-4537-9127-267acc6833de\" class=\"colab-df-container\">\n",
       "    <div>\n",
       "<style scoped>\n",
       "    .dataframe tbody tr th:only-of-type {\n",
       "        vertical-align: middle;\n",
       "    }\n",
       "\n",
       "    .dataframe tbody tr th {\n",
       "        vertical-align: top;\n",
       "    }\n",
       "\n",
       "    .dataframe thead th {\n",
       "        text-align: right;\n",
       "    }\n",
       "</style>\n",
       "<table border=\"1\" class=\"dataframe\">\n",
       "  <thead>\n",
       "    <tr style=\"text-align: right;\">\n",
       "      <th></th>\n",
       "      <th>count</th>\n",
       "      <th>mean</th>\n",
       "      <th>std</th>\n",
       "      <th>min</th>\n",
       "      <th>25%</th>\n",
       "      <th>50%</th>\n",
       "      <th>75%</th>\n",
       "      <th>max</th>\n",
       "    </tr>\n",
       "  </thead>\n",
       "  <tbody>\n",
       "    <tr>\n",
       "      <th>User-ID</th>\n",
       "      <td>1023166.0</td>\n",
       "      <td>140585.933554</td>\n",
       "      <td>80497.344960</td>\n",
       "      <td>2.0</td>\n",
       "      <td>70401.0</td>\n",
       "      <td>141203.0</td>\n",
       "      <td>211426.0</td>\n",
       "      <td>278854.0</td>\n",
       "    </tr>\n",
       "    <tr>\n",
       "      <th>Age</th>\n",
       "      <td>745331.0</td>\n",
       "      <td>36.853182</td>\n",
       "      <td>11.812047</td>\n",
       "      <td>3.0</td>\n",
       "      <td>28.0</td>\n",
       "      <td>35.0</td>\n",
       "      <td>45.0</td>\n",
       "      <td>70.0</td>\n",
       "    </tr>\n",
       "    <tr>\n",
       "      <th>Year-Of-Publication</th>\n",
       "      <td>1023162.0</td>\n",
       "      <td>1968.255688</td>\n",
       "      <td>230.849785</td>\n",
       "      <td>0.0</td>\n",
       "      <td>1992.0</td>\n",
       "      <td>1997.0</td>\n",
       "      <td>2001.0</td>\n",
       "      <td>2050.0</td>\n",
       "    </tr>\n",
       "    <tr>\n",
       "      <th>Book-Rating</th>\n",
       "      <td>1023166.0</td>\n",
       "      <td>2.836635</td>\n",
       "      <td>3.853639</td>\n",
       "      <td>0.0</td>\n",
       "      <td>0.0</td>\n",
       "      <td>0.0</td>\n",
       "      <td>7.0</td>\n",
       "      <td>10.0</td>\n",
       "    </tr>\n",
       "  </tbody>\n",
       "</table>\n",
       "</div>\n",
       "    <div class=\"colab-df-buttons\">\n",
       "\n",
       "  <div class=\"colab-df-container\">\n",
       "    <button class=\"colab-df-convert\" onclick=\"convertToInteractive('df-bb80ec33-2385-4537-9127-267acc6833de')\"\n",
       "            title=\"Convert this dataframe to an interactive table.\"\n",
       "            style=\"display:none;\">\n",
       "\n",
       "  <svg xmlns=\"http://www.w3.org/2000/svg\" height=\"24px\" viewBox=\"0 -960 960 960\">\n",
       "    <path d=\"M120-120v-720h720v720H120Zm60-500h600v-160H180v160Zm220 220h160v-160H400v160Zm0 220h160v-160H400v160ZM180-400h160v-160H180v160Zm440 0h160v-160H620v160ZM180-180h160v-160H180v160Zm440 0h160v-160H620v160Z\"/>\n",
       "  </svg>\n",
       "    </button>\n",
       "\n",
       "  <style>\n",
       "    .colab-df-container {\n",
       "      display:flex;\n",
       "      gap: 12px;\n",
       "    }\n",
       "\n",
       "    .colab-df-convert {\n",
       "      background-color: #E8F0FE;\n",
       "      border: none;\n",
       "      border-radius: 50%;\n",
       "      cursor: pointer;\n",
       "      display: none;\n",
       "      fill: #1967D2;\n",
       "      height: 32px;\n",
       "      padding: 0 0 0 0;\n",
       "      width: 32px;\n",
       "    }\n",
       "\n",
       "    .colab-df-convert:hover {\n",
       "      background-color: #E2EBFA;\n",
       "      box-shadow: 0px 1px 2px rgba(60, 64, 67, 0.3), 0px 1px 3px 1px rgba(60, 64, 67, 0.15);\n",
       "      fill: #174EA6;\n",
       "    }\n",
       "\n",
       "    .colab-df-buttons div {\n",
       "      margin-bottom: 4px;\n",
       "    }\n",
       "\n",
       "    [theme=dark] .colab-df-convert {\n",
       "      background-color: #3B4455;\n",
       "      fill: #D2E3FC;\n",
       "    }\n",
       "\n",
       "    [theme=dark] .colab-df-convert:hover {\n",
       "      background-color: #434B5C;\n",
       "      box-shadow: 0px 1px 3px 1px rgba(0, 0, 0, 0.15);\n",
       "      filter: drop-shadow(0px 1px 2px rgba(0, 0, 0, 0.3));\n",
       "      fill: #FFFFFF;\n",
       "    }\n",
       "  </style>\n",
       "\n",
       "    <script>\n",
       "      const buttonEl =\n",
       "        document.querySelector('#df-bb80ec33-2385-4537-9127-267acc6833de button.colab-df-convert');\n",
       "      buttonEl.style.display =\n",
       "        google.colab.kernel.accessAllowed ? 'block' : 'none';\n",
       "\n",
       "      async function convertToInteractive(key) {\n",
       "        const element = document.querySelector('#df-bb80ec33-2385-4537-9127-267acc6833de');\n",
       "        const dataTable =\n",
       "          await google.colab.kernel.invokeFunction('convertToInteractive',\n",
       "                                                    [key], {});\n",
       "        if (!dataTable) return;\n",
       "\n",
       "        const docLinkHtml = 'Like what you see? Visit the ' +\n",
       "          '<a target=\"_blank\" href=https://colab.research.google.com/notebooks/data_table.ipynb>data table notebook</a>'\n",
       "          + ' to learn more about interactive tables.';\n",
       "        element.innerHTML = '';\n",
       "        dataTable['output_type'] = 'display_data';\n",
       "        await google.colab.output.renderOutput(dataTable, element);\n",
       "        const docLink = document.createElement('div');\n",
       "        docLink.innerHTML = docLinkHtml;\n",
       "        element.appendChild(docLink);\n",
       "      }\n",
       "    </script>\n",
       "  </div>\n",
       "\n",
       "\n",
       "<div id=\"df-4ddab60f-940c-4256-aa1e-b02171c8bc5a\">\n",
       "  <button class=\"colab-df-quickchart\" onclick=\"quickchart('df-4ddab60f-940c-4256-aa1e-b02171c8bc5a')\"\n",
       "            title=\"Suggest charts\"\n",
       "            style=\"display:none;\">\n",
       "\n",
       "<svg xmlns=\"http://www.w3.org/2000/svg\" height=\"24px\"viewBox=\"0 0 24 24\"\n",
       "     width=\"24px\">\n",
       "    <g>\n",
       "        <path d=\"M19 3H5c-1.1 0-2 .9-2 2v14c0 1.1.9 2 2 2h14c1.1 0 2-.9 2-2V5c0-1.1-.9-2-2-2zM9 17H7v-7h2v7zm4 0h-2V7h2v10zm4 0h-2v-4h2v4z\"/>\n",
       "    </g>\n",
       "</svg>\n",
       "  </button>\n",
       "\n",
       "<style>\n",
       "  .colab-df-quickchart {\n",
       "      --bg-color: #E8F0FE;\n",
       "      --fill-color: #1967D2;\n",
       "      --hover-bg-color: #E2EBFA;\n",
       "      --hover-fill-color: #174EA6;\n",
       "      --disabled-fill-color: #AAA;\n",
       "      --disabled-bg-color: #DDD;\n",
       "  }\n",
       "\n",
       "  [theme=dark] .colab-df-quickchart {\n",
       "      --bg-color: #3B4455;\n",
       "      --fill-color: #D2E3FC;\n",
       "      --hover-bg-color: #434B5C;\n",
       "      --hover-fill-color: #FFFFFF;\n",
       "      --disabled-bg-color: #3B4455;\n",
       "      --disabled-fill-color: #666;\n",
       "  }\n",
       "\n",
       "  .colab-df-quickchart {\n",
       "    background-color: var(--bg-color);\n",
       "    border: none;\n",
       "    border-radius: 50%;\n",
       "    cursor: pointer;\n",
       "    display: none;\n",
       "    fill: var(--fill-color);\n",
       "    height: 32px;\n",
       "    padding: 0;\n",
       "    width: 32px;\n",
       "  }\n",
       "\n",
       "  .colab-df-quickchart:hover {\n",
       "    background-color: var(--hover-bg-color);\n",
       "    box-shadow: 0 1px 2px rgba(60, 64, 67, 0.3), 0 1px 3px 1px rgba(60, 64, 67, 0.15);\n",
       "    fill: var(--button-hover-fill-color);\n",
       "  }\n",
       "\n",
       "  .colab-df-quickchart-complete:disabled,\n",
       "  .colab-df-quickchart-complete:disabled:hover {\n",
       "    background-color: var(--disabled-bg-color);\n",
       "    fill: var(--disabled-fill-color);\n",
       "    box-shadow: none;\n",
       "  }\n",
       "\n",
       "  .colab-df-spinner {\n",
       "    border: 2px solid var(--fill-color);\n",
       "    border-color: transparent;\n",
       "    border-bottom-color: var(--fill-color);\n",
       "    animation:\n",
       "      spin 1s steps(1) infinite;\n",
       "  }\n",
       "\n",
       "  @keyframes spin {\n",
       "    0% {\n",
       "      border-color: transparent;\n",
       "      border-bottom-color: var(--fill-color);\n",
       "      border-left-color: var(--fill-color);\n",
       "    }\n",
       "    20% {\n",
       "      border-color: transparent;\n",
       "      border-left-color: var(--fill-color);\n",
       "      border-top-color: var(--fill-color);\n",
       "    }\n",
       "    30% {\n",
       "      border-color: transparent;\n",
       "      border-left-color: var(--fill-color);\n",
       "      border-top-color: var(--fill-color);\n",
       "      border-right-color: var(--fill-color);\n",
       "    }\n",
       "    40% {\n",
       "      border-color: transparent;\n",
       "      border-right-color: var(--fill-color);\n",
       "      border-top-color: var(--fill-color);\n",
       "    }\n",
       "    60% {\n",
       "      border-color: transparent;\n",
       "      border-right-color: var(--fill-color);\n",
       "    }\n",
       "    80% {\n",
       "      border-color: transparent;\n",
       "      border-right-color: var(--fill-color);\n",
       "      border-bottom-color: var(--fill-color);\n",
       "    }\n",
       "    90% {\n",
       "      border-color: transparent;\n",
       "      border-bottom-color: var(--fill-color);\n",
       "    }\n",
       "  }\n",
       "</style>\n",
       "\n",
       "  <script>\n",
       "    async function quickchart(key) {\n",
       "      const quickchartButtonEl =\n",
       "        document.querySelector('#' + key + ' button');\n",
       "      quickchartButtonEl.disabled = true;  // To prevent multiple clicks.\n",
       "      quickchartButtonEl.classList.add('colab-df-spinner');\n",
       "      try {\n",
       "        const charts = await google.colab.kernel.invokeFunction(\n",
       "            'suggestCharts', [key], {});\n",
       "      } catch (error) {\n",
       "        console.error('Error during call to suggestCharts:', error);\n",
       "      }\n",
       "      quickchartButtonEl.classList.remove('colab-df-spinner');\n",
       "      quickchartButtonEl.classList.add('colab-df-quickchart-complete');\n",
       "    }\n",
       "    (() => {\n",
       "      let quickchartButtonEl =\n",
       "        document.querySelector('#df-4ddab60f-940c-4256-aa1e-b02171c8bc5a button');\n",
       "      quickchartButtonEl.style.display =\n",
       "        google.colab.kernel.accessAllowed ? 'block' : 'none';\n",
       "    })();\n",
       "  </script>\n",
       "</div>\n",
       "    </div>\n",
       "  </div>\n"
      ],
      "text/plain": [
       "                         count           mean           std  min      25%  \\\n",
       "User-ID              1023166.0  140585.933554  80497.344960  2.0  70401.0   \n",
       "Age                   745331.0      36.853182     11.812047  3.0     28.0   \n",
       "Year-Of-Publication  1023162.0    1968.255688    230.849785  0.0   1992.0   \n",
       "Book-Rating          1023166.0       2.836635      3.853639  0.0      0.0   \n",
       "\n",
       "                          50%       75%       max  \n",
       "User-ID              141203.0  211426.0  278854.0  \n",
       "Age                      35.0      45.0      70.0  \n",
       "Year-Of-Publication    1997.0    2001.0    2050.0  \n",
       "Book-Rating               0.0       7.0      10.0  "
      ]
     },
     "execution_count": 41,
     "metadata": {},
     "output_type": "execute_result"
    }
   ],
   "source": [
    "df.describe().T"
   ]
  },
  {
   "cell_type": "code",
   "execution_count": null,
   "metadata": {
    "id": "5ghEY5OUzm_U"
   },
   "outputs": [],
   "source": [
    "# Mean chosen for Age missing value imputation, as mean (36.8) and median (35) are close enough\n",
    "\n",
    "df['Age'] = df['Age'].fillna(df['Age'].median())"
   ]
  },
  {
   "cell_type": "code",
   "execution_count": null,
   "metadata": {
    "id": "JS1fVD907bEY"
   },
   "outputs": [],
   "source": [
    "# Drop rows iwth null values for 'Book-Author', 'Publisher' and 'Year-Of-Publication'\n",
    "\n",
    "columns_to_drop = ['Book-Author', 'Publisher', 'Year-Of-Publication']\n",
    "df.dropna(subset=columns_to_drop, inplace=True)"
   ]
  },
  {
   "cell_type": "code",
   "execution_count": null,
   "metadata": {
    "colab": {
     "base_uri": "https://localhost:8080/",
     "height": 53
    },
    "executionInfo": {
     "elapsed": 2012,
     "status": "ok",
     "timestamp": 1711406290759,
     "user": {
      "displayName": "Supriya Vasagiri",
      "userId": "15627917195817140532"
     },
     "user_tz": 420
    },
    "id": "nzNusydO0K0_",
    "outputId": "69c41c97-309e-4646-b6d7-e9732ca0d810"
   },
   "outputs": [
    {
     "data": {
      "application/vnd.google.colaboratory.intrinsic+json": {
       "repr_error": "Out of range float values are not JSON compliant: nan",
       "type": "dataframe"
      },
      "text/html": [
       "\n",
       "  <div id=\"df-712873a2-0248-4647-8bb4-df828d3e6b30\" class=\"colab-df-container\">\n",
       "    <div>\n",
       "<style scoped>\n",
       "    .dataframe tbody tr th:only-of-type {\n",
       "        vertical-align: middle;\n",
       "    }\n",
       "\n",
       "    .dataframe tbody tr th {\n",
       "        vertical-align: top;\n",
       "    }\n",
       "\n",
       "    .dataframe thead th {\n",
       "        text-align: right;\n",
       "    }\n",
       "</style>\n",
       "<table border=\"1\" class=\"dataframe\">\n",
       "  <thead>\n",
       "    <tr style=\"text-align: right;\">\n",
       "      <th></th>\n",
       "      <th>Feature_with_missing_value</th>\n",
       "      <th>Missing_values</th>\n",
       "      <th>Percentage_missing_values</th>\n",
       "    </tr>\n",
       "  </thead>\n",
       "  <tbody>\n",
       "  </tbody>\n",
       "</table>\n",
       "</div>\n",
       "    <div class=\"colab-df-buttons\">\n",
       "\n",
       "  <div class=\"colab-df-container\">\n",
       "    <button class=\"colab-df-convert\" onclick=\"convertToInteractive('df-712873a2-0248-4647-8bb4-df828d3e6b30')\"\n",
       "            title=\"Convert this dataframe to an interactive table.\"\n",
       "            style=\"display:none;\">\n",
       "\n",
       "  <svg xmlns=\"http://www.w3.org/2000/svg\" height=\"24px\" viewBox=\"0 -960 960 960\">\n",
       "    <path d=\"M120-120v-720h720v720H120Zm60-500h600v-160H180v160Zm220 220h160v-160H400v160Zm0 220h160v-160H400v160ZM180-400h160v-160H180v160Zm440 0h160v-160H620v160ZM180-180h160v-160H180v160Zm440 0h160v-160H620v160Z\"/>\n",
       "  </svg>\n",
       "    </button>\n",
       "\n",
       "  <style>\n",
       "    .colab-df-container {\n",
       "      display:flex;\n",
       "      gap: 12px;\n",
       "    }\n",
       "\n",
       "    .colab-df-convert {\n",
       "      background-color: #E8F0FE;\n",
       "      border: none;\n",
       "      border-radius: 50%;\n",
       "      cursor: pointer;\n",
       "      display: none;\n",
       "      fill: #1967D2;\n",
       "      height: 32px;\n",
       "      padding: 0 0 0 0;\n",
       "      width: 32px;\n",
       "    }\n",
       "\n",
       "    .colab-df-convert:hover {\n",
       "      background-color: #E2EBFA;\n",
       "      box-shadow: 0px 1px 2px rgba(60, 64, 67, 0.3), 0px 1px 3px 1px rgba(60, 64, 67, 0.15);\n",
       "      fill: #174EA6;\n",
       "    }\n",
       "\n",
       "    .colab-df-buttons div {\n",
       "      margin-bottom: 4px;\n",
       "    }\n",
       "\n",
       "    [theme=dark] .colab-df-convert {\n",
       "      background-color: #3B4455;\n",
       "      fill: #D2E3FC;\n",
       "    }\n",
       "\n",
       "    [theme=dark] .colab-df-convert:hover {\n",
       "      background-color: #434B5C;\n",
       "      box-shadow: 0px 1px 3px 1px rgba(0, 0, 0, 0.15);\n",
       "      filter: drop-shadow(0px 1px 2px rgba(0, 0, 0, 0.3));\n",
       "      fill: #FFFFFF;\n",
       "    }\n",
       "  </style>\n",
       "\n",
       "    <script>\n",
       "      const buttonEl =\n",
       "        document.querySelector('#df-712873a2-0248-4647-8bb4-df828d3e6b30 button.colab-df-convert');\n",
       "      buttonEl.style.display =\n",
       "        google.colab.kernel.accessAllowed ? 'block' : 'none';\n",
       "\n",
       "      async function convertToInteractive(key) {\n",
       "        const element = document.querySelector('#df-712873a2-0248-4647-8bb4-df828d3e6b30');\n",
       "        const dataTable =\n",
       "          await google.colab.kernel.invokeFunction('convertToInteractive',\n",
       "                                                    [key], {});\n",
       "        if (!dataTable) return;\n",
       "\n",
       "        const docLinkHtml = 'Like what you see? Visit the ' +\n",
       "          '<a target=\"_blank\" href=https://colab.research.google.com/notebooks/data_table.ipynb>data table notebook</a>'\n",
       "          + ' to learn more about interactive tables.';\n",
       "        element.innerHTML = '';\n",
       "        dataTable['output_type'] = 'display_data';\n",
       "        await google.colab.output.renderOutput(dataTable, element);\n",
       "        const docLink = document.createElement('div');\n",
       "        docLink.innerHTML = docLinkHtml;\n",
       "        element.appendChild(docLink);\n",
       "      }\n",
       "    </script>\n",
       "  </div>\n",
       "\n",
       "    </div>\n",
       "  </div>\n"
      ],
      "text/plain": [
       "Empty DataFrame\n",
       "Columns: [Feature_with_missing_value, Missing_values, Percentage_missing_values]\n",
       "Index: []"
      ]
     },
     "execution_count": 44,
     "metadata": {},
     "output_type": "execute_result"
    }
   ],
   "source": [
    "get_missing_val_count_df(df)"
   ]
  },
  {
   "cell_type": "markdown",
   "metadata": {
    "id": "ucOFypvsDXPG"
   },
   "source": [
    "### MISC"
   ]
  },
  {
   "cell_type": "code",
   "execution_count": null,
   "metadata": {
    "id": "li2Pykv38vuL"
   },
   "outputs": [],
   "source": [
    "df['Country'] = df['Country'].str.strip('\"')"
   ]
  },
  {
   "cell_type": "code",
   "execution_count": null,
   "metadata": {
    "colab": {
     "base_uri": "https://localhost:8080/"
    },
    "executionInfo": {
     "elapsed": 303,
     "status": "ok",
     "timestamp": 1711406291388,
     "user": {
      "displayName": "Supriya Vasagiri",
      "userId": "15627917195817140532"
     },
     "user_tz": 420
    },
    "id": "eVyswp4nDJy6",
    "outputId": "38e4a209-40f4-4067-a726-d8b0cfd3c21a"
   },
   "outputs": [
    {
     "data": {
      "text/plain": [
       "usa                 740674\n",
       "canada               92426\n",
       "united kingdom       32935\n",
       "germany              27457\n",
       "                     23806\n",
       "                     ...  \n",
       "onondaga nation          1\n",
       "kosovo                   1\n",
       "richmond country         1\n",
       "angola                   1\n",
       "maracopa                 1\n",
       "Name: Country, Length: 258, dtype: int64"
      ]
     },
     "execution_count": 46,
     "metadata": {},
     "output_type": "execute_result"
    }
   ],
   "source": [
    "df['Country'].value_counts()"
   ]
  },
  {
   "cell_type": "code",
   "execution_count": null,
   "metadata": {
    "id": "UFCm_vGP9ybY"
   },
   "outputs": [],
   "source": [
    "usa_mapping = {\n",
    "    'usa': 'united states',\n",
    "    'u.s.a': 'united states',\n",
    "    'u.s.a.': 'united states',\n",
    "    'us': 'united states',\n",
    "    'united states' : 'united states',\n",
    "    'united state' :'united states',\n",
    "    'u.s>' : 'united states',\n",
    "    'u.s.a>' : 'united states',\n",
    "    'united staes' :  'united states',\n",
    "    'united states of america' : 'united states',\n",
    "    'u.s. of a.' : 'united states',\n",
    "    'united sates' : 'united states'\n",
    "}\n",
    "\n",
    "# Replace variations with the standardized value\n",
    "df['Country'] = df['Country'].replace(usa_mapping)"
   ]
  },
  {
   "cell_type": "code",
   "execution_count": null,
   "metadata": {
    "id": "209ZYN-8-pZt"
   },
   "outputs": [],
   "source": [
    "uk_mapping = {\n",
    "    'united kingdom' : 'united kingdom',\n",
    "    'united kindgonm' : 'united kingdom',\n",
    "    'u.k.' : 'united kingdom',\n",
    "    'united kingdom\"' : 'united kingdom'\n",
    "}\n",
    "\n",
    "# Replace variations with the standardized value\n",
    "df['Country'] = df['Country'].replace(uk_mapping)"
   ]
  },
  {
   "cell_type": "code",
   "execution_count": null,
   "metadata": {
    "id": "hQ3Oy22---fe"
   },
   "outputs": [],
   "source": [
    "uae_mapping = {\n",
    "    'united arab emirates' : 'united arab emirates',\n",
    "    'u.a.e.' : 'united arab emirates',\n",
    "    'u.a.e' : 'united arab emirates',\n",
    "}\n",
    "\n",
    "# Replace variations with the standardized value\n",
    "df['Country'] = df['Country'].replace(uae_mapping)"
   ]
  },
  {
   "cell_type": "code",
   "execution_count": null,
   "metadata": {
    "id": "Osp6p-RSFYhV"
   },
   "outputs": [],
   "source": [
    "catalonia_mapping = {\n",
    "    'catalonia' : 'catalonia',\n",
    "    'catalunya' : 'catalonia'\n",
    "}\n",
    "\n",
    "# Replace variations with the standardized value\n",
    "df['Country'] = df['Country'].replace(catalonia_mapping)"
   ]
  },
  {
   "cell_type": "code",
   "execution_count": null,
   "metadata": {
    "id": "-XoTPcCvCJ5N"
   },
   "outputs": [],
   "source": [
    "uruguay_mapping = {\n",
    "    'uruguay' : 'uruguay',\n",
    "    'urugua' : 'uruguay'\n",
    "}\n",
    "\n",
    "# Replace variations with the standardized value\n",
    "df['Country'] = df['Country'].replace(uruguay_mapping)"
   ]
  },
  {
   "cell_type": "code",
   "execution_count": null,
   "metadata": {
    "id": "2fkUz1m2HEAM"
   },
   "outputs": [],
   "source": [
    "spain_mapping = {\n",
    "    'españa' : 'spain',\n",
    "    'spain' : 'spain'\n",
    "}\n",
    "\n",
    "# Replace variations with the standardized value\n",
    "df['Country'] = df['Country'].replace(spain_mapping)"
   ]
  },
  {
   "cell_type": "code",
   "execution_count": null,
   "metadata": {
    "id": "4_irxmFFHEGW"
   },
   "outputs": [],
   "source": [
    "basque_mapping = {\n",
    "    'euskal herria ' : 'basque'\n",
    "}\n",
    "\n",
    "# Replace variations with the standardized value\n",
    "df['Country'] = df['Country'].replace(basque_mapping)"
   ]
  },
  {
   "cell_type": "code",
   "execution_count": null,
   "metadata": {
    "id": "21tIA9MHHEI0"
   },
   "outputs": [],
   "source": [
    "italy_mapping = {\n",
    "    'italia' : 'italy',\n",
    "    'italy' : 'italy'\n",
    "}\n",
    "\n",
    "# Replace variations with the standardized value\n",
    "df['Country'] = df['Country'].replace(italy_mapping)"
   ]
  },
  {
   "cell_type": "code",
   "execution_count": null,
   "metadata": {
    "id": "YRxvOvxgHELK"
   },
   "outputs": [],
   "source": [
    "p_mapping = {\n",
    "    'phillipines' : 'philippines',\n",
    "    'philippines' : 'philippines'\n",
    "}\n",
    "\n",
    "# Replace variations with the standardized value\n",
    "df['Country'] = df['Country'].replace(p_mapping)"
   ]
  },
  {
   "cell_type": "code",
   "execution_count": null,
   "metadata": {
    "id": "9I0Zfe-gHENZ"
   },
   "outputs": [],
   "source": [
    "tt_mapping = {\n",
    "    'tobago' : 'trinidad and tobago',\n",
    "    'trinidad and tobago' : 'trinidad and tobago'\n",
    "}\n",
    "\n",
    "# Replace variations with the standardized value\n",
    "df['Country'] = df['Country'].replace(tt_mapping)"
   ]
  },
  {
   "cell_type": "code",
   "execution_count": null,
   "metadata": {
    "id": "MUQlgXjv_NEP"
   },
   "outputs": [],
   "source": [
    "values_to_drop = ['universe', 'n/a', 'unknown', 'n/a - on the road', 'lkjlj', 'c', 'far away...', 'la chine éternelle !',\n",
    "                  'the great white north', 'we`re global!', 'ee.uu', 'usa & canada', 'usa (currently living in england)',\n",
    "                  'ua','\"', 'everywhere and anywhere']\n",
    "\n",
    "# Drop rows with the specified values\n",
    "df = df[~df['Country'].isin(values_to_drop)].reset_index(drop=True)"
   ]
  },
  {
   "cell_type": "code",
   "execution_count": null,
   "metadata": {
    "id": "sVU3RGVqJeYy"
   },
   "outputs": [],
   "source": [
    "# Count occurrences of each country\n",
    "country_counts = df['Country'].value_counts()\n",
    "\n",
    "# Create a boolean mask for countries with count < 10\n",
    "mask = df['Country'].isin(country_counts[country_counts >= 10].index)\n",
    "\n",
    "# Filter out rows with countries having count < 10\n",
    "df = df[mask]"
   ]
  },
  {
   "cell_type": "code",
   "execution_count": null,
   "metadata": {
    "colab": {
     "base_uri": "https://localhost:8080/"
    },
    "executionInfo": {
     "elapsed": 4,
     "status": "ok",
     "timestamp": 1711406295596,
     "user": {
      "displayName": "Supriya Vasagiri",
      "userId": "15627917195817140532"
     },
     "user_tz": 420
    },
    "id": "9YCjhWlfKq_0",
    "outputId": "5e9b8b5a-0b55-4b7d-9d29-136d5c11c313"
   },
   "outputs": [
    {
     "data": {
      "text/plain": [
       "(1011351, 9)"
      ]
     },
     "execution_count": 59,
     "metadata": {},
     "output_type": "execute_result"
    }
   ],
   "source": [
    "df.shape"
   ]
  },
  {
   "cell_type": "code",
   "execution_count": null,
   "metadata": {
    "id": "lujMoP68Kpic"
   },
   "outputs": [],
   "source": [
    "df = df[df['Country'].str.strip() != ''].reset_index(drop=True)"
   ]
  },
  {
   "cell_type": "code",
   "execution_count": null,
   "metadata": {
    "colab": {
     "base_uri": "https://localhost:8080/"
    },
    "executionInfo": {
     "elapsed": 5,
     "status": "ok",
     "timestamp": 1711406296186,
     "user": {
      "displayName": "Supriya Vasagiri",
      "userId": "15627917195817140532"
     },
     "user_tz": 420
    },
    "id": "foxvi0kJFx1s",
    "outputId": "d68482b2-a5df-4b3b-b9d6-278be720cf3c"
   },
   "outputs": [
    {
     "data": {
      "text/plain": [
       "united states     741248\n",
       "canada             92426\n",
       "united kingdom     32949\n",
       "germany            27457\n",
       "australia          17961\n",
       "                   ...  \n",
       "albania               10\n",
       "moldova               10\n",
       "honduras              10\n",
       "framingham            10\n",
       "colombia              10\n",
       "Name: Country, Length: 99, dtype: int64"
      ]
     },
     "execution_count": 61,
     "metadata": {},
     "output_type": "execute_result"
    }
   ],
   "source": [
    "df['Country'].value_counts()"
   ]
  },
  {
   "cell_type": "code",
   "execution_count": null,
   "metadata": {
    "colab": {
     "base_uri": "https://localhost:8080/"
    },
    "executionInfo": {
     "elapsed": 711,
     "status": "ok",
     "timestamp": 1711406296893,
     "user": {
      "displayName": "Supriya Vasagiri",
      "userId": "15627917195817140532"
     },
     "user_tz": 420
    },
    "id": "MilXumzS4gr8",
    "outputId": "27ab3851-eea2-4e65-e907-138cf8d74fa6"
   },
   "outputs": [
    {
     "data": {
      "text/plain": [
       "Wild Animus                                                                    2434\n",
       "The Lovely Bones: A Novel                                                      1217\n",
       "The Da Vinci Code                                                               870\n",
       "A Painted House                                                                 798\n",
       "The Nanny Diaries: A Novel                                                      795\n",
       "                                                                               ... \n",
       "The Illustrated Guide to Celtic Mythology                                         1\n",
       "Annotated Huckleberry Finn                                                        1\n",
       "Facts of Love                                                                     1\n",
       "The Creative Lunch Box: Easy, Nutritious, and Inviting Meals for Your Child       1\n",
       "Perplexing Lateral Thinking Puzzles: Scholastic Edition                           1\n",
       "Name: Book-Title, Length: 237445, dtype: int64"
      ]
     },
     "execution_count": 62,
     "metadata": {},
     "output_type": "execute_result"
    }
   ],
   "source": [
    "df['Book-Title'].value_counts()"
   ]
  },
  {
   "cell_type": "code",
   "execution_count": null,
   "metadata": {
    "id": "2EmIb0PP5Aee"
   },
   "outputs": [],
   "source": [
    "df['Year-Of-Publication'] = df['Year-Of-Publication'].astype(int)"
   ]
  },
  {
   "cell_type": "code",
   "execution_count": null,
   "metadata": {
    "colab": {
     "base_uri": "https://localhost:8080/"
    },
    "executionInfo": {
     "elapsed": 829,
     "status": "ok",
     "timestamp": 1711406297720,
     "user": {
      "displayName": "Supriya Vasagiri",
      "userId": "15627917195817140532"
     },
     "user_tz": 420
    },
    "id": "4OgXHf0q44CY",
    "outputId": "b6cab4bc-e53a-4e8f-bf82-cc5ef3dcab06"
   },
   "outputs": [
    {
     "name": "stdout",
     "output_type": "stream",
     "text": [
      "<class 'pandas.core.frame.DataFrame'>\n",
      "RangeIndex: 987545 entries, 0 to 987544\n",
      "Data columns (total 9 columns):\n",
      " #   Column               Non-Null Count   Dtype  \n",
      "---  ------               --------------   -----  \n",
      " 0   User-ID              987545 non-null  int64  \n",
      " 1   ISBN                 987545 non-null  object \n",
      " 2   Age                  987545 non-null  float64\n",
      " 3   Book-Title           987545 non-null  object \n",
      " 4   Book-Author          987545 non-null  object \n",
      " 5   Year-Of-Publication  987545 non-null  int64  \n",
      " 6   Publisher            987545 non-null  object \n",
      " 7   Country              987545 non-null  object \n",
      " 8   Book-Rating          987545 non-null  int64  \n",
      "dtypes: float64(1), int64(3), object(5)\n",
      "memory usage: 67.8+ MB\n"
     ]
    }
   ],
   "source": [
    "df.info()"
   ]
  },
  {
   "cell_type": "markdown",
   "metadata": {
    "id": "T7t3h-JwaoF-"
   },
   "source": [
    "### Feature Encoding"
   ]
  },
  {
   "cell_type": "code",
   "execution_count": null,
   "metadata": {
    "colab": {
     "base_uri": "https://localhost:8080/",
     "height": 206
    },
    "executionInfo": {
     "elapsed": 10,
     "status": "ok",
     "timestamp": 1711406297721,
     "user": {
      "displayName": "Supriya Vasagiri",
      "userId": "15627917195817140532"
     },
     "user_tz": 420
    },
    "id": "ZoPdL4mTXsXN",
    "outputId": "5485b6c8-fe29-4937-91b4-8122d46890a3"
   },
   "outputs": [
    {
     "data": {
      "application/vnd.google.colaboratory.intrinsic+json": {
       "type": "dataframe",
       "variable_name": "df"
      },
      "text/html": [
       "\n",
       "  <div id=\"df-e123e5e8-74a0-4984-af7b-04870c5b6b2b\" class=\"colab-df-container\">\n",
       "    <div>\n",
       "<style scoped>\n",
       "    .dataframe tbody tr th:only-of-type {\n",
       "        vertical-align: middle;\n",
       "    }\n",
       "\n",
       "    .dataframe tbody tr th {\n",
       "        vertical-align: top;\n",
       "    }\n",
       "\n",
       "    .dataframe thead th {\n",
       "        text-align: right;\n",
       "    }\n",
       "</style>\n",
       "<table border=\"1\" class=\"dataframe\">\n",
       "  <thead>\n",
       "    <tr style=\"text-align: right;\">\n",
       "      <th></th>\n",
       "      <th>User-ID</th>\n",
       "      <th>ISBN</th>\n",
       "      <th>Age</th>\n",
       "      <th>Book-Title</th>\n",
       "      <th>Book-Author</th>\n",
       "      <th>Year-Of-Publication</th>\n",
       "      <th>Publisher</th>\n",
       "      <th>Country</th>\n",
       "      <th>Book-Rating</th>\n",
       "    </tr>\n",
       "  </thead>\n",
       "  <tbody>\n",
       "    <tr>\n",
       "      <th>0</th>\n",
       "      <td>276725</td>\n",
       "      <td>034545104X</td>\n",
       "      <td>35.0</td>\n",
       "      <td>Flesh Tones: A Novel</td>\n",
       "      <td>M. J. Rose</td>\n",
       "      <td>2002</td>\n",
       "      <td>Ballantine Books</td>\n",
       "      <td>united states</td>\n",
       "      <td>0</td>\n",
       "    </tr>\n",
       "    <tr>\n",
       "      <th>1</th>\n",
       "      <td>2313</td>\n",
       "      <td>034545104X</td>\n",
       "      <td>23.0</td>\n",
       "      <td>Flesh Tones: A Novel</td>\n",
       "      <td>M. J. Rose</td>\n",
       "      <td>2002</td>\n",
       "      <td>Ballantine Books</td>\n",
       "      <td>united states</td>\n",
       "      <td>5</td>\n",
       "    </tr>\n",
       "    <tr>\n",
       "      <th>2</th>\n",
       "      <td>6543</td>\n",
       "      <td>034545104X</td>\n",
       "      <td>34.0</td>\n",
       "      <td>Flesh Tones: A Novel</td>\n",
       "      <td>M. J. Rose</td>\n",
       "      <td>2002</td>\n",
       "      <td>Ballantine Books</td>\n",
       "      <td>united states</td>\n",
       "      <td>0</td>\n",
       "    </tr>\n",
       "    <tr>\n",
       "      <th>3</th>\n",
       "      <td>10314</td>\n",
       "      <td>034545104X</td>\n",
       "      <td>35.0</td>\n",
       "      <td>Flesh Tones: A Novel</td>\n",
       "      <td>M. J. Rose</td>\n",
       "      <td>2002</td>\n",
       "      <td>Ballantine Books</td>\n",
       "      <td>united states</td>\n",
       "      <td>9</td>\n",
       "    </tr>\n",
       "    <tr>\n",
       "      <th>4</th>\n",
       "      <td>23768</td>\n",
       "      <td>034545104X</td>\n",
       "      <td>45.0</td>\n",
       "      <td>Flesh Tones: A Novel</td>\n",
       "      <td>M. J. Rose</td>\n",
       "      <td>2002</td>\n",
       "      <td>Ballantine Books</td>\n",
       "      <td>united states</td>\n",
       "      <td>0</td>\n",
       "    </tr>\n",
       "  </tbody>\n",
       "</table>\n",
       "</div>\n",
       "    <div class=\"colab-df-buttons\">\n",
       "\n",
       "  <div class=\"colab-df-container\">\n",
       "    <button class=\"colab-df-convert\" onclick=\"convertToInteractive('df-e123e5e8-74a0-4984-af7b-04870c5b6b2b')\"\n",
       "            title=\"Convert this dataframe to an interactive table.\"\n",
       "            style=\"display:none;\">\n",
       "\n",
       "  <svg xmlns=\"http://www.w3.org/2000/svg\" height=\"24px\" viewBox=\"0 -960 960 960\">\n",
       "    <path d=\"M120-120v-720h720v720H120Zm60-500h600v-160H180v160Zm220 220h160v-160H400v160Zm0 220h160v-160H400v160ZM180-400h160v-160H180v160Zm440 0h160v-160H620v160ZM180-180h160v-160H180v160Zm440 0h160v-160H620v160Z\"/>\n",
       "  </svg>\n",
       "    </button>\n",
       "\n",
       "  <style>\n",
       "    .colab-df-container {\n",
       "      display:flex;\n",
       "      gap: 12px;\n",
       "    }\n",
       "\n",
       "    .colab-df-convert {\n",
       "      background-color: #E8F0FE;\n",
       "      border: none;\n",
       "      border-radius: 50%;\n",
       "      cursor: pointer;\n",
       "      display: none;\n",
       "      fill: #1967D2;\n",
       "      height: 32px;\n",
       "      padding: 0 0 0 0;\n",
       "      width: 32px;\n",
       "    }\n",
       "\n",
       "    .colab-df-convert:hover {\n",
       "      background-color: #E2EBFA;\n",
       "      box-shadow: 0px 1px 2px rgba(60, 64, 67, 0.3), 0px 1px 3px 1px rgba(60, 64, 67, 0.15);\n",
       "      fill: #174EA6;\n",
       "    }\n",
       "\n",
       "    .colab-df-buttons div {\n",
       "      margin-bottom: 4px;\n",
       "    }\n",
       "\n",
       "    [theme=dark] .colab-df-convert {\n",
       "      background-color: #3B4455;\n",
       "      fill: #D2E3FC;\n",
       "    }\n",
       "\n",
       "    [theme=dark] .colab-df-convert:hover {\n",
       "      background-color: #434B5C;\n",
       "      box-shadow: 0px 1px 3px 1px rgba(0, 0, 0, 0.15);\n",
       "      filter: drop-shadow(0px 1px 2px rgba(0, 0, 0, 0.3));\n",
       "      fill: #FFFFFF;\n",
       "    }\n",
       "  </style>\n",
       "\n",
       "    <script>\n",
       "      const buttonEl =\n",
       "        document.querySelector('#df-e123e5e8-74a0-4984-af7b-04870c5b6b2b button.colab-df-convert');\n",
       "      buttonEl.style.display =\n",
       "        google.colab.kernel.accessAllowed ? 'block' : 'none';\n",
       "\n",
       "      async function convertToInteractive(key) {\n",
       "        const element = document.querySelector('#df-e123e5e8-74a0-4984-af7b-04870c5b6b2b');\n",
       "        const dataTable =\n",
       "          await google.colab.kernel.invokeFunction('convertToInteractive',\n",
       "                                                    [key], {});\n",
       "        if (!dataTable) return;\n",
       "\n",
       "        const docLinkHtml = 'Like what you see? Visit the ' +\n",
       "          '<a target=\"_blank\" href=https://colab.research.google.com/notebooks/data_table.ipynb>data table notebook</a>'\n",
       "          + ' to learn more about interactive tables.';\n",
       "        element.innerHTML = '';\n",
       "        dataTable['output_type'] = 'display_data';\n",
       "        await google.colab.output.renderOutput(dataTable, element);\n",
       "        const docLink = document.createElement('div');\n",
       "        docLink.innerHTML = docLinkHtml;\n",
       "        element.appendChild(docLink);\n",
       "      }\n",
       "    </script>\n",
       "  </div>\n",
       "\n",
       "\n",
       "<div id=\"df-8d2e9f87-2598-4a82-b1d0-083f6d2e4107\">\n",
       "  <button class=\"colab-df-quickchart\" onclick=\"quickchart('df-8d2e9f87-2598-4a82-b1d0-083f6d2e4107')\"\n",
       "            title=\"Suggest charts\"\n",
       "            style=\"display:none;\">\n",
       "\n",
       "<svg xmlns=\"http://www.w3.org/2000/svg\" height=\"24px\"viewBox=\"0 0 24 24\"\n",
       "     width=\"24px\">\n",
       "    <g>\n",
       "        <path d=\"M19 3H5c-1.1 0-2 .9-2 2v14c0 1.1.9 2 2 2h14c1.1 0 2-.9 2-2V5c0-1.1-.9-2-2-2zM9 17H7v-7h2v7zm4 0h-2V7h2v10zm4 0h-2v-4h2v4z\"/>\n",
       "    </g>\n",
       "</svg>\n",
       "  </button>\n",
       "\n",
       "<style>\n",
       "  .colab-df-quickchart {\n",
       "      --bg-color: #E8F0FE;\n",
       "      --fill-color: #1967D2;\n",
       "      --hover-bg-color: #E2EBFA;\n",
       "      --hover-fill-color: #174EA6;\n",
       "      --disabled-fill-color: #AAA;\n",
       "      --disabled-bg-color: #DDD;\n",
       "  }\n",
       "\n",
       "  [theme=dark] .colab-df-quickchart {\n",
       "      --bg-color: #3B4455;\n",
       "      --fill-color: #D2E3FC;\n",
       "      --hover-bg-color: #434B5C;\n",
       "      --hover-fill-color: #FFFFFF;\n",
       "      --disabled-bg-color: #3B4455;\n",
       "      --disabled-fill-color: #666;\n",
       "  }\n",
       "\n",
       "  .colab-df-quickchart {\n",
       "    background-color: var(--bg-color);\n",
       "    border: none;\n",
       "    border-radius: 50%;\n",
       "    cursor: pointer;\n",
       "    display: none;\n",
       "    fill: var(--fill-color);\n",
       "    height: 32px;\n",
       "    padding: 0;\n",
       "    width: 32px;\n",
       "  }\n",
       "\n",
       "  .colab-df-quickchart:hover {\n",
       "    background-color: var(--hover-bg-color);\n",
       "    box-shadow: 0 1px 2px rgba(60, 64, 67, 0.3), 0 1px 3px 1px rgba(60, 64, 67, 0.15);\n",
       "    fill: var(--button-hover-fill-color);\n",
       "  }\n",
       "\n",
       "  .colab-df-quickchart-complete:disabled,\n",
       "  .colab-df-quickchart-complete:disabled:hover {\n",
       "    background-color: var(--disabled-bg-color);\n",
       "    fill: var(--disabled-fill-color);\n",
       "    box-shadow: none;\n",
       "  }\n",
       "\n",
       "  .colab-df-spinner {\n",
       "    border: 2px solid var(--fill-color);\n",
       "    border-color: transparent;\n",
       "    border-bottom-color: var(--fill-color);\n",
       "    animation:\n",
       "      spin 1s steps(1) infinite;\n",
       "  }\n",
       "\n",
       "  @keyframes spin {\n",
       "    0% {\n",
       "      border-color: transparent;\n",
       "      border-bottom-color: var(--fill-color);\n",
       "      border-left-color: var(--fill-color);\n",
       "    }\n",
       "    20% {\n",
       "      border-color: transparent;\n",
       "      border-left-color: var(--fill-color);\n",
       "      border-top-color: var(--fill-color);\n",
       "    }\n",
       "    30% {\n",
       "      border-color: transparent;\n",
       "      border-left-color: var(--fill-color);\n",
       "      border-top-color: var(--fill-color);\n",
       "      border-right-color: var(--fill-color);\n",
       "    }\n",
       "    40% {\n",
       "      border-color: transparent;\n",
       "      border-right-color: var(--fill-color);\n",
       "      border-top-color: var(--fill-color);\n",
       "    }\n",
       "    60% {\n",
       "      border-color: transparent;\n",
       "      border-right-color: var(--fill-color);\n",
       "    }\n",
       "    80% {\n",
       "      border-color: transparent;\n",
       "      border-right-color: var(--fill-color);\n",
       "      border-bottom-color: var(--fill-color);\n",
       "    }\n",
       "    90% {\n",
       "      border-color: transparent;\n",
       "      border-bottom-color: var(--fill-color);\n",
       "    }\n",
       "  }\n",
       "</style>\n",
       "\n",
       "  <script>\n",
       "    async function quickchart(key) {\n",
       "      const quickchartButtonEl =\n",
       "        document.querySelector('#' + key + ' button');\n",
       "      quickchartButtonEl.disabled = true;  // To prevent multiple clicks.\n",
       "      quickchartButtonEl.classList.add('colab-df-spinner');\n",
       "      try {\n",
       "        const charts = await google.colab.kernel.invokeFunction(\n",
       "            'suggestCharts', [key], {});\n",
       "      } catch (error) {\n",
       "        console.error('Error during call to suggestCharts:', error);\n",
       "      }\n",
       "      quickchartButtonEl.classList.remove('colab-df-spinner');\n",
       "      quickchartButtonEl.classList.add('colab-df-quickchart-complete');\n",
       "    }\n",
       "    (() => {\n",
       "      let quickchartButtonEl =\n",
       "        document.querySelector('#df-8d2e9f87-2598-4a82-b1d0-083f6d2e4107 button');\n",
       "      quickchartButtonEl.style.display =\n",
       "        google.colab.kernel.accessAllowed ? 'block' : 'none';\n",
       "    })();\n",
       "  </script>\n",
       "</div>\n",
       "    </div>\n",
       "  </div>\n"
      ],
      "text/plain": [
       "   User-ID        ISBN   Age            Book-Title Book-Author  \\\n",
       "0   276725  034545104X  35.0  Flesh Tones: A Novel  M. J. Rose   \n",
       "1     2313  034545104X  23.0  Flesh Tones: A Novel  M. J. Rose   \n",
       "2     6543  034545104X  34.0  Flesh Tones: A Novel  M. J. Rose   \n",
       "3    10314  034545104X  35.0  Flesh Tones: A Novel  M. J. Rose   \n",
       "4    23768  034545104X  45.0  Flesh Tones: A Novel  M. J. Rose   \n",
       "\n",
       "   Year-Of-Publication         Publisher        Country  Book-Rating  \n",
       "0                 2002  Ballantine Books  united states            0  \n",
       "1                 2002  Ballantine Books  united states            5  \n",
       "2                 2002  Ballantine Books  united states            0  \n",
       "3                 2002  Ballantine Books  united states            9  \n",
       "4                 2002  Ballantine Books  united states            0  "
      ]
     },
     "execution_count": 65,
     "metadata": {},
     "output_type": "execute_result"
    }
   ],
   "source": [
    "df.head(5)"
   ]
  },
  {
   "cell_type": "code",
   "execution_count": null,
   "metadata": {
    "colab": {
     "base_uri": "https://localhost:8080/"
    },
    "executionInfo": {
     "elapsed": 9,
     "status": "ok",
     "timestamp": 1711406297721,
     "user": {
      "displayName": "Supriya Vasagiri",
      "userId": "15627917195817140532"
     },
     "user_tz": 420
    },
    "id": "y-x0BmYdXsXN",
    "outputId": "8b7264cc-a818-4ec7-ec75-d4e4277ab139"
   },
   "outputs": [
    {
     "data": {
      "text/plain": [
       "2002    87534\n",
       "2001    76336\n",
       "1999    71938\n",
       "2003    69298\n",
       "2000    69064\n",
       "        ...  \n",
       "2008        1\n",
       "2012        1\n",
       "1904        1\n",
       "1378        1\n",
       "1910        1\n",
       "Name: Year-Of-Publication, Length: 116, dtype: int64"
      ]
     },
     "execution_count": 66,
     "metadata": {},
     "output_type": "execute_result"
    }
   ],
   "source": [
    "df['Year-Of-Publication'].value_counts()"
   ]
  },
  {
   "cell_type": "code",
   "execution_count": null,
   "metadata": {
    "id": "5vFpSUHbXsXN"
   },
   "outputs": [],
   "source": [
    "label_encoder = LabelEncoder()\n",
    "for col in ['User-ID', 'ISBN', 'Book-Title', 'Book-Author', 'Publisher', 'Country', 'Year-Of-Publication']:\n",
    "    df[col] = label_encoder.fit_transform(df[col])"
   ]
  },
  {
   "cell_type": "code",
   "execution_count": null,
   "metadata": {
    "colab": {
     "base_uri": "https://localhost:8080/",
     "height": 206
    },
    "executionInfo": {
     "elapsed": 9,
     "status": "ok",
     "timestamp": 1711406301745,
     "user": {
      "displayName": "Supriya Vasagiri",
      "userId": "15627917195817140532"
     },
     "user_tz": 420
    },
    "id": "Ebi5FnN9XsXN",
    "outputId": "c32aed75-3074-4ebe-f8cc-070a2c1e2844"
   },
   "outputs": [
    {
     "data": {
      "application/vnd.google.colaboratory.intrinsic+json": {
       "type": "dataframe",
       "variable_name": "df"
      },
      "text/html": [
       "\n",
       "  <div id=\"df-57805e50-e775-4402-8954-6d9df85e4e51\" class=\"colab-df-container\">\n",
       "    <div>\n",
       "<style scoped>\n",
       "    .dataframe tbody tr th:only-of-type {\n",
       "        vertical-align: middle;\n",
       "    }\n",
       "\n",
       "    .dataframe tbody tr th {\n",
       "        vertical-align: top;\n",
       "    }\n",
       "\n",
       "    .dataframe thead th {\n",
       "        text-align: right;\n",
       "    }\n",
       "</style>\n",
       "<table border=\"1\" class=\"dataframe\">\n",
       "  <thead>\n",
       "    <tr style=\"text-align: right;\">\n",
       "      <th></th>\n",
       "      <th>User-ID</th>\n",
       "      <th>ISBN</th>\n",
       "      <th>Age</th>\n",
       "      <th>Book-Title</th>\n",
       "      <th>Book-Author</th>\n",
       "      <th>Year-Of-Publication</th>\n",
       "      <th>Publisher</th>\n",
       "      <th>Country</th>\n",
       "      <th>Book-Rating</th>\n",
       "    </tr>\n",
       "  </thead>\n",
       "  <tbody>\n",
       "    <tr>\n",
       "      <th>0</th>\n",
       "      <td>87368</td>\n",
       "      <td>45248</td>\n",
       "      <td>35.0</td>\n",
       "      <td>66738</td>\n",
       "      <td>60689</td>\n",
       "      <td>99</td>\n",
       "      <td>1368</td>\n",
       "      <td>94</td>\n",
       "      <td>0</td>\n",
       "    </tr>\n",
       "    <tr>\n",
       "      <th>1</th>\n",
       "      <td>684</td>\n",
       "      <td>45248</td>\n",
       "      <td>23.0</td>\n",
       "      <td>66738</td>\n",
       "      <td>60689</td>\n",
       "      <td>99</td>\n",
       "      <td>1368</td>\n",
       "      <td>94</td>\n",
       "      <td>5</td>\n",
       "    </tr>\n",
       "    <tr>\n",
       "      <th>2</th>\n",
       "      <td>1948</td>\n",
       "      <td>45248</td>\n",
       "      <td>34.0</td>\n",
       "      <td>66738</td>\n",
       "      <td>60689</td>\n",
       "      <td>99</td>\n",
       "      <td>1368</td>\n",
       "      <td>94</td>\n",
       "      <td>0</td>\n",
       "    </tr>\n",
       "    <tr>\n",
       "      <th>3</th>\n",
       "      <td>3057</td>\n",
       "      <td>45248</td>\n",
       "      <td>35.0</td>\n",
       "      <td>66738</td>\n",
       "      <td>60689</td>\n",
       "      <td>99</td>\n",
       "      <td>1368</td>\n",
       "      <td>94</td>\n",
       "      <td>9</td>\n",
       "    </tr>\n",
       "    <tr>\n",
       "      <th>4</th>\n",
       "      <td>7217</td>\n",
       "      <td>45248</td>\n",
       "      <td>45.0</td>\n",
       "      <td>66738</td>\n",
       "      <td>60689</td>\n",
       "      <td>99</td>\n",
       "      <td>1368</td>\n",
       "      <td>94</td>\n",
       "      <td>0</td>\n",
       "    </tr>\n",
       "  </tbody>\n",
       "</table>\n",
       "</div>\n",
       "    <div class=\"colab-df-buttons\">\n",
       "\n",
       "  <div class=\"colab-df-container\">\n",
       "    <button class=\"colab-df-convert\" onclick=\"convertToInteractive('df-57805e50-e775-4402-8954-6d9df85e4e51')\"\n",
       "            title=\"Convert this dataframe to an interactive table.\"\n",
       "            style=\"display:none;\">\n",
       "\n",
       "  <svg xmlns=\"http://www.w3.org/2000/svg\" height=\"24px\" viewBox=\"0 -960 960 960\">\n",
       "    <path d=\"M120-120v-720h720v720H120Zm60-500h600v-160H180v160Zm220 220h160v-160H400v160Zm0 220h160v-160H400v160ZM180-400h160v-160H180v160Zm440 0h160v-160H620v160ZM180-180h160v-160H180v160Zm440 0h160v-160H620v160Z\"/>\n",
       "  </svg>\n",
       "    </button>\n",
       "\n",
       "  <style>\n",
       "    .colab-df-container {\n",
       "      display:flex;\n",
       "      gap: 12px;\n",
       "    }\n",
       "\n",
       "    .colab-df-convert {\n",
       "      background-color: #E8F0FE;\n",
       "      border: none;\n",
       "      border-radius: 50%;\n",
       "      cursor: pointer;\n",
       "      display: none;\n",
       "      fill: #1967D2;\n",
       "      height: 32px;\n",
       "      padding: 0 0 0 0;\n",
       "      width: 32px;\n",
       "    }\n",
       "\n",
       "    .colab-df-convert:hover {\n",
       "      background-color: #E2EBFA;\n",
       "      box-shadow: 0px 1px 2px rgba(60, 64, 67, 0.3), 0px 1px 3px 1px rgba(60, 64, 67, 0.15);\n",
       "      fill: #174EA6;\n",
       "    }\n",
       "\n",
       "    .colab-df-buttons div {\n",
       "      margin-bottom: 4px;\n",
       "    }\n",
       "\n",
       "    [theme=dark] .colab-df-convert {\n",
       "      background-color: #3B4455;\n",
       "      fill: #D2E3FC;\n",
       "    }\n",
       "\n",
       "    [theme=dark] .colab-df-convert:hover {\n",
       "      background-color: #434B5C;\n",
       "      box-shadow: 0px 1px 3px 1px rgba(0, 0, 0, 0.15);\n",
       "      filter: drop-shadow(0px 1px 2px rgba(0, 0, 0, 0.3));\n",
       "      fill: #FFFFFF;\n",
       "    }\n",
       "  </style>\n",
       "\n",
       "    <script>\n",
       "      const buttonEl =\n",
       "        document.querySelector('#df-57805e50-e775-4402-8954-6d9df85e4e51 button.colab-df-convert');\n",
       "      buttonEl.style.display =\n",
       "        google.colab.kernel.accessAllowed ? 'block' : 'none';\n",
       "\n",
       "      async function convertToInteractive(key) {\n",
       "        const element = document.querySelector('#df-57805e50-e775-4402-8954-6d9df85e4e51');\n",
       "        const dataTable =\n",
       "          await google.colab.kernel.invokeFunction('convertToInteractive',\n",
       "                                                    [key], {});\n",
       "        if (!dataTable) return;\n",
       "\n",
       "        const docLinkHtml = 'Like what you see? Visit the ' +\n",
       "          '<a target=\"_blank\" href=https://colab.research.google.com/notebooks/data_table.ipynb>data table notebook</a>'\n",
       "          + ' to learn more about interactive tables.';\n",
       "        element.innerHTML = '';\n",
       "        dataTable['output_type'] = 'display_data';\n",
       "        await google.colab.output.renderOutput(dataTable, element);\n",
       "        const docLink = document.createElement('div');\n",
       "        docLink.innerHTML = docLinkHtml;\n",
       "        element.appendChild(docLink);\n",
       "      }\n",
       "    </script>\n",
       "  </div>\n",
       "\n",
       "\n",
       "<div id=\"df-afdceb03-18c2-4e49-9569-75b05fe5d0b1\">\n",
       "  <button class=\"colab-df-quickchart\" onclick=\"quickchart('df-afdceb03-18c2-4e49-9569-75b05fe5d0b1')\"\n",
       "            title=\"Suggest charts\"\n",
       "            style=\"display:none;\">\n",
       "\n",
       "<svg xmlns=\"http://www.w3.org/2000/svg\" height=\"24px\"viewBox=\"0 0 24 24\"\n",
       "     width=\"24px\">\n",
       "    <g>\n",
       "        <path d=\"M19 3H5c-1.1 0-2 .9-2 2v14c0 1.1.9 2 2 2h14c1.1 0 2-.9 2-2V5c0-1.1-.9-2-2-2zM9 17H7v-7h2v7zm4 0h-2V7h2v10zm4 0h-2v-4h2v4z\"/>\n",
       "    </g>\n",
       "</svg>\n",
       "  </button>\n",
       "\n",
       "<style>\n",
       "  .colab-df-quickchart {\n",
       "      --bg-color: #E8F0FE;\n",
       "      --fill-color: #1967D2;\n",
       "      --hover-bg-color: #E2EBFA;\n",
       "      --hover-fill-color: #174EA6;\n",
       "      --disabled-fill-color: #AAA;\n",
       "      --disabled-bg-color: #DDD;\n",
       "  }\n",
       "\n",
       "  [theme=dark] .colab-df-quickchart {\n",
       "      --bg-color: #3B4455;\n",
       "      --fill-color: #D2E3FC;\n",
       "      --hover-bg-color: #434B5C;\n",
       "      --hover-fill-color: #FFFFFF;\n",
       "      --disabled-bg-color: #3B4455;\n",
       "      --disabled-fill-color: #666;\n",
       "  }\n",
       "\n",
       "  .colab-df-quickchart {\n",
       "    background-color: var(--bg-color);\n",
       "    border: none;\n",
       "    border-radius: 50%;\n",
       "    cursor: pointer;\n",
       "    display: none;\n",
       "    fill: var(--fill-color);\n",
       "    height: 32px;\n",
       "    padding: 0;\n",
       "    width: 32px;\n",
       "  }\n",
       "\n",
       "  .colab-df-quickchart:hover {\n",
       "    background-color: var(--hover-bg-color);\n",
       "    box-shadow: 0 1px 2px rgba(60, 64, 67, 0.3), 0 1px 3px 1px rgba(60, 64, 67, 0.15);\n",
       "    fill: var(--button-hover-fill-color);\n",
       "  }\n",
       "\n",
       "  .colab-df-quickchart-complete:disabled,\n",
       "  .colab-df-quickchart-complete:disabled:hover {\n",
       "    background-color: var(--disabled-bg-color);\n",
       "    fill: var(--disabled-fill-color);\n",
       "    box-shadow: none;\n",
       "  }\n",
       "\n",
       "  .colab-df-spinner {\n",
       "    border: 2px solid var(--fill-color);\n",
       "    border-color: transparent;\n",
       "    border-bottom-color: var(--fill-color);\n",
       "    animation:\n",
       "      spin 1s steps(1) infinite;\n",
       "  }\n",
       "\n",
       "  @keyframes spin {\n",
       "    0% {\n",
       "      border-color: transparent;\n",
       "      border-bottom-color: var(--fill-color);\n",
       "      border-left-color: var(--fill-color);\n",
       "    }\n",
       "    20% {\n",
       "      border-color: transparent;\n",
       "      border-left-color: var(--fill-color);\n",
       "      border-top-color: var(--fill-color);\n",
       "    }\n",
       "    30% {\n",
       "      border-color: transparent;\n",
       "      border-left-color: var(--fill-color);\n",
       "      border-top-color: var(--fill-color);\n",
       "      border-right-color: var(--fill-color);\n",
       "    }\n",
       "    40% {\n",
       "      border-color: transparent;\n",
       "      border-right-color: var(--fill-color);\n",
       "      border-top-color: var(--fill-color);\n",
       "    }\n",
       "    60% {\n",
       "      border-color: transparent;\n",
       "      border-right-color: var(--fill-color);\n",
       "    }\n",
       "    80% {\n",
       "      border-color: transparent;\n",
       "      border-right-color: var(--fill-color);\n",
       "      border-bottom-color: var(--fill-color);\n",
       "    }\n",
       "    90% {\n",
       "      border-color: transparent;\n",
       "      border-bottom-color: var(--fill-color);\n",
       "    }\n",
       "  }\n",
       "</style>\n",
       "\n",
       "  <script>\n",
       "    async function quickchart(key) {\n",
       "      const quickchartButtonEl =\n",
       "        document.querySelector('#' + key + ' button');\n",
       "      quickchartButtonEl.disabled = true;  // To prevent multiple clicks.\n",
       "      quickchartButtonEl.classList.add('colab-df-spinner');\n",
       "      try {\n",
       "        const charts = await google.colab.kernel.invokeFunction(\n",
       "            'suggestCharts', [key], {});\n",
       "      } catch (error) {\n",
       "        console.error('Error during call to suggestCharts:', error);\n",
       "      }\n",
       "      quickchartButtonEl.classList.remove('colab-df-spinner');\n",
       "      quickchartButtonEl.classList.add('colab-df-quickchart-complete');\n",
       "    }\n",
       "    (() => {\n",
       "      let quickchartButtonEl =\n",
       "        document.querySelector('#df-afdceb03-18c2-4e49-9569-75b05fe5d0b1 button');\n",
       "      quickchartButtonEl.style.display =\n",
       "        google.colab.kernel.accessAllowed ? 'block' : 'none';\n",
       "    })();\n",
       "  </script>\n",
       "</div>\n",
       "    </div>\n",
       "  </div>\n"
      ],
      "text/plain": [
       "   User-ID   ISBN   Age  Book-Title  Book-Author  Year-Of-Publication  \\\n",
       "0    87368  45248  35.0       66738        60689                   99   \n",
       "1      684  45248  23.0       66738        60689                   99   \n",
       "2     1948  45248  34.0       66738        60689                   99   \n",
       "3     3057  45248  35.0       66738        60689                   99   \n",
       "4     7217  45248  45.0       66738        60689                   99   \n",
       "\n",
       "   Publisher  Country  Book-Rating  \n",
       "0       1368       94            0  \n",
       "1       1368       94            5  \n",
       "2       1368       94            0  \n",
       "3       1368       94            9  \n",
       "4       1368       94            0  "
      ]
     },
     "execution_count": 68,
     "metadata": {},
     "output_type": "execute_result"
    }
   ],
   "source": [
    "df.head(5)"
   ]
  },
  {
   "cell_type": "code",
   "execution_count": null,
   "metadata": {
    "id": "Fj2gCf8AXsXO"
   },
   "outputs": [],
   "source": [
    "# Define embedding sizes\n",
    "categorical_columns = ['User-ID', 'ISBN', 'Book-Title', 'Book-Author', 'Publisher', 'Country', 'Year-Of-Publication']\n",
    "\n",
    "embedding_sizes = [\n",
    "    (len(df['User-ID'].unique()), 10),  # Embedding for User-ID\n",
    "    (len(df['ISBN'].unique()), 10),      # Embedding for ISBN\n",
    "    (len(df['Book-Title'].unique()), 10), # Embedding for Book-Title\n",
    "    (len(df['Book-Author'].unique()), 10), # Embedding for Book-Author\n",
    "    (len(df['Publisher'].unique()), 10),  # Embedding for Publisher\n",
    "    (len(df['Country'].unique()), 10),     # Embedding for Country\n",
    "    (len(df['Year-Of-Publication'].unique()), 10) # Embedding for Year-Of-Publication\n",
    "]"
   ]
  },
  {
   "cell_type": "code",
   "execution_count": null,
   "metadata": {
    "id": "YVNBmSOYXsXO"
   },
   "outputs": [],
   "source": [
    "# Create embedding layers\n",
    "embedding_layers = nn.ModuleList([nn.Embedding(num_embeddings, embedding_dim) for num_embeddings, embedding_dim in embedding_sizes])"
   ]
  },
  {
   "cell_type": "code",
   "execution_count": null,
   "metadata": {
    "id": "FEmmVXXSXsXO"
   },
   "outputs": [],
   "source": [
    "# Convert categorical columns to tensor and apply embedding\n",
    "categorical_columns = ['User-ID', 'ISBN', 'Book-Title', 'Book-Author', 'Publisher', 'Country', 'Year-Of-Publication']\n",
    "embeddings = []\n",
    "for i, col in enumerate(categorical_columns):\n",
    "    col_tensor = torch.tensor(df[col].astype('category').cat.codes.values, dtype=torch.long)\n",
    "    embedding = embedding_layers[i](col_tensor)\n",
    "    embeddings.append(embedding)"
   ]
  },
  {
   "cell_type": "code",
   "execution_count": null,
   "metadata": {
    "id": "4ZNxVYe7XsXO"
   },
   "outputs": [],
   "source": [
    "# Concatenate embeddings\n",
    "concatenated_embeddings = torch.cat(embeddings, dim=1)"
   ]
  },
  {
   "cell_type": "code",
   "execution_count": null,
   "metadata": {
    "id": "0wcIFGQFXsXO"
   },
   "outputs": [],
   "source": [
    "other_columns = ['Age']\n",
    "other_data = torch.tensor(df[other_columns].values, dtype=torch.float)\n",
    "\n",
    "# Target variable\n",
    "target_variable = torch.tensor(df['Book-Rating'].values, dtype=torch.float).view(-1, 1)\n",
    "\n",
    "# Concatenate all tensors\n",
    "final_data = torch.cat([concatenated_embeddings, other_data, target_variable], dim=1)\n",
    "\n",
    "# Convert tensor to DataFrame\n",
    "final_df = pd.DataFrame(final_data.detach().numpy())\n",
    "# print(final_df)"
   ]
  },
  {
   "cell_type": "code",
   "execution_count": null,
   "metadata": {
    "colab": {
     "base_uri": "https://localhost:8080/"
    },
    "executionInfo": {
     "elapsed": 8,
     "status": "ok",
     "timestamp": 1711406304396,
     "user": {
      "displayName": "Supriya Vasagiri",
      "userId": "15627917195817140532"
     },
     "user_tz": 420
    },
    "id": "GSX7kTaWXsXO",
    "outputId": "70d4f320-fa46-4063-ef7b-3d48d9715cd1"
   },
   "outputs": [
    {
     "data": {
      "text/plain": [
       "(987545, 9)"
      ]
     },
     "execution_count": 75,
     "metadata": {},
     "output_type": "execute_result"
    }
   ],
   "source": [
    "df.shape"
   ]
  },
  {
   "cell_type": "code",
   "execution_count": null,
   "metadata": {
    "colab": {
     "base_uri": "https://localhost:8080/"
    },
    "executionInfo": {
     "elapsed": 6,
     "status": "ok",
     "timestamp": 1711406304396,
     "user": {
      "displayName": "Supriya Vasagiri",
      "userId": "15627917195817140532"
     },
     "user_tz": 420
    },
    "id": "OPMjB-itXsXO",
    "outputId": "8bfd3245-0597-42ee-a096-435c8f72880c"
   },
   "outputs": [
    {
     "data": {
      "text/plain": [
       "(987545, 72)"
      ]
     },
     "execution_count": 76,
     "metadata": {},
     "output_type": "execute_result"
    }
   ],
   "source": [
    "final_df.shape"
   ]
  },
  {
   "cell_type": "code",
   "execution_count": null,
   "metadata": {
    "colab": {
     "base_uri": "https://localhost:8080/",
     "height": 255
    },
    "executionInfo": {
     "elapsed": 6,
     "status": "ok",
     "timestamp": 1711406304397,
     "user": {
      "displayName": "Supriya Vasagiri",
      "userId": "15627917195817140532"
     },
     "user_tz": 420
    },
    "id": "qOBTAdXJXsXO",
    "outputId": "5cdfbb2d-05d4-42cd-e1b2-db3700c02611"
   },
   "outputs": [
    {
     "data": {
      "application/vnd.google.colaboratory.intrinsic+json": {
       "type": "dataframe",
       "variable_name": "final_df"
      },
      "text/html": [
       "\n",
       "  <div id=\"df-ff2db518-9fdb-4b2c-8695-d6acbcb58658\" class=\"colab-df-container\">\n",
       "    <div>\n",
       "<style scoped>\n",
       "    .dataframe tbody tr th:only-of-type {\n",
       "        vertical-align: middle;\n",
       "    }\n",
       "\n",
       "    .dataframe tbody tr th {\n",
       "        vertical-align: top;\n",
       "    }\n",
       "\n",
       "    .dataframe thead th {\n",
       "        text-align: right;\n",
       "    }\n",
       "</style>\n",
       "<table border=\"1\" class=\"dataframe\">\n",
       "  <thead>\n",
       "    <tr style=\"text-align: right;\">\n",
       "      <th></th>\n",
       "      <th>0</th>\n",
       "      <th>1</th>\n",
       "      <th>2</th>\n",
       "      <th>3</th>\n",
       "      <th>4</th>\n",
       "      <th>5</th>\n",
       "      <th>6</th>\n",
       "      <th>7</th>\n",
       "      <th>8</th>\n",
       "      <th>9</th>\n",
       "      <th>...</th>\n",
       "      <th>62</th>\n",
       "      <th>63</th>\n",
       "      <th>64</th>\n",
       "      <th>65</th>\n",
       "      <th>66</th>\n",
       "      <th>67</th>\n",
       "      <th>68</th>\n",
       "      <th>69</th>\n",
       "      <th>70</th>\n",
       "      <th>71</th>\n",
       "    </tr>\n",
       "  </thead>\n",
       "  <tbody>\n",
       "    <tr>\n",
       "      <th>0</th>\n",
       "      <td>0.746168</td>\n",
       "      <td>-0.810655</td>\n",
       "      <td>0.888104</td>\n",
       "      <td>2.468830</td>\n",
       "      <td>2.514991</td>\n",
       "      <td>-1.067176</td>\n",
       "      <td>-1.606156</td>\n",
       "      <td>0.074390</td>\n",
       "      <td>-0.818922</td>\n",
       "      <td>-1.121221</td>\n",
       "      <td>...</td>\n",
       "      <td>-0.835111</td>\n",
       "      <td>0.272235</td>\n",
       "      <td>0.622471</td>\n",
       "      <td>-1.700499</td>\n",
       "      <td>-0.654456</td>\n",
       "      <td>-0.80443</td>\n",
       "      <td>-0.970679</td>\n",
       "      <td>0.659021</td>\n",
       "      <td>35.0</td>\n",
       "      <td>0.0</td>\n",
       "    </tr>\n",
       "    <tr>\n",
       "      <th>1</th>\n",
       "      <td>-1.103855</td>\n",
       "      <td>0.819487</td>\n",
       "      <td>-0.099453</td>\n",
       "      <td>0.621411</td>\n",
       "      <td>0.436175</td>\n",
       "      <td>-1.238199</td>\n",
       "      <td>-2.815531</td>\n",
       "      <td>-1.289230</td>\n",
       "      <td>-0.615136</td>\n",
       "      <td>1.023094</td>\n",
       "      <td>...</td>\n",
       "      <td>-0.835111</td>\n",
       "      <td>0.272235</td>\n",
       "      <td>0.622471</td>\n",
       "      <td>-1.700499</td>\n",
       "      <td>-0.654456</td>\n",
       "      <td>-0.80443</td>\n",
       "      <td>-0.970679</td>\n",
       "      <td>0.659021</td>\n",
       "      <td>23.0</td>\n",
       "      <td>5.0</td>\n",
       "    </tr>\n",
       "    <tr>\n",
       "      <th>2</th>\n",
       "      <td>0.287831</td>\n",
       "      <td>-0.094337</td>\n",
       "      <td>1.711239</td>\n",
       "      <td>1.176222</td>\n",
       "      <td>-0.670765</td>\n",
       "      <td>0.688797</td>\n",
       "      <td>1.268980</td>\n",
       "      <td>0.589267</td>\n",
       "      <td>-0.678166</td>\n",
       "      <td>-0.537350</td>\n",
       "      <td>...</td>\n",
       "      <td>-0.835111</td>\n",
       "      <td>0.272235</td>\n",
       "      <td>0.622471</td>\n",
       "      <td>-1.700499</td>\n",
       "      <td>-0.654456</td>\n",
       "      <td>-0.80443</td>\n",
       "      <td>-0.970679</td>\n",
       "      <td>0.659021</td>\n",
       "      <td>34.0</td>\n",
       "      <td>0.0</td>\n",
       "    </tr>\n",
       "    <tr>\n",
       "      <th>3</th>\n",
       "      <td>0.327290</td>\n",
       "      <td>0.492484</td>\n",
       "      <td>-0.108767</td>\n",
       "      <td>-0.413331</td>\n",
       "      <td>-0.323997</td>\n",
       "      <td>-0.059049</td>\n",
       "      <td>0.420389</td>\n",
       "      <td>-2.434185</td>\n",
       "      <td>-1.371537</td>\n",
       "      <td>0.182179</td>\n",
       "      <td>...</td>\n",
       "      <td>-0.835111</td>\n",
       "      <td>0.272235</td>\n",
       "      <td>0.622471</td>\n",
       "      <td>-1.700499</td>\n",
       "      <td>-0.654456</td>\n",
       "      <td>-0.80443</td>\n",
       "      <td>-0.970679</td>\n",
       "      <td>0.659021</td>\n",
       "      <td>35.0</td>\n",
       "      <td>9.0</td>\n",
       "    </tr>\n",
       "    <tr>\n",
       "      <th>4</th>\n",
       "      <td>-1.876243</td>\n",
       "      <td>0.585317</td>\n",
       "      <td>0.364692</td>\n",
       "      <td>-0.301256</td>\n",
       "      <td>0.943233</td>\n",
       "      <td>-0.211280</td>\n",
       "      <td>-1.702573</td>\n",
       "      <td>-0.156380</td>\n",
       "      <td>-0.075577</td>\n",
       "      <td>1.255204</td>\n",
       "      <td>...</td>\n",
       "      <td>-0.835111</td>\n",
       "      <td>0.272235</td>\n",
       "      <td>0.622471</td>\n",
       "      <td>-1.700499</td>\n",
       "      <td>-0.654456</td>\n",
       "      <td>-0.80443</td>\n",
       "      <td>-0.970679</td>\n",
       "      <td>0.659021</td>\n",
       "      <td>45.0</td>\n",
       "      <td>0.0</td>\n",
       "    </tr>\n",
       "  </tbody>\n",
       "</table>\n",
       "<p>5 rows × 72 columns</p>\n",
       "</div>\n",
       "    <div class=\"colab-df-buttons\">\n",
       "\n",
       "  <div class=\"colab-df-container\">\n",
       "    <button class=\"colab-df-convert\" onclick=\"convertToInteractive('df-ff2db518-9fdb-4b2c-8695-d6acbcb58658')\"\n",
       "            title=\"Convert this dataframe to an interactive table.\"\n",
       "            style=\"display:none;\">\n",
       "\n",
       "  <svg xmlns=\"http://www.w3.org/2000/svg\" height=\"24px\" viewBox=\"0 -960 960 960\">\n",
       "    <path d=\"M120-120v-720h720v720H120Zm60-500h600v-160H180v160Zm220 220h160v-160H400v160Zm0 220h160v-160H400v160ZM180-400h160v-160H180v160Zm440 0h160v-160H620v160ZM180-180h160v-160H180v160Zm440 0h160v-160H620v160Z\"/>\n",
       "  </svg>\n",
       "    </button>\n",
       "\n",
       "  <style>\n",
       "    .colab-df-container {\n",
       "      display:flex;\n",
       "      gap: 12px;\n",
       "    }\n",
       "\n",
       "    .colab-df-convert {\n",
       "      background-color: #E8F0FE;\n",
       "      border: none;\n",
       "      border-radius: 50%;\n",
       "      cursor: pointer;\n",
       "      display: none;\n",
       "      fill: #1967D2;\n",
       "      height: 32px;\n",
       "      padding: 0 0 0 0;\n",
       "      width: 32px;\n",
       "    }\n",
       "\n",
       "    .colab-df-convert:hover {\n",
       "      background-color: #E2EBFA;\n",
       "      box-shadow: 0px 1px 2px rgba(60, 64, 67, 0.3), 0px 1px 3px 1px rgba(60, 64, 67, 0.15);\n",
       "      fill: #174EA6;\n",
       "    }\n",
       "\n",
       "    .colab-df-buttons div {\n",
       "      margin-bottom: 4px;\n",
       "    }\n",
       "\n",
       "    [theme=dark] .colab-df-convert {\n",
       "      background-color: #3B4455;\n",
       "      fill: #D2E3FC;\n",
       "    }\n",
       "\n",
       "    [theme=dark] .colab-df-convert:hover {\n",
       "      background-color: #434B5C;\n",
       "      box-shadow: 0px 1px 3px 1px rgba(0, 0, 0, 0.15);\n",
       "      filter: drop-shadow(0px 1px 2px rgba(0, 0, 0, 0.3));\n",
       "      fill: #FFFFFF;\n",
       "    }\n",
       "  </style>\n",
       "\n",
       "    <script>\n",
       "      const buttonEl =\n",
       "        document.querySelector('#df-ff2db518-9fdb-4b2c-8695-d6acbcb58658 button.colab-df-convert');\n",
       "      buttonEl.style.display =\n",
       "        google.colab.kernel.accessAllowed ? 'block' : 'none';\n",
       "\n",
       "      async function convertToInteractive(key) {\n",
       "        const element = document.querySelector('#df-ff2db518-9fdb-4b2c-8695-d6acbcb58658');\n",
       "        const dataTable =\n",
       "          await google.colab.kernel.invokeFunction('convertToInteractive',\n",
       "                                                    [key], {});\n",
       "        if (!dataTable) return;\n",
       "\n",
       "        const docLinkHtml = 'Like what you see? Visit the ' +\n",
       "          '<a target=\"_blank\" href=https://colab.research.google.com/notebooks/data_table.ipynb>data table notebook</a>'\n",
       "          + ' to learn more about interactive tables.';\n",
       "        element.innerHTML = '';\n",
       "        dataTable['output_type'] = 'display_data';\n",
       "        await google.colab.output.renderOutput(dataTable, element);\n",
       "        const docLink = document.createElement('div');\n",
       "        docLink.innerHTML = docLinkHtml;\n",
       "        element.appendChild(docLink);\n",
       "      }\n",
       "    </script>\n",
       "  </div>\n",
       "\n",
       "\n",
       "<div id=\"df-05d82231-74ac-486b-9df6-481910fabdd7\">\n",
       "  <button class=\"colab-df-quickchart\" onclick=\"quickchart('df-05d82231-74ac-486b-9df6-481910fabdd7')\"\n",
       "            title=\"Suggest charts\"\n",
       "            style=\"display:none;\">\n",
       "\n",
       "<svg xmlns=\"http://www.w3.org/2000/svg\" height=\"24px\"viewBox=\"0 0 24 24\"\n",
       "     width=\"24px\">\n",
       "    <g>\n",
       "        <path d=\"M19 3H5c-1.1 0-2 .9-2 2v14c0 1.1.9 2 2 2h14c1.1 0 2-.9 2-2V5c0-1.1-.9-2-2-2zM9 17H7v-7h2v7zm4 0h-2V7h2v10zm4 0h-2v-4h2v4z\"/>\n",
       "    </g>\n",
       "</svg>\n",
       "  </button>\n",
       "\n",
       "<style>\n",
       "  .colab-df-quickchart {\n",
       "      --bg-color: #E8F0FE;\n",
       "      --fill-color: #1967D2;\n",
       "      --hover-bg-color: #E2EBFA;\n",
       "      --hover-fill-color: #174EA6;\n",
       "      --disabled-fill-color: #AAA;\n",
       "      --disabled-bg-color: #DDD;\n",
       "  }\n",
       "\n",
       "  [theme=dark] .colab-df-quickchart {\n",
       "      --bg-color: #3B4455;\n",
       "      --fill-color: #D2E3FC;\n",
       "      --hover-bg-color: #434B5C;\n",
       "      --hover-fill-color: #FFFFFF;\n",
       "      --disabled-bg-color: #3B4455;\n",
       "      --disabled-fill-color: #666;\n",
       "  }\n",
       "\n",
       "  .colab-df-quickchart {\n",
       "    background-color: var(--bg-color);\n",
       "    border: none;\n",
       "    border-radius: 50%;\n",
       "    cursor: pointer;\n",
       "    display: none;\n",
       "    fill: var(--fill-color);\n",
       "    height: 32px;\n",
       "    padding: 0;\n",
       "    width: 32px;\n",
       "  }\n",
       "\n",
       "  .colab-df-quickchart:hover {\n",
       "    background-color: var(--hover-bg-color);\n",
       "    box-shadow: 0 1px 2px rgba(60, 64, 67, 0.3), 0 1px 3px 1px rgba(60, 64, 67, 0.15);\n",
       "    fill: var(--button-hover-fill-color);\n",
       "  }\n",
       "\n",
       "  .colab-df-quickchart-complete:disabled,\n",
       "  .colab-df-quickchart-complete:disabled:hover {\n",
       "    background-color: var(--disabled-bg-color);\n",
       "    fill: var(--disabled-fill-color);\n",
       "    box-shadow: none;\n",
       "  }\n",
       "\n",
       "  .colab-df-spinner {\n",
       "    border: 2px solid var(--fill-color);\n",
       "    border-color: transparent;\n",
       "    border-bottom-color: var(--fill-color);\n",
       "    animation:\n",
       "      spin 1s steps(1) infinite;\n",
       "  }\n",
       "\n",
       "  @keyframes spin {\n",
       "    0% {\n",
       "      border-color: transparent;\n",
       "      border-bottom-color: var(--fill-color);\n",
       "      border-left-color: var(--fill-color);\n",
       "    }\n",
       "    20% {\n",
       "      border-color: transparent;\n",
       "      border-left-color: var(--fill-color);\n",
       "      border-top-color: var(--fill-color);\n",
       "    }\n",
       "    30% {\n",
       "      border-color: transparent;\n",
       "      border-left-color: var(--fill-color);\n",
       "      border-top-color: var(--fill-color);\n",
       "      border-right-color: var(--fill-color);\n",
       "    }\n",
       "    40% {\n",
       "      border-color: transparent;\n",
       "      border-right-color: var(--fill-color);\n",
       "      border-top-color: var(--fill-color);\n",
       "    }\n",
       "    60% {\n",
       "      border-color: transparent;\n",
       "      border-right-color: var(--fill-color);\n",
       "    }\n",
       "    80% {\n",
       "      border-color: transparent;\n",
       "      border-right-color: var(--fill-color);\n",
       "      border-bottom-color: var(--fill-color);\n",
       "    }\n",
       "    90% {\n",
       "      border-color: transparent;\n",
       "      border-bottom-color: var(--fill-color);\n",
       "    }\n",
       "  }\n",
       "</style>\n",
       "\n",
       "  <script>\n",
       "    async function quickchart(key) {\n",
       "      const quickchartButtonEl =\n",
       "        document.querySelector('#' + key + ' button');\n",
       "      quickchartButtonEl.disabled = true;  // To prevent multiple clicks.\n",
       "      quickchartButtonEl.classList.add('colab-df-spinner');\n",
       "      try {\n",
       "        const charts = await google.colab.kernel.invokeFunction(\n",
       "            'suggestCharts', [key], {});\n",
       "      } catch (error) {\n",
       "        console.error('Error during call to suggestCharts:', error);\n",
       "      }\n",
       "      quickchartButtonEl.classList.remove('colab-df-spinner');\n",
       "      quickchartButtonEl.classList.add('colab-df-quickchart-complete');\n",
       "    }\n",
       "    (() => {\n",
       "      let quickchartButtonEl =\n",
       "        document.querySelector('#df-05d82231-74ac-486b-9df6-481910fabdd7 button');\n",
       "      quickchartButtonEl.style.display =\n",
       "        google.colab.kernel.accessAllowed ? 'block' : 'none';\n",
       "    })();\n",
       "  </script>\n",
       "</div>\n",
       "    </div>\n",
       "  </div>\n"
      ],
      "text/plain": [
       "         0         1         2         3         4         5         6   \\\n",
       "0  0.746168 -0.810655  0.888104  2.468830  2.514991 -1.067176 -1.606156   \n",
       "1 -1.103855  0.819487 -0.099453  0.621411  0.436175 -1.238199 -2.815531   \n",
       "2  0.287831 -0.094337  1.711239  1.176222 -0.670765  0.688797  1.268980   \n",
       "3  0.327290  0.492484 -0.108767 -0.413331 -0.323997 -0.059049  0.420389   \n",
       "4 -1.876243  0.585317  0.364692 -0.301256  0.943233 -0.211280 -1.702573   \n",
       "\n",
       "         7         8         9   ...        62        63        64        65  \\\n",
       "0  0.074390 -0.818922 -1.121221  ... -0.835111  0.272235  0.622471 -1.700499   \n",
       "1 -1.289230 -0.615136  1.023094  ... -0.835111  0.272235  0.622471 -1.700499   \n",
       "2  0.589267 -0.678166 -0.537350  ... -0.835111  0.272235  0.622471 -1.700499   \n",
       "3 -2.434185 -1.371537  0.182179  ... -0.835111  0.272235  0.622471 -1.700499   \n",
       "4 -0.156380 -0.075577  1.255204  ... -0.835111  0.272235  0.622471 -1.700499   \n",
       "\n",
       "         66       67        68        69    70   71  \n",
       "0 -0.654456 -0.80443 -0.970679  0.659021  35.0  0.0  \n",
       "1 -0.654456 -0.80443 -0.970679  0.659021  23.0  5.0  \n",
       "2 -0.654456 -0.80443 -0.970679  0.659021  34.0  0.0  \n",
       "3 -0.654456 -0.80443 -0.970679  0.659021  35.0  9.0  \n",
       "4 -0.654456 -0.80443 -0.970679  0.659021  45.0  0.0  \n",
       "\n",
       "[5 rows x 72 columns]"
      ]
     },
     "execution_count": 77,
     "metadata": {},
     "output_type": "execute_result"
    }
   ],
   "source": [
    "final_df.head(5)"
   ]
  },
  {
   "cell_type": "code",
   "execution_count": null,
   "metadata": {
    "id": "uzfHDOhQXsXO"
   },
   "outputs": [],
   "source": [
    "# Wide part: 'Publisher' and 'Country' columns\n",
    "wide_df = final_df.iloc[:, 40:60]  # Assuming column indices 1 and 6 correspond to 'ISBN' and 'Country'\n",
    "\n",
    "# Deep part: Columns from index 20 to index 39 and from index 60 to index 70\n",
    "deep_df = final_df.iloc[:, 20:40].copy()  # Selects columns from index 20 to index 39 inclusive\n",
    "deep_df = pd.concat([deep_df, final_df.iloc[:, 60:72]], axis=1 )\n",
    "\n",
    "# Cross-transformation part: 'User-ID' and 'ISBN' columns\n",
    "cross_df = final_df.iloc[:, 0:20]"
   ]
  },
  {
   "cell_type": "code",
   "execution_count": null,
   "metadata": {
    "colab": {
     "base_uri": "https://localhost:8080/",
     "height": 226
    },
    "executionInfo": {
     "elapsed": 14,
     "status": "ok",
     "timestamp": 1711406305558,
     "user": {
      "displayName": "Supriya Vasagiri",
      "userId": "15627917195817140532"
     },
     "user_tz": 420
    },
    "id": "Kk3CPunYXsXO",
    "outputId": "3c6010e2-7afb-4535-d9b3-7c95b49d7cda"
   },
   "outputs": [
    {
     "data": {
      "application/vnd.google.colaboratory.intrinsic+json": {
       "type": "dataframe",
       "variable_name": "wide_df"
      },
      "text/html": [
       "\n",
       "  <div id=\"df-9f1eed7b-75db-41f8-bd42-4fe55348d1d5\" class=\"colab-df-container\">\n",
       "    <div>\n",
       "<style scoped>\n",
       "    .dataframe tbody tr th:only-of-type {\n",
       "        vertical-align: middle;\n",
       "    }\n",
       "\n",
       "    .dataframe tbody tr th {\n",
       "        vertical-align: top;\n",
       "    }\n",
       "\n",
       "    .dataframe thead th {\n",
       "        text-align: right;\n",
       "    }\n",
       "</style>\n",
       "<table border=\"1\" class=\"dataframe\">\n",
       "  <thead>\n",
       "    <tr style=\"text-align: right;\">\n",
       "      <th></th>\n",
       "      <th>40</th>\n",
       "      <th>41</th>\n",
       "      <th>42</th>\n",
       "      <th>43</th>\n",
       "      <th>44</th>\n",
       "      <th>45</th>\n",
       "      <th>46</th>\n",
       "      <th>47</th>\n",
       "      <th>48</th>\n",
       "      <th>49</th>\n",
       "      <th>50</th>\n",
       "      <th>51</th>\n",
       "      <th>52</th>\n",
       "      <th>53</th>\n",
       "      <th>54</th>\n",
       "      <th>55</th>\n",
       "      <th>56</th>\n",
       "      <th>57</th>\n",
       "      <th>58</th>\n",
       "      <th>59</th>\n",
       "    </tr>\n",
       "  </thead>\n",
       "  <tbody>\n",
       "    <tr>\n",
       "      <th>0</th>\n",
       "      <td>1.528248</td>\n",
       "      <td>-0.481544</td>\n",
       "      <td>-0.714819</td>\n",
       "      <td>-0.48865</td>\n",
       "      <td>-0.131541</td>\n",
       "      <td>-0.651028</td>\n",
       "      <td>1.841544</td>\n",
       "      <td>0.760279</td>\n",
       "      <td>-0.286164</td>\n",
       "      <td>0.571462</td>\n",
       "      <td>-0.701666</td>\n",
       "      <td>1.322278</td>\n",
       "      <td>-0.902065</td>\n",
       "      <td>0.16018</td>\n",
       "      <td>1.356383</td>\n",
       "      <td>0.184868</td>\n",
       "      <td>0.150181</td>\n",
       "      <td>-0.64582</td>\n",
       "      <td>-0.369945</td>\n",
       "      <td>2.178946</td>\n",
       "    </tr>\n",
       "    <tr>\n",
       "      <th>1</th>\n",
       "      <td>1.528248</td>\n",
       "      <td>-0.481544</td>\n",
       "      <td>-0.714819</td>\n",
       "      <td>-0.48865</td>\n",
       "      <td>-0.131541</td>\n",
       "      <td>-0.651028</td>\n",
       "      <td>1.841544</td>\n",
       "      <td>0.760279</td>\n",
       "      <td>-0.286164</td>\n",
       "      <td>0.571462</td>\n",
       "      <td>-0.701666</td>\n",
       "      <td>1.322278</td>\n",
       "      <td>-0.902065</td>\n",
       "      <td>0.16018</td>\n",
       "      <td>1.356383</td>\n",
       "      <td>0.184868</td>\n",
       "      <td>0.150181</td>\n",
       "      <td>-0.64582</td>\n",
       "      <td>-0.369945</td>\n",
       "      <td>2.178946</td>\n",
       "    </tr>\n",
       "    <tr>\n",
       "      <th>2</th>\n",
       "      <td>1.528248</td>\n",
       "      <td>-0.481544</td>\n",
       "      <td>-0.714819</td>\n",
       "      <td>-0.48865</td>\n",
       "      <td>-0.131541</td>\n",
       "      <td>-0.651028</td>\n",
       "      <td>1.841544</td>\n",
       "      <td>0.760279</td>\n",
       "      <td>-0.286164</td>\n",
       "      <td>0.571462</td>\n",
       "      <td>-0.701666</td>\n",
       "      <td>1.322278</td>\n",
       "      <td>-0.902065</td>\n",
       "      <td>0.16018</td>\n",
       "      <td>1.356383</td>\n",
       "      <td>0.184868</td>\n",
       "      <td>0.150181</td>\n",
       "      <td>-0.64582</td>\n",
       "      <td>-0.369945</td>\n",
       "      <td>2.178946</td>\n",
       "    </tr>\n",
       "    <tr>\n",
       "      <th>3</th>\n",
       "      <td>1.528248</td>\n",
       "      <td>-0.481544</td>\n",
       "      <td>-0.714819</td>\n",
       "      <td>-0.48865</td>\n",
       "      <td>-0.131541</td>\n",
       "      <td>-0.651028</td>\n",
       "      <td>1.841544</td>\n",
       "      <td>0.760279</td>\n",
       "      <td>-0.286164</td>\n",
       "      <td>0.571462</td>\n",
       "      <td>-0.701666</td>\n",
       "      <td>1.322278</td>\n",
       "      <td>-0.902065</td>\n",
       "      <td>0.16018</td>\n",
       "      <td>1.356383</td>\n",
       "      <td>0.184868</td>\n",
       "      <td>0.150181</td>\n",
       "      <td>-0.64582</td>\n",
       "      <td>-0.369945</td>\n",
       "      <td>2.178946</td>\n",
       "    </tr>\n",
       "    <tr>\n",
       "      <th>4</th>\n",
       "      <td>1.528248</td>\n",
       "      <td>-0.481544</td>\n",
       "      <td>-0.714819</td>\n",
       "      <td>-0.48865</td>\n",
       "      <td>-0.131541</td>\n",
       "      <td>-0.651028</td>\n",
       "      <td>1.841544</td>\n",
       "      <td>0.760279</td>\n",
       "      <td>-0.286164</td>\n",
       "      <td>0.571462</td>\n",
       "      <td>-0.701666</td>\n",
       "      <td>1.322278</td>\n",
       "      <td>-0.902065</td>\n",
       "      <td>0.16018</td>\n",
       "      <td>1.356383</td>\n",
       "      <td>0.184868</td>\n",
       "      <td>0.150181</td>\n",
       "      <td>-0.64582</td>\n",
       "      <td>-0.369945</td>\n",
       "      <td>2.178946</td>\n",
       "    </tr>\n",
       "  </tbody>\n",
       "</table>\n",
       "</div>\n",
       "    <div class=\"colab-df-buttons\">\n",
       "\n",
       "  <div class=\"colab-df-container\">\n",
       "    <button class=\"colab-df-convert\" onclick=\"convertToInteractive('df-9f1eed7b-75db-41f8-bd42-4fe55348d1d5')\"\n",
       "            title=\"Convert this dataframe to an interactive table.\"\n",
       "            style=\"display:none;\">\n",
       "\n",
       "  <svg xmlns=\"http://www.w3.org/2000/svg\" height=\"24px\" viewBox=\"0 -960 960 960\">\n",
       "    <path d=\"M120-120v-720h720v720H120Zm60-500h600v-160H180v160Zm220 220h160v-160H400v160Zm0 220h160v-160H400v160ZM180-400h160v-160H180v160Zm440 0h160v-160H620v160ZM180-180h160v-160H180v160Zm440 0h160v-160H620v160Z\"/>\n",
       "  </svg>\n",
       "    </button>\n",
       "\n",
       "  <style>\n",
       "    .colab-df-container {\n",
       "      display:flex;\n",
       "      gap: 12px;\n",
       "    }\n",
       "\n",
       "    .colab-df-convert {\n",
       "      background-color: #E8F0FE;\n",
       "      border: none;\n",
       "      border-radius: 50%;\n",
       "      cursor: pointer;\n",
       "      display: none;\n",
       "      fill: #1967D2;\n",
       "      height: 32px;\n",
       "      padding: 0 0 0 0;\n",
       "      width: 32px;\n",
       "    }\n",
       "\n",
       "    .colab-df-convert:hover {\n",
       "      background-color: #E2EBFA;\n",
       "      box-shadow: 0px 1px 2px rgba(60, 64, 67, 0.3), 0px 1px 3px 1px rgba(60, 64, 67, 0.15);\n",
       "      fill: #174EA6;\n",
       "    }\n",
       "\n",
       "    .colab-df-buttons div {\n",
       "      margin-bottom: 4px;\n",
       "    }\n",
       "\n",
       "    [theme=dark] .colab-df-convert {\n",
       "      background-color: #3B4455;\n",
       "      fill: #D2E3FC;\n",
       "    }\n",
       "\n",
       "    [theme=dark] .colab-df-convert:hover {\n",
       "      background-color: #434B5C;\n",
       "      box-shadow: 0px 1px 3px 1px rgba(0, 0, 0, 0.15);\n",
       "      filter: drop-shadow(0px 1px 2px rgba(0, 0, 0, 0.3));\n",
       "      fill: #FFFFFF;\n",
       "    }\n",
       "  </style>\n",
       "\n",
       "    <script>\n",
       "      const buttonEl =\n",
       "        document.querySelector('#df-9f1eed7b-75db-41f8-bd42-4fe55348d1d5 button.colab-df-convert');\n",
       "      buttonEl.style.display =\n",
       "        google.colab.kernel.accessAllowed ? 'block' : 'none';\n",
       "\n",
       "      async function convertToInteractive(key) {\n",
       "        const element = document.querySelector('#df-9f1eed7b-75db-41f8-bd42-4fe55348d1d5');\n",
       "        const dataTable =\n",
       "          await google.colab.kernel.invokeFunction('convertToInteractive',\n",
       "                                                    [key], {});\n",
       "        if (!dataTable) return;\n",
       "\n",
       "        const docLinkHtml = 'Like what you see? Visit the ' +\n",
       "          '<a target=\"_blank\" href=https://colab.research.google.com/notebooks/data_table.ipynb>data table notebook</a>'\n",
       "          + ' to learn more about interactive tables.';\n",
       "        element.innerHTML = '';\n",
       "        dataTable['output_type'] = 'display_data';\n",
       "        await google.colab.output.renderOutput(dataTable, element);\n",
       "        const docLink = document.createElement('div');\n",
       "        docLink.innerHTML = docLinkHtml;\n",
       "        element.appendChild(docLink);\n",
       "      }\n",
       "    </script>\n",
       "  </div>\n",
       "\n",
       "\n",
       "<div id=\"df-78797695-bc37-4471-ae28-2560a221e7b6\">\n",
       "  <button class=\"colab-df-quickchart\" onclick=\"quickchart('df-78797695-bc37-4471-ae28-2560a221e7b6')\"\n",
       "            title=\"Suggest charts\"\n",
       "            style=\"display:none;\">\n",
       "\n",
       "<svg xmlns=\"http://www.w3.org/2000/svg\" height=\"24px\"viewBox=\"0 0 24 24\"\n",
       "     width=\"24px\">\n",
       "    <g>\n",
       "        <path d=\"M19 3H5c-1.1 0-2 .9-2 2v14c0 1.1.9 2 2 2h14c1.1 0 2-.9 2-2V5c0-1.1-.9-2-2-2zM9 17H7v-7h2v7zm4 0h-2V7h2v10zm4 0h-2v-4h2v4z\"/>\n",
       "    </g>\n",
       "</svg>\n",
       "  </button>\n",
       "\n",
       "<style>\n",
       "  .colab-df-quickchart {\n",
       "      --bg-color: #E8F0FE;\n",
       "      --fill-color: #1967D2;\n",
       "      --hover-bg-color: #E2EBFA;\n",
       "      --hover-fill-color: #174EA6;\n",
       "      --disabled-fill-color: #AAA;\n",
       "      --disabled-bg-color: #DDD;\n",
       "  }\n",
       "\n",
       "  [theme=dark] .colab-df-quickchart {\n",
       "      --bg-color: #3B4455;\n",
       "      --fill-color: #D2E3FC;\n",
       "      --hover-bg-color: #434B5C;\n",
       "      --hover-fill-color: #FFFFFF;\n",
       "      --disabled-bg-color: #3B4455;\n",
       "      --disabled-fill-color: #666;\n",
       "  }\n",
       "\n",
       "  .colab-df-quickchart {\n",
       "    background-color: var(--bg-color);\n",
       "    border: none;\n",
       "    border-radius: 50%;\n",
       "    cursor: pointer;\n",
       "    display: none;\n",
       "    fill: var(--fill-color);\n",
       "    height: 32px;\n",
       "    padding: 0;\n",
       "    width: 32px;\n",
       "  }\n",
       "\n",
       "  .colab-df-quickchart:hover {\n",
       "    background-color: var(--hover-bg-color);\n",
       "    box-shadow: 0 1px 2px rgba(60, 64, 67, 0.3), 0 1px 3px 1px rgba(60, 64, 67, 0.15);\n",
       "    fill: var(--button-hover-fill-color);\n",
       "  }\n",
       "\n",
       "  .colab-df-quickchart-complete:disabled,\n",
       "  .colab-df-quickchart-complete:disabled:hover {\n",
       "    background-color: var(--disabled-bg-color);\n",
       "    fill: var(--disabled-fill-color);\n",
       "    box-shadow: none;\n",
       "  }\n",
       "\n",
       "  .colab-df-spinner {\n",
       "    border: 2px solid var(--fill-color);\n",
       "    border-color: transparent;\n",
       "    border-bottom-color: var(--fill-color);\n",
       "    animation:\n",
       "      spin 1s steps(1) infinite;\n",
       "  }\n",
       "\n",
       "  @keyframes spin {\n",
       "    0% {\n",
       "      border-color: transparent;\n",
       "      border-bottom-color: var(--fill-color);\n",
       "      border-left-color: var(--fill-color);\n",
       "    }\n",
       "    20% {\n",
       "      border-color: transparent;\n",
       "      border-left-color: var(--fill-color);\n",
       "      border-top-color: var(--fill-color);\n",
       "    }\n",
       "    30% {\n",
       "      border-color: transparent;\n",
       "      border-left-color: var(--fill-color);\n",
       "      border-top-color: var(--fill-color);\n",
       "      border-right-color: var(--fill-color);\n",
       "    }\n",
       "    40% {\n",
       "      border-color: transparent;\n",
       "      border-right-color: var(--fill-color);\n",
       "      border-top-color: var(--fill-color);\n",
       "    }\n",
       "    60% {\n",
       "      border-color: transparent;\n",
       "      border-right-color: var(--fill-color);\n",
       "    }\n",
       "    80% {\n",
       "      border-color: transparent;\n",
       "      border-right-color: var(--fill-color);\n",
       "      border-bottom-color: var(--fill-color);\n",
       "    }\n",
       "    90% {\n",
       "      border-color: transparent;\n",
       "      border-bottom-color: var(--fill-color);\n",
       "    }\n",
       "  }\n",
       "</style>\n",
       "\n",
       "  <script>\n",
       "    async function quickchart(key) {\n",
       "      const quickchartButtonEl =\n",
       "        document.querySelector('#' + key + ' button');\n",
       "      quickchartButtonEl.disabled = true;  // To prevent multiple clicks.\n",
       "      quickchartButtonEl.classList.add('colab-df-spinner');\n",
       "      try {\n",
       "        const charts = await google.colab.kernel.invokeFunction(\n",
       "            'suggestCharts', [key], {});\n",
       "      } catch (error) {\n",
       "        console.error('Error during call to suggestCharts:', error);\n",
       "      }\n",
       "      quickchartButtonEl.classList.remove('colab-df-spinner');\n",
       "      quickchartButtonEl.classList.add('colab-df-quickchart-complete');\n",
       "    }\n",
       "    (() => {\n",
       "      let quickchartButtonEl =\n",
       "        document.querySelector('#df-78797695-bc37-4471-ae28-2560a221e7b6 button');\n",
       "      quickchartButtonEl.style.display =\n",
       "        google.colab.kernel.accessAllowed ? 'block' : 'none';\n",
       "    })();\n",
       "  </script>\n",
       "</div>\n",
       "    </div>\n",
       "  </div>\n"
      ],
      "text/plain": [
       "         40        41        42       43        44        45        46  \\\n",
       "0  1.528248 -0.481544 -0.714819 -0.48865 -0.131541 -0.651028  1.841544   \n",
       "1  1.528248 -0.481544 -0.714819 -0.48865 -0.131541 -0.651028  1.841544   \n",
       "2  1.528248 -0.481544 -0.714819 -0.48865 -0.131541 -0.651028  1.841544   \n",
       "3  1.528248 -0.481544 -0.714819 -0.48865 -0.131541 -0.651028  1.841544   \n",
       "4  1.528248 -0.481544 -0.714819 -0.48865 -0.131541 -0.651028  1.841544   \n",
       "\n",
       "         47        48        49        50        51        52       53  \\\n",
       "0  0.760279 -0.286164  0.571462 -0.701666  1.322278 -0.902065  0.16018   \n",
       "1  0.760279 -0.286164  0.571462 -0.701666  1.322278 -0.902065  0.16018   \n",
       "2  0.760279 -0.286164  0.571462 -0.701666  1.322278 -0.902065  0.16018   \n",
       "3  0.760279 -0.286164  0.571462 -0.701666  1.322278 -0.902065  0.16018   \n",
       "4  0.760279 -0.286164  0.571462 -0.701666  1.322278 -0.902065  0.16018   \n",
       "\n",
       "         54        55        56       57        58        59  \n",
       "0  1.356383  0.184868  0.150181 -0.64582 -0.369945  2.178946  \n",
       "1  1.356383  0.184868  0.150181 -0.64582 -0.369945  2.178946  \n",
       "2  1.356383  0.184868  0.150181 -0.64582 -0.369945  2.178946  \n",
       "3  1.356383  0.184868  0.150181 -0.64582 -0.369945  2.178946  \n",
       "4  1.356383  0.184868  0.150181 -0.64582 -0.369945  2.178946  "
      ]
     },
     "execution_count": 79,
     "metadata": {},
     "output_type": "execute_result"
    }
   ],
   "source": [
    "wide_df.head(5)"
   ]
  },
  {
   "cell_type": "code",
   "execution_count": null,
   "metadata": {
    "colab": {
     "base_uri": "https://localhost:8080/",
     "height": 255
    },
    "executionInfo": {
     "elapsed": 14,
     "status": "ok",
     "timestamp": 1711406305559,
     "user": {
      "displayName": "Supriya Vasagiri",
      "userId": "15627917195817140532"
     },
     "user_tz": 420
    },
    "id": "tVBhmVgDXsXO",
    "outputId": "cf0c1d3d-8918-48c6-f27e-b1306239f95f"
   },
   "outputs": [
    {
     "data": {
      "application/vnd.google.colaboratory.intrinsic+json": {
       "type": "dataframe",
       "variable_name": "deep_df"
      },
      "text/html": [
       "\n",
       "  <div id=\"df-f0a99088-1bec-4499-a3ae-1e22addf39db\" class=\"colab-df-container\">\n",
       "    <div>\n",
       "<style scoped>\n",
       "    .dataframe tbody tr th:only-of-type {\n",
       "        vertical-align: middle;\n",
       "    }\n",
       "\n",
       "    .dataframe tbody tr th {\n",
       "        vertical-align: top;\n",
       "    }\n",
       "\n",
       "    .dataframe thead th {\n",
       "        text-align: right;\n",
       "    }\n",
       "</style>\n",
       "<table border=\"1\" class=\"dataframe\">\n",
       "  <thead>\n",
       "    <tr style=\"text-align: right;\">\n",
       "      <th></th>\n",
       "      <th>20</th>\n",
       "      <th>21</th>\n",
       "      <th>22</th>\n",
       "      <th>23</th>\n",
       "      <th>24</th>\n",
       "      <th>25</th>\n",
       "      <th>26</th>\n",
       "      <th>27</th>\n",
       "      <th>28</th>\n",
       "      <th>29</th>\n",
       "      <th>...</th>\n",
       "      <th>62</th>\n",
       "      <th>63</th>\n",
       "      <th>64</th>\n",
       "      <th>65</th>\n",
       "      <th>66</th>\n",
       "      <th>67</th>\n",
       "      <th>68</th>\n",
       "      <th>69</th>\n",
       "      <th>70</th>\n",
       "      <th>71</th>\n",
       "    </tr>\n",
       "  </thead>\n",
       "  <tbody>\n",
       "    <tr>\n",
       "      <th>0</th>\n",
       "      <td>0.813798</td>\n",
       "      <td>-1.472881</td>\n",
       "      <td>-1.467341</td>\n",
       "      <td>-1.042885</td>\n",
       "      <td>-1.759362</td>\n",
       "      <td>-1.454314</td>\n",
       "      <td>0.441501</td>\n",
       "      <td>-0.61647</td>\n",
       "      <td>0.216983</td>\n",
       "      <td>-0.207966</td>\n",
       "      <td>...</td>\n",
       "      <td>-0.835111</td>\n",
       "      <td>0.272235</td>\n",
       "      <td>0.622471</td>\n",
       "      <td>-1.700499</td>\n",
       "      <td>-0.654456</td>\n",
       "      <td>-0.80443</td>\n",
       "      <td>-0.970679</td>\n",
       "      <td>0.659021</td>\n",
       "      <td>35.0</td>\n",
       "      <td>0.0</td>\n",
       "    </tr>\n",
       "    <tr>\n",
       "      <th>1</th>\n",
       "      <td>0.813798</td>\n",
       "      <td>-1.472881</td>\n",
       "      <td>-1.467341</td>\n",
       "      <td>-1.042885</td>\n",
       "      <td>-1.759362</td>\n",
       "      <td>-1.454314</td>\n",
       "      <td>0.441501</td>\n",
       "      <td>-0.61647</td>\n",
       "      <td>0.216983</td>\n",
       "      <td>-0.207966</td>\n",
       "      <td>...</td>\n",
       "      <td>-0.835111</td>\n",
       "      <td>0.272235</td>\n",
       "      <td>0.622471</td>\n",
       "      <td>-1.700499</td>\n",
       "      <td>-0.654456</td>\n",
       "      <td>-0.80443</td>\n",
       "      <td>-0.970679</td>\n",
       "      <td>0.659021</td>\n",
       "      <td>23.0</td>\n",
       "      <td>5.0</td>\n",
       "    </tr>\n",
       "    <tr>\n",
       "      <th>2</th>\n",
       "      <td>0.813798</td>\n",
       "      <td>-1.472881</td>\n",
       "      <td>-1.467341</td>\n",
       "      <td>-1.042885</td>\n",
       "      <td>-1.759362</td>\n",
       "      <td>-1.454314</td>\n",
       "      <td>0.441501</td>\n",
       "      <td>-0.61647</td>\n",
       "      <td>0.216983</td>\n",
       "      <td>-0.207966</td>\n",
       "      <td>...</td>\n",
       "      <td>-0.835111</td>\n",
       "      <td>0.272235</td>\n",
       "      <td>0.622471</td>\n",
       "      <td>-1.700499</td>\n",
       "      <td>-0.654456</td>\n",
       "      <td>-0.80443</td>\n",
       "      <td>-0.970679</td>\n",
       "      <td>0.659021</td>\n",
       "      <td>34.0</td>\n",
       "      <td>0.0</td>\n",
       "    </tr>\n",
       "    <tr>\n",
       "      <th>3</th>\n",
       "      <td>0.813798</td>\n",
       "      <td>-1.472881</td>\n",
       "      <td>-1.467341</td>\n",
       "      <td>-1.042885</td>\n",
       "      <td>-1.759362</td>\n",
       "      <td>-1.454314</td>\n",
       "      <td>0.441501</td>\n",
       "      <td>-0.61647</td>\n",
       "      <td>0.216983</td>\n",
       "      <td>-0.207966</td>\n",
       "      <td>...</td>\n",
       "      <td>-0.835111</td>\n",
       "      <td>0.272235</td>\n",
       "      <td>0.622471</td>\n",
       "      <td>-1.700499</td>\n",
       "      <td>-0.654456</td>\n",
       "      <td>-0.80443</td>\n",
       "      <td>-0.970679</td>\n",
       "      <td>0.659021</td>\n",
       "      <td>35.0</td>\n",
       "      <td>9.0</td>\n",
       "    </tr>\n",
       "    <tr>\n",
       "      <th>4</th>\n",
       "      <td>0.813798</td>\n",
       "      <td>-1.472881</td>\n",
       "      <td>-1.467341</td>\n",
       "      <td>-1.042885</td>\n",
       "      <td>-1.759362</td>\n",
       "      <td>-1.454314</td>\n",
       "      <td>0.441501</td>\n",
       "      <td>-0.61647</td>\n",
       "      <td>0.216983</td>\n",
       "      <td>-0.207966</td>\n",
       "      <td>...</td>\n",
       "      <td>-0.835111</td>\n",
       "      <td>0.272235</td>\n",
       "      <td>0.622471</td>\n",
       "      <td>-1.700499</td>\n",
       "      <td>-0.654456</td>\n",
       "      <td>-0.80443</td>\n",
       "      <td>-0.970679</td>\n",
       "      <td>0.659021</td>\n",
       "      <td>45.0</td>\n",
       "      <td>0.0</td>\n",
       "    </tr>\n",
       "  </tbody>\n",
       "</table>\n",
       "<p>5 rows × 32 columns</p>\n",
       "</div>\n",
       "    <div class=\"colab-df-buttons\">\n",
       "\n",
       "  <div class=\"colab-df-container\">\n",
       "    <button class=\"colab-df-convert\" onclick=\"convertToInteractive('df-f0a99088-1bec-4499-a3ae-1e22addf39db')\"\n",
       "            title=\"Convert this dataframe to an interactive table.\"\n",
       "            style=\"display:none;\">\n",
       "\n",
       "  <svg xmlns=\"http://www.w3.org/2000/svg\" height=\"24px\" viewBox=\"0 -960 960 960\">\n",
       "    <path d=\"M120-120v-720h720v720H120Zm60-500h600v-160H180v160Zm220 220h160v-160H400v160Zm0 220h160v-160H400v160ZM180-400h160v-160H180v160Zm440 0h160v-160H620v160ZM180-180h160v-160H180v160Zm440 0h160v-160H620v160Z\"/>\n",
       "  </svg>\n",
       "    </button>\n",
       "\n",
       "  <style>\n",
       "    .colab-df-container {\n",
       "      display:flex;\n",
       "      gap: 12px;\n",
       "    }\n",
       "\n",
       "    .colab-df-convert {\n",
       "      background-color: #E8F0FE;\n",
       "      border: none;\n",
       "      border-radius: 50%;\n",
       "      cursor: pointer;\n",
       "      display: none;\n",
       "      fill: #1967D2;\n",
       "      height: 32px;\n",
       "      padding: 0 0 0 0;\n",
       "      width: 32px;\n",
       "    }\n",
       "\n",
       "    .colab-df-convert:hover {\n",
       "      background-color: #E2EBFA;\n",
       "      box-shadow: 0px 1px 2px rgba(60, 64, 67, 0.3), 0px 1px 3px 1px rgba(60, 64, 67, 0.15);\n",
       "      fill: #174EA6;\n",
       "    }\n",
       "\n",
       "    .colab-df-buttons div {\n",
       "      margin-bottom: 4px;\n",
       "    }\n",
       "\n",
       "    [theme=dark] .colab-df-convert {\n",
       "      background-color: #3B4455;\n",
       "      fill: #D2E3FC;\n",
       "    }\n",
       "\n",
       "    [theme=dark] .colab-df-convert:hover {\n",
       "      background-color: #434B5C;\n",
       "      box-shadow: 0px 1px 3px 1px rgba(0, 0, 0, 0.15);\n",
       "      filter: drop-shadow(0px 1px 2px rgba(0, 0, 0, 0.3));\n",
       "      fill: #FFFFFF;\n",
       "    }\n",
       "  </style>\n",
       "\n",
       "    <script>\n",
       "      const buttonEl =\n",
       "        document.querySelector('#df-f0a99088-1bec-4499-a3ae-1e22addf39db button.colab-df-convert');\n",
       "      buttonEl.style.display =\n",
       "        google.colab.kernel.accessAllowed ? 'block' : 'none';\n",
       "\n",
       "      async function convertToInteractive(key) {\n",
       "        const element = document.querySelector('#df-f0a99088-1bec-4499-a3ae-1e22addf39db');\n",
       "        const dataTable =\n",
       "          await google.colab.kernel.invokeFunction('convertToInteractive',\n",
       "                                                    [key], {});\n",
       "        if (!dataTable) return;\n",
       "\n",
       "        const docLinkHtml = 'Like what you see? Visit the ' +\n",
       "          '<a target=\"_blank\" href=https://colab.research.google.com/notebooks/data_table.ipynb>data table notebook</a>'\n",
       "          + ' to learn more about interactive tables.';\n",
       "        element.innerHTML = '';\n",
       "        dataTable['output_type'] = 'display_data';\n",
       "        await google.colab.output.renderOutput(dataTable, element);\n",
       "        const docLink = document.createElement('div');\n",
       "        docLink.innerHTML = docLinkHtml;\n",
       "        element.appendChild(docLink);\n",
       "      }\n",
       "    </script>\n",
       "  </div>\n",
       "\n",
       "\n",
       "<div id=\"df-b2cf2b1a-b921-4b9f-a595-414da57e53fb\">\n",
       "  <button class=\"colab-df-quickchart\" onclick=\"quickchart('df-b2cf2b1a-b921-4b9f-a595-414da57e53fb')\"\n",
       "            title=\"Suggest charts\"\n",
       "            style=\"display:none;\">\n",
       "\n",
       "<svg xmlns=\"http://www.w3.org/2000/svg\" height=\"24px\"viewBox=\"0 0 24 24\"\n",
       "     width=\"24px\">\n",
       "    <g>\n",
       "        <path d=\"M19 3H5c-1.1 0-2 .9-2 2v14c0 1.1.9 2 2 2h14c1.1 0 2-.9 2-2V5c0-1.1-.9-2-2-2zM9 17H7v-7h2v7zm4 0h-2V7h2v10zm4 0h-2v-4h2v4z\"/>\n",
       "    </g>\n",
       "</svg>\n",
       "  </button>\n",
       "\n",
       "<style>\n",
       "  .colab-df-quickchart {\n",
       "      --bg-color: #E8F0FE;\n",
       "      --fill-color: #1967D2;\n",
       "      --hover-bg-color: #E2EBFA;\n",
       "      --hover-fill-color: #174EA6;\n",
       "      --disabled-fill-color: #AAA;\n",
       "      --disabled-bg-color: #DDD;\n",
       "  }\n",
       "\n",
       "  [theme=dark] .colab-df-quickchart {\n",
       "      --bg-color: #3B4455;\n",
       "      --fill-color: #D2E3FC;\n",
       "      --hover-bg-color: #434B5C;\n",
       "      --hover-fill-color: #FFFFFF;\n",
       "      --disabled-bg-color: #3B4455;\n",
       "      --disabled-fill-color: #666;\n",
       "  }\n",
       "\n",
       "  .colab-df-quickchart {\n",
       "    background-color: var(--bg-color);\n",
       "    border: none;\n",
       "    border-radius: 50%;\n",
       "    cursor: pointer;\n",
       "    display: none;\n",
       "    fill: var(--fill-color);\n",
       "    height: 32px;\n",
       "    padding: 0;\n",
       "    width: 32px;\n",
       "  }\n",
       "\n",
       "  .colab-df-quickchart:hover {\n",
       "    background-color: var(--hover-bg-color);\n",
       "    box-shadow: 0 1px 2px rgba(60, 64, 67, 0.3), 0 1px 3px 1px rgba(60, 64, 67, 0.15);\n",
       "    fill: var(--button-hover-fill-color);\n",
       "  }\n",
       "\n",
       "  .colab-df-quickchart-complete:disabled,\n",
       "  .colab-df-quickchart-complete:disabled:hover {\n",
       "    background-color: var(--disabled-bg-color);\n",
       "    fill: var(--disabled-fill-color);\n",
       "    box-shadow: none;\n",
       "  }\n",
       "\n",
       "  .colab-df-spinner {\n",
       "    border: 2px solid var(--fill-color);\n",
       "    border-color: transparent;\n",
       "    border-bottom-color: var(--fill-color);\n",
       "    animation:\n",
       "      spin 1s steps(1) infinite;\n",
       "  }\n",
       "\n",
       "  @keyframes spin {\n",
       "    0% {\n",
       "      border-color: transparent;\n",
       "      border-bottom-color: var(--fill-color);\n",
       "      border-left-color: var(--fill-color);\n",
       "    }\n",
       "    20% {\n",
       "      border-color: transparent;\n",
       "      border-left-color: var(--fill-color);\n",
       "      border-top-color: var(--fill-color);\n",
       "    }\n",
       "    30% {\n",
       "      border-color: transparent;\n",
       "      border-left-color: var(--fill-color);\n",
       "      border-top-color: var(--fill-color);\n",
       "      border-right-color: var(--fill-color);\n",
       "    }\n",
       "    40% {\n",
       "      border-color: transparent;\n",
       "      border-right-color: var(--fill-color);\n",
       "      border-top-color: var(--fill-color);\n",
       "    }\n",
       "    60% {\n",
       "      border-color: transparent;\n",
       "      border-right-color: var(--fill-color);\n",
       "    }\n",
       "    80% {\n",
       "      border-color: transparent;\n",
       "      border-right-color: var(--fill-color);\n",
       "      border-bottom-color: var(--fill-color);\n",
       "    }\n",
       "    90% {\n",
       "      border-color: transparent;\n",
       "      border-bottom-color: var(--fill-color);\n",
       "    }\n",
       "  }\n",
       "</style>\n",
       "\n",
       "  <script>\n",
       "    async function quickchart(key) {\n",
       "      const quickchartButtonEl =\n",
       "        document.querySelector('#' + key + ' button');\n",
       "      quickchartButtonEl.disabled = true;  // To prevent multiple clicks.\n",
       "      quickchartButtonEl.classList.add('colab-df-spinner');\n",
       "      try {\n",
       "        const charts = await google.colab.kernel.invokeFunction(\n",
       "            'suggestCharts', [key], {});\n",
       "      } catch (error) {\n",
       "        console.error('Error during call to suggestCharts:', error);\n",
       "      }\n",
       "      quickchartButtonEl.classList.remove('colab-df-spinner');\n",
       "      quickchartButtonEl.classList.add('colab-df-quickchart-complete');\n",
       "    }\n",
       "    (() => {\n",
       "      let quickchartButtonEl =\n",
       "        document.querySelector('#df-b2cf2b1a-b921-4b9f-a595-414da57e53fb button');\n",
       "      quickchartButtonEl.style.display =\n",
       "        google.colab.kernel.accessAllowed ? 'block' : 'none';\n",
       "    })();\n",
       "  </script>\n",
       "</div>\n",
       "    </div>\n",
       "  </div>\n"
      ],
      "text/plain": [
       "         20        21        22        23        24        25        26  \\\n",
       "0  0.813798 -1.472881 -1.467341 -1.042885 -1.759362 -1.454314  0.441501   \n",
       "1  0.813798 -1.472881 -1.467341 -1.042885 -1.759362 -1.454314  0.441501   \n",
       "2  0.813798 -1.472881 -1.467341 -1.042885 -1.759362 -1.454314  0.441501   \n",
       "3  0.813798 -1.472881 -1.467341 -1.042885 -1.759362 -1.454314  0.441501   \n",
       "4  0.813798 -1.472881 -1.467341 -1.042885 -1.759362 -1.454314  0.441501   \n",
       "\n",
       "        27        28        29  ...        62        63        64        65  \\\n",
       "0 -0.61647  0.216983 -0.207966  ... -0.835111  0.272235  0.622471 -1.700499   \n",
       "1 -0.61647  0.216983 -0.207966  ... -0.835111  0.272235  0.622471 -1.700499   \n",
       "2 -0.61647  0.216983 -0.207966  ... -0.835111  0.272235  0.622471 -1.700499   \n",
       "3 -0.61647  0.216983 -0.207966  ... -0.835111  0.272235  0.622471 -1.700499   \n",
       "4 -0.61647  0.216983 -0.207966  ... -0.835111  0.272235  0.622471 -1.700499   \n",
       "\n",
       "         66       67        68        69    70   71  \n",
       "0 -0.654456 -0.80443 -0.970679  0.659021  35.0  0.0  \n",
       "1 -0.654456 -0.80443 -0.970679  0.659021  23.0  5.0  \n",
       "2 -0.654456 -0.80443 -0.970679  0.659021  34.0  0.0  \n",
       "3 -0.654456 -0.80443 -0.970679  0.659021  35.0  9.0  \n",
       "4 -0.654456 -0.80443 -0.970679  0.659021  45.0  0.0  \n",
       "\n",
       "[5 rows x 32 columns]"
      ]
     },
     "execution_count": 80,
     "metadata": {},
     "output_type": "execute_result"
    }
   ],
   "source": [
    "deep_df.head(5)"
   ]
  },
  {
   "cell_type": "code",
   "execution_count": null,
   "metadata": {
    "colab": {
     "base_uri": "https://localhost:8080/",
     "height": 226
    },
    "executionInfo": {
     "elapsed": 12,
     "status": "ok",
     "timestamp": 1711406305559,
     "user": {
      "displayName": "Supriya Vasagiri",
      "userId": "15627917195817140532"
     },
     "user_tz": 420
    },
    "id": "sAXRD69aXsXP",
    "outputId": "a22bd07b-8a80-47b4-bce4-d9279a924dff"
   },
   "outputs": [
    {
     "data": {
      "application/vnd.google.colaboratory.intrinsic+json": {
       "type": "dataframe",
       "variable_name": "cross_df"
      },
      "text/html": [
       "\n",
       "  <div id=\"df-45a35d04-b67e-4988-a9c3-43961b7094a9\" class=\"colab-df-container\">\n",
       "    <div>\n",
       "<style scoped>\n",
       "    .dataframe tbody tr th:only-of-type {\n",
       "        vertical-align: middle;\n",
       "    }\n",
       "\n",
       "    .dataframe tbody tr th {\n",
       "        vertical-align: top;\n",
       "    }\n",
       "\n",
       "    .dataframe thead th {\n",
       "        text-align: right;\n",
       "    }\n",
       "</style>\n",
       "<table border=\"1\" class=\"dataframe\">\n",
       "  <thead>\n",
       "    <tr style=\"text-align: right;\">\n",
       "      <th></th>\n",
       "      <th>0</th>\n",
       "      <th>1</th>\n",
       "      <th>2</th>\n",
       "      <th>3</th>\n",
       "      <th>4</th>\n",
       "      <th>5</th>\n",
       "      <th>6</th>\n",
       "      <th>7</th>\n",
       "      <th>8</th>\n",
       "      <th>9</th>\n",
       "      <th>10</th>\n",
       "      <th>11</th>\n",
       "      <th>12</th>\n",
       "      <th>13</th>\n",
       "      <th>14</th>\n",
       "      <th>15</th>\n",
       "      <th>16</th>\n",
       "      <th>17</th>\n",
       "      <th>18</th>\n",
       "      <th>19</th>\n",
       "    </tr>\n",
       "  </thead>\n",
       "  <tbody>\n",
       "    <tr>\n",
       "      <th>0</th>\n",
       "      <td>0.746168</td>\n",
       "      <td>-0.810655</td>\n",
       "      <td>0.888104</td>\n",
       "      <td>2.468830</td>\n",
       "      <td>2.514991</td>\n",
       "      <td>-1.067176</td>\n",
       "      <td>-1.606156</td>\n",
       "      <td>0.074390</td>\n",
       "      <td>-0.818922</td>\n",
       "      <td>-1.121221</td>\n",
       "      <td>-1.914329</td>\n",
       "      <td>-1.134243</td>\n",
       "      <td>-0.846846</td>\n",
       "      <td>-0.869771</td>\n",
       "      <td>-3.657259</td>\n",
       "      <td>1.031272</td>\n",
       "      <td>-1.036156</td>\n",
       "      <td>-0.934281</td>\n",
       "      <td>-0.641291</td>\n",
       "      <td>0.688413</td>\n",
       "    </tr>\n",
       "    <tr>\n",
       "      <th>1</th>\n",
       "      <td>-1.103855</td>\n",
       "      <td>0.819487</td>\n",
       "      <td>-0.099453</td>\n",
       "      <td>0.621411</td>\n",
       "      <td>0.436175</td>\n",
       "      <td>-1.238199</td>\n",
       "      <td>-2.815531</td>\n",
       "      <td>-1.289230</td>\n",
       "      <td>-0.615136</td>\n",
       "      <td>1.023094</td>\n",
       "      <td>-1.914329</td>\n",
       "      <td>-1.134243</td>\n",
       "      <td>-0.846846</td>\n",
       "      <td>-0.869771</td>\n",
       "      <td>-3.657259</td>\n",
       "      <td>1.031272</td>\n",
       "      <td>-1.036156</td>\n",
       "      <td>-0.934281</td>\n",
       "      <td>-0.641291</td>\n",
       "      <td>0.688413</td>\n",
       "    </tr>\n",
       "    <tr>\n",
       "      <th>2</th>\n",
       "      <td>0.287831</td>\n",
       "      <td>-0.094337</td>\n",
       "      <td>1.711239</td>\n",
       "      <td>1.176222</td>\n",
       "      <td>-0.670765</td>\n",
       "      <td>0.688797</td>\n",
       "      <td>1.268980</td>\n",
       "      <td>0.589267</td>\n",
       "      <td>-0.678166</td>\n",
       "      <td>-0.537350</td>\n",
       "      <td>-1.914329</td>\n",
       "      <td>-1.134243</td>\n",
       "      <td>-0.846846</td>\n",
       "      <td>-0.869771</td>\n",
       "      <td>-3.657259</td>\n",
       "      <td>1.031272</td>\n",
       "      <td>-1.036156</td>\n",
       "      <td>-0.934281</td>\n",
       "      <td>-0.641291</td>\n",
       "      <td>0.688413</td>\n",
       "    </tr>\n",
       "    <tr>\n",
       "      <th>3</th>\n",
       "      <td>0.327290</td>\n",
       "      <td>0.492484</td>\n",
       "      <td>-0.108767</td>\n",
       "      <td>-0.413331</td>\n",
       "      <td>-0.323997</td>\n",
       "      <td>-0.059049</td>\n",
       "      <td>0.420389</td>\n",
       "      <td>-2.434185</td>\n",
       "      <td>-1.371537</td>\n",
       "      <td>0.182179</td>\n",
       "      <td>-1.914329</td>\n",
       "      <td>-1.134243</td>\n",
       "      <td>-0.846846</td>\n",
       "      <td>-0.869771</td>\n",
       "      <td>-3.657259</td>\n",
       "      <td>1.031272</td>\n",
       "      <td>-1.036156</td>\n",
       "      <td>-0.934281</td>\n",
       "      <td>-0.641291</td>\n",
       "      <td>0.688413</td>\n",
       "    </tr>\n",
       "    <tr>\n",
       "      <th>4</th>\n",
       "      <td>-1.876243</td>\n",
       "      <td>0.585317</td>\n",
       "      <td>0.364692</td>\n",
       "      <td>-0.301256</td>\n",
       "      <td>0.943233</td>\n",
       "      <td>-0.211280</td>\n",
       "      <td>-1.702573</td>\n",
       "      <td>-0.156380</td>\n",
       "      <td>-0.075577</td>\n",
       "      <td>1.255204</td>\n",
       "      <td>-1.914329</td>\n",
       "      <td>-1.134243</td>\n",
       "      <td>-0.846846</td>\n",
       "      <td>-0.869771</td>\n",
       "      <td>-3.657259</td>\n",
       "      <td>1.031272</td>\n",
       "      <td>-1.036156</td>\n",
       "      <td>-0.934281</td>\n",
       "      <td>-0.641291</td>\n",
       "      <td>0.688413</td>\n",
       "    </tr>\n",
       "  </tbody>\n",
       "</table>\n",
       "</div>\n",
       "    <div class=\"colab-df-buttons\">\n",
       "\n",
       "  <div class=\"colab-df-container\">\n",
       "    <button class=\"colab-df-convert\" onclick=\"convertToInteractive('df-45a35d04-b67e-4988-a9c3-43961b7094a9')\"\n",
       "            title=\"Convert this dataframe to an interactive table.\"\n",
       "            style=\"display:none;\">\n",
       "\n",
       "  <svg xmlns=\"http://www.w3.org/2000/svg\" height=\"24px\" viewBox=\"0 -960 960 960\">\n",
       "    <path d=\"M120-120v-720h720v720H120Zm60-500h600v-160H180v160Zm220 220h160v-160H400v160Zm0 220h160v-160H400v160ZM180-400h160v-160H180v160Zm440 0h160v-160H620v160ZM180-180h160v-160H180v160Zm440 0h160v-160H620v160Z\"/>\n",
       "  </svg>\n",
       "    </button>\n",
       "\n",
       "  <style>\n",
       "    .colab-df-container {\n",
       "      display:flex;\n",
       "      gap: 12px;\n",
       "    }\n",
       "\n",
       "    .colab-df-convert {\n",
       "      background-color: #E8F0FE;\n",
       "      border: none;\n",
       "      border-radius: 50%;\n",
       "      cursor: pointer;\n",
       "      display: none;\n",
       "      fill: #1967D2;\n",
       "      height: 32px;\n",
       "      padding: 0 0 0 0;\n",
       "      width: 32px;\n",
       "    }\n",
       "\n",
       "    .colab-df-convert:hover {\n",
       "      background-color: #E2EBFA;\n",
       "      box-shadow: 0px 1px 2px rgba(60, 64, 67, 0.3), 0px 1px 3px 1px rgba(60, 64, 67, 0.15);\n",
       "      fill: #174EA6;\n",
       "    }\n",
       "\n",
       "    .colab-df-buttons div {\n",
       "      margin-bottom: 4px;\n",
       "    }\n",
       "\n",
       "    [theme=dark] .colab-df-convert {\n",
       "      background-color: #3B4455;\n",
       "      fill: #D2E3FC;\n",
       "    }\n",
       "\n",
       "    [theme=dark] .colab-df-convert:hover {\n",
       "      background-color: #434B5C;\n",
       "      box-shadow: 0px 1px 3px 1px rgba(0, 0, 0, 0.15);\n",
       "      filter: drop-shadow(0px 1px 2px rgba(0, 0, 0, 0.3));\n",
       "      fill: #FFFFFF;\n",
       "    }\n",
       "  </style>\n",
       "\n",
       "    <script>\n",
       "      const buttonEl =\n",
       "        document.querySelector('#df-45a35d04-b67e-4988-a9c3-43961b7094a9 button.colab-df-convert');\n",
       "      buttonEl.style.display =\n",
       "        google.colab.kernel.accessAllowed ? 'block' : 'none';\n",
       "\n",
       "      async function convertToInteractive(key) {\n",
       "        const element = document.querySelector('#df-45a35d04-b67e-4988-a9c3-43961b7094a9');\n",
       "        const dataTable =\n",
       "          await google.colab.kernel.invokeFunction('convertToInteractive',\n",
       "                                                    [key], {});\n",
       "        if (!dataTable) return;\n",
       "\n",
       "        const docLinkHtml = 'Like what you see? Visit the ' +\n",
       "          '<a target=\"_blank\" href=https://colab.research.google.com/notebooks/data_table.ipynb>data table notebook</a>'\n",
       "          + ' to learn more about interactive tables.';\n",
       "        element.innerHTML = '';\n",
       "        dataTable['output_type'] = 'display_data';\n",
       "        await google.colab.output.renderOutput(dataTable, element);\n",
       "        const docLink = document.createElement('div');\n",
       "        docLink.innerHTML = docLinkHtml;\n",
       "        element.appendChild(docLink);\n",
       "      }\n",
       "    </script>\n",
       "  </div>\n",
       "\n",
       "\n",
       "<div id=\"df-0a82d453-70bf-4eff-a5ec-d9a181c95556\">\n",
       "  <button class=\"colab-df-quickchart\" onclick=\"quickchart('df-0a82d453-70bf-4eff-a5ec-d9a181c95556')\"\n",
       "            title=\"Suggest charts\"\n",
       "            style=\"display:none;\">\n",
       "\n",
       "<svg xmlns=\"http://www.w3.org/2000/svg\" height=\"24px\"viewBox=\"0 0 24 24\"\n",
       "     width=\"24px\">\n",
       "    <g>\n",
       "        <path d=\"M19 3H5c-1.1 0-2 .9-2 2v14c0 1.1.9 2 2 2h14c1.1 0 2-.9 2-2V5c0-1.1-.9-2-2-2zM9 17H7v-7h2v7zm4 0h-2V7h2v10zm4 0h-2v-4h2v4z\"/>\n",
       "    </g>\n",
       "</svg>\n",
       "  </button>\n",
       "\n",
       "<style>\n",
       "  .colab-df-quickchart {\n",
       "      --bg-color: #E8F0FE;\n",
       "      --fill-color: #1967D2;\n",
       "      --hover-bg-color: #E2EBFA;\n",
       "      --hover-fill-color: #174EA6;\n",
       "      --disabled-fill-color: #AAA;\n",
       "      --disabled-bg-color: #DDD;\n",
       "  }\n",
       "\n",
       "  [theme=dark] .colab-df-quickchart {\n",
       "      --bg-color: #3B4455;\n",
       "      --fill-color: #D2E3FC;\n",
       "      --hover-bg-color: #434B5C;\n",
       "      --hover-fill-color: #FFFFFF;\n",
       "      --disabled-bg-color: #3B4455;\n",
       "      --disabled-fill-color: #666;\n",
       "  }\n",
       "\n",
       "  .colab-df-quickchart {\n",
       "    background-color: var(--bg-color);\n",
       "    border: none;\n",
       "    border-radius: 50%;\n",
       "    cursor: pointer;\n",
       "    display: none;\n",
       "    fill: var(--fill-color);\n",
       "    height: 32px;\n",
       "    padding: 0;\n",
       "    width: 32px;\n",
       "  }\n",
       "\n",
       "  .colab-df-quickchart:hover {\n",
       "    background-color: var(--hover-bg-color);\n",
       "    box-shadow: 0 1px 2px rgba(60, 64, 67, 0.3), 0 1px 3px 1px rgba(60, 64, 67, 0.15);\n",
       "    fill: var(--button-hover-fill-color);\n",
       "  }\n",
       "\n",
       "  .colab-df-quickchart-complete:disabled,\n",
       "  .colab-df-quickchart-complete:disabled:hover {\n",
       "    background-color: var(--disabled-bg-color);\n",
       "    fill: var(--disabled-fill-color);\n",
       "    box-shadow: none;\n",
       "  }\n",
       "\n",
       "  .colab-df-spinner {\n",
       "    border: 2px solid var(--fill-color);\n",
       "    border-color: transparent;\n",
       "    border-bottom-color: var(--fill-color);\n",
       "    animation:\n",
       "      spin 1s steps(1) infinite;\n",
       "  }\n",
       "\n",
       "  @keyframes spin {\n",
       "    0% {\n",
       "      border-color: transparent;\n",
       "      border-bottom-color: var(--fill-color);\n",
       "      border-left-color: var(--fill-color);\n",
       "    }\n",
       "    20% {\n",
       "      border-color: transparent;\n",
       "      border-left-color: var(--fill-color);\n",
       "      border-top-color: var(--fill-color);\n",
       "    }\n",
       "    30% {\n",
       "      border-color: transparent;\n",
       "      border-left-color: var(--fill-color);\n",
       "      border-top-color: var(--fill-color);\n",
       "      border-right-color: var(--fill-color);\n",
       "    }\n",
       "    40% {\n",
       "      border-color: transparent;\n",
       "      border-right-color: var(--fill-color);\n",
       "      border-top-color: var(--fill-color);\n",
       "    }\n",
       "    60% {\n",
       "      border-color: transparent;\n",
       "      border-right-color: var(--fill-color);\n",
       "    }\n",
       "    80% {\n",
       "      border-color: transparent;\n",
       "      border-right-color: var(--fill-color);\n",
       "      border-bottom-color: var(--fill-color);\n",
       "    }\n",
       "    90% {\n",
       "      border-color: transparent;\n",
       "      border-bottom-color: var(--fill-color);\n",
       "    }\n",
       "  }\n",
       "</style>\n",
       "\n",
       "  <script>\n",
       "    async function quickchart(key) {\n",
       "      const quickchartButtonEl =\n",
       "        document.querySelector('#' + key + ' button');\n",
       "      quickchartButtonEl.disabled = true;  // To prevent multiple clicks.\n",
       "      quickchartButtonEl.classList.add('colab-df-spinner');\n",
       "      try {\n",
       "        const charts = await google.colab.kernel.invokeFunction(\n",
       "            'suggestCharts', [key], {});\n",
       "      } catch (error) {\n",
       "        console.error('Error during call to suggestCharts:', error);\n",
       "      }\n",
       "      quickchartButtonEl.classList.remove('colab-df-spinner');\n",
       "      quickchartButtonEl.classList.add('colab-df-quickchart-complete');\n",
       "    }\n",
       "    (() => {\n",
       "      let quickchartButtonEl =\n",
       "        document.querySelector('#df-0a82d453-70bf-4eff-a5ec-d9a181c95556 button');\n",
       "      quickchartButtonEl.style.display =\n",
       "        google.colab.kernel.accessAllowed ? 'block' : 'none';\n",
       "    })();\n",
       "  </script>\n",
       "</div>\n",
       "    </div>\n",
       "  </div>\n"
      ],
      "text/plain": [
       "         0         1         2         3         4         5         6   \\\n",
       "0  0.746168 -0.810655  0.888104  2.468830  2.514991 -1.067176 -1.606156   \n",
       "1 -1.103855  0.819487 -0.099453  0.621411  0.436175 -1.238199 -2.815531   \n",
       "2  0.287831 -0.094337  1.711239  1.176222 -0.670765  0.688797  1.268980   \n",
       "3  0.327290  0.492484 -0.108767 -0.413331 -0.323997 -0.059049  0.420389   \n",
       "4 -1.876243  0.585317  0.364692 -0.301256  0.943233 -0.211280 -1.702573   \n",
       "\n",
       "         7         8         9         10        11        12        13  \\\n",
       "0  0.074390 -0.818922 -1.121221 -1.914329 -1.134243 -0.846846 -0.869771   \n",
       "1 -1.289230 -0.615136  1.023094 -1.914329 -1.134243 -0.846846 -0.869771   \n",
       "2  0.589267 -0.678166 -0.537350 -1.914329 -1.134243 -0.846846 -0.869771   \n",
       "3 -2.434185 -1.371537  0.182179 -1.914329 -1.134243 -0.846846 -0.869771   \n",
       "4 -0.156380 -0.075577  1.255204 -1.914329 -1.134243 -0.846846 -0.869771   \n",
       "\n",
       "         14        15        16        17        18        19  \n",
       "0 -3.657259  1.031272 -1.036156 -0.934281 -0.641291  0.688413  \n",
       "1 -3.657259  1.031272 -1.036156 -0.934281 -0.641291  0.688413  \n",
       "2 -3.657259  1.031272 -1.036156 -0.934281 -0.641291  0.688413  \n",
       "3 -3.657259  1.031272 -1.036156 -0.934281 -0.641291  0.688413  \n",
       "4 -3.657259  1.031272 -1.036156 -0.934281 -0.641291  0.688413  "
      ]
     },
     "execution_count": 81,
     "metadata": {},
     "output_type": "execute_result"
    }
   ],
   "source": [
    "cross_df.head(5)"
   ]
  },
  {
   "cell_type": "code",
   "execution_count": null,
   "metadata": {
    "colab": {
     "base_uri": "https://localhost:8080/"
    },
    "executionInfo": {
     "elapsed": 11,
     "status": "ok",
     "timestamp": 1711406305559,
     "user": {
      "displayName": "Supriya Vasagiri",
      "userId": "15627917195817140532"
     },
     "user_tz": 420
    },
    "id": "6dDsa9GBXsXP",
    "outputId": "059abe87-15f2-4cd4-dbea-a2da70a30ffd"
   },
   "outputs": [
    {
     "data": {
      "text/plain": [
       "(987545, 32)"
      ]
     },
     "execution_count": 82,
     "metadata": {},
     "output_type": "execute_result"
    }
   ],
   "source": [
    "deep_df.shape"
   ]
  },
  {
   "cell_type": "code",
   "execution_count": null,
   "metadata": {
    "id": "0UZ2tcT6XsXP"
   },
   "outputs": [],
   "source": [
    "wide_cross_df = pd.concat([wide_df, cross_df], axis=1)"
   ]
  },
  {
   "cell_type": "code",
   "execution_count": null,
   "metadata": {
    "id": "-jZfPM6788ij"
   },
   "outputs": [],
   "source": [
    "import torch\n",
    "import torch.nn as nn\n",
    "import torch.optim as optim\n",
    "from torch.utils.data import DataLoader, TensorDataset\n",
    "import numpy as np\n",
    "\n",
    "\n",
    "class WideModel(nn.Module):\n",
    "    def __init__(self, input_size, output_size):\n",
    "        super(WideModel, self).__init__()\n",
    "        self.linear = nn.Linear(input_size, output_size)\n",
    "\n",
    "    def forward(self, x):\n",
    "        return self.linear(x)\n",
    "\n",
    "\n",
    "class DeepModel(nn.Module):\n",
    "    def __init__(self, input_size_deep, output_size_deep):\n",
    "        super(DeepModel, self).__init__()\n",
    "        self.fc1 = nn.Linear(input_size_deep, 128)\n",
    "        self.fc2 = nn.Linear(128, 64)\n",
    "        self.fc3 = nn.Linear(64, 32)\n",
    "        self.fc4 = nn.Linear(32, output_size_deep)\n",
    "        self.relu = nn.ReLU()\n",
    "\n",
    "    def forward(self, x):\n",
    "        x = self.relu(self.fc1(x))\n",
    "        x = self.relu(self.fc2(x))\n",
    "        x = self.relu(self.fc3(x))\n",
    "        x = self.fc4(x)\n",
    "        return x"
   ]
  },
  {
   "cell_type": "code",
   "execution_count": null,
   "metadata": {
    "id": "vXeXG3R688oq"
   },
   "outputs": [],
   "source": [
    "# Extract target values from deep_df based on column index\n",
    "target_tensor = torch.tensor(deep_df.iloc[:, 31].values, dtype=torch.float32)"
   ]
  },
  {
   "cell_type": "code",
   "execution_count": null,
   "metadata": {
    "colab": {
     "base_uri": "https://localhost:8080/"
    },
    "executionInfo": {
     "elapsed": 3,
     "status": "ok",
     "timestamp": 1711406306512,
     "user": {
      "displayName": "Supriya Vasagiri",
      "userId": "15627917195817140532"
     },
     "user_tz": 420
    },
    "id": "t66RgTtz88rw",
    "outputId": "5691fc20-0343-40f9-bb34-a0b5b94f5a0b"
   },
   "outputs": [
    {
     "data": {
      "text/plain": [
       "tensor([0., 5., 0.,  ..., 0., 0., 5.])"
      ]
     },
     "execution_count": 86,
     "metadata": {},
     "output_type": "execute_result"
    }
   ],
   "source": [
    "target_tensor"
   ]
  },
  {
   "cell_type": "code",
   "execution_count": null,
   "metadata": {
    "id": "dC33Jq9GBirB"
   },
   "outputs": [],
   "source": [
    "# Assuming wide_cross_df and deep_df are your DataFrames containing PyTorch tensors\n",
    "import pandas as pd\n",
    "\n",
    "# Access PyTorch tensors from DataFrames\n",
    "wide_cross_tensor = wide_cross_df.values\n",
    "deep_tensor = deep_df.values"
   ]
  },
  {
   "cell_type": "code",
   "execution_count": null,
   "metadata": {
    "id": "hoHdZ4m9DKP0"
   },
   "outputs": [],
   "source": [
    "import torch\n",
    "\n",
    "# Convert NumPy arrays to PyTorch tensors\n",
    "wide_cross_tensor = torch.tensor(wide_cross_tensor)\n",
    "deep_tensor = torch.tensor(deep_tensor)"
   ]
  },
  {
   "cell_type": "code",
   "execution_count": null,
   "metadata": {
    "colab": {
     "base_uri": "https://localhost:8080/"
    },
    "executionInfo": {
     "elapsed": 11,
     "status": "ok",
     "timestamp": 1711406307517,
     "user": {
      "displayName": "Supriya Vasagiri",
      "userId": "15627917195817140532"
     },
     "user_tz": 420
    },
    "id": "_tDhA-4GBpWg",
    "outputId": "f5bff29c-1904-4f7f-9f35-c18807aebacf"
   },
   "outputs": [
    {
     "data": {
      "text/plain": [
       "tensor([[ 1.5282, -0.4815, -0.7148,  ..., -0.9343, -0.6413,  0.6884],\n",
       "        [ 1.5282, -0.4815, -0.7148,  ..., -0.9343, -0.6413,  0.6884],\n",
       "        [ 1.5282, -0.4815, -0.7148,  ..., -0.9343, -0.6413,  0.6884],\n",
       "        ...,\n",
       "        [ 0.9811, -0.3685, -0.2739,  ...,  1.6512,  0.2212, -0.1630],\n",
       "        [-0.8591,  0.2576, -0.6096,  ...,  0.8016,  0.5036,  0.6071],\n",
       "        [ 0.1190,  1.7278,  0.9150,  ...,  1.8093,  1.4554, -0.3866]])"
      ]
     },
     "execution_count": 89,
     "metadata": {},
     "output_type": "execute_result"
    }
   ],
   "source": [
    "wide_cross_tensor"
   ]
  },
  {
   "cell_type": "code",
   "execution_count": null,
   "metadata": {
    "colab": {
     "base_uri": "https://localhost:8080/"
    },
    "executionInfo": {
     "elapsed": 10,
     "status": "ok",
     "timestamp": 1711406307517,
     "user": {
      "displayName": "Supriya Vasagiri",
      "userId": "15627917195817140532"
     },
     "user_tz": 420
    },
    "id": "JV-fvRpYBlug",
    "outputId": "e5ddc87b-19d9-419a-a298-a8b4f2d957d1"
   },
   "outputs": [
    {
     "data": {
      "text/plain": [
       "tensor([[ 0.8138, -1.4729, -1.4673,  ...,  0.6590, 35.0000,  0.0000],\n",
       "        [ 0.8138, -1.4729, -1.4673,  ...,  0.6590, 23.0000,  5.0000],\n",
       "        [ 0.8138, -1.4729, -1.4673,  ...,  0.6590, 34.0000,  0.0000],\n",
       "        ...,\n",
       "        [ 1.3664,  1.1979,  1.5201,  ...,  0.8591, 43.0000,  0.0000],\n",
       "        [ 0.8934, -1.2839,  0.4577,  ...,  0.8591, 35.0000,  0.0000],\n",
       "        [ 0.4600,  0.1102, -0.1056,  ...,  0.8591, 35.0000,  5.0000]])"
      ]
     },
     "execution_count": 90,
     "metadata": {},
     "output_type": "execute_result"
    }
   ],
   "source": [
    "deep_tensor"
   ]
  },
  {
   "cell_type": "code",
   "execution_count": null,
   "metadata": {
    "colab": {
     "base_uri": "https://localhost:8080/"
    },
    "executionInfo": {
     "elapsed": 7,
     "status": "ok",
     "timestamp": 1711406307517,
     "user": {
      "displayName": "Supriya Vasagiri",
      "userId": "15627917195817140532"
     },
     "user_tz": 420
    },
    "id": "ovpdl2HvCbzC",
    "outputId": "1cf0c443-bb29-4958-d3c4-09be38386b77"
   },
   "outputs": [
    {
     "name": "stdout",
     "output_type": "stream",
     "text": [
      "Type of wide_cross_tensor: <class 'torch.Tensor'>\n",
      "Type of deep_tensor: <class 'torch.Tensor'>\n",
      "Type of target_tensor: <class 'torch.Tensor'>\n"
     ]
    }
   ],
   "source": [
    "import torch\n",
    "\n",
    "print(\"Type of wide_cross_tensor:\", type(wide_cross_tensor))\n",
    "print(\"Type of deep_tensor:\", type(deep_tensor))\n",
    "print(\"Type of target_tensor:\", type(target_tensor))\n"
   ]
  },
  {
   "cell_type": "code",
   "execution_count": null,
   "metadata": {
    "colab": {
     "base_uri": "https://localhost:8080/"
    },
    "executionInfo": {
     "elapsed": 5,
     "status": "ok",
     "timestamp": 1711406307517,
     "user": {
      "displayName": "Supriya Vasagiri",
      "userId": "15627917195817140532"
     },
     "user_tz": 420
    },
    "id": "gi8KJnNHCeuU",
    "outputId": "0ac2614b-e108-41e0-8507-7d6a12a35432"
   },
   "outputs": [
    {
     "name": "stdout",
     "output_type": "stream",
     "text": [
      "Shape of wide_cross_tensor: torch.Size([987545, 40])\n",
      "Shape of deep_tensor: torch.Size([987545, 32])\n",
      "Shape of target_tensor: torch.Size([987545])\n"
     ]
    }
   ],
   "source": [
    "print(\"Shape of wide_cross_tensor:\", wide_cross_tensor.shape)\n",
    "print(\"Shape of deep_tensor:\", deep_tensor.shape)\n",
    "print(\"Shape of target_tensor:\", target_tensor.shape)\n"
   ]
  },
  {
   "cell_type": "code",
   "execution_count": null,
   "metadata": {
    "id": "vokQQMnORGPw"
   },
   "outputs": [],
   "source": [
    "from sklearn.model_selection import train_test_split\n",
    "\n",
    "# Split data into training and testing sets\n",
    "wide_cross_train, wide_cross_test, deep_train, deep_test, target_train, target_test = train_test_split(\n",
    "    wide_cross_tensor, deep_tensor, target_tensor, test_size=0.2, random_state=42)\n",
    "\n",
    "\n",
    "# Create DataLoader for training and testing sets\n",
    "train_dataset = TensorDataset(wide_cross_train, deep_train, target_train)\n",
    "train_loader = DataLoader(train_dataset, batch_size=64, shuffle=True)\n",
    "\n",
    "test_dataset = TensorDataset(wide_cross_test, deep_test, target_test)\n",
    "test_loader = DataLoader(test_dataset, batch_size=64, shuffle=False)"
   ]
  },
  {
   "cell_type": "code",
   "execution_count": null,
   "metadata": {
    "colab": {
     "base_uri": "https://localhost:8080/"
    },
    "executionInfo": {
     "elapsed": 372690,
     "status": "ok",
     "timestamp": 1711406682561,
     "user": {
      "displayName": "Supriya Vasagiri",
      "userId": "15627917195817140532"
     },
     "user_tz": 420
    },
    "id": "ADQGQrA5880w",
    "outputId": "649ba7bb-7a8a-43c3-85e5-d950457e6de8"
   },
   "outputs": [
    {
     "name": "stdout",
     "output_type": "stream",
     "text": [
      "Wide Model - Epoch 1/5, Loss: 15.455242\n",
      "Wide Model - Epoch 2/5, Loss: 15.028237\n",
      "Wide Model - Epoch 3/5, Loss: 14.945726\n",
      "Wide Model - Epoch 4/5, Loss: 14.900054\n",
      "Wide Model - Epoch 5/5, Loss: 14.869223\n",
      "Deep Model - Epoch 1/5, Loss: 0.045638\n",
      "Deep Model - Epoch 2/5, Loss: 0.000581\n",
      "Deep Model - Epoch 3/5, Loss: 0.000525\n",
      "Deep Model - Epoch 4/5, Loss: 0.000416\n",
      "Deep Model - Epoch 5/5, Loss: 0.000251\n"
     ]
    }
   ],
   "source": [
    "import torch.optim as optim\n",
    "\n",
    "# Define wide and deep models (ensure WideModel and DeepModel classes are defined)\n",
    "wide_model = WideModel(input_size=40, output_size=1)\n",
    "deep_model = DeepModel(input_size_deep=32, output_size_deep=1)\n",
    "\n",
    "num_epochs = 5\n",
    "\n",
    "# Define loss function\n",
    "criterion = nn.MSELoss()\n",
    "\n",
    "# Define optimizers\n",
    "optimizer_wide = optim.Adagrad(wide_model.parameters(), lr=0.01)\n",
    "optimizer_deep = optim.Adam(deep_model.parameters(), lr=0.001)\n",
    "\n",
    "# Training loop for wide model\n",
    "for epoch in range(num_epochs):\n",
    "    wide_model.train()  # Set the model to training mode\n",
    "    total_loss = 0.0\n",
    "    for wide_input, _, target in train_loader:\n",
    "        optimizer_wide.zero_grad()\n",
    "        output = wide_model(wide_input)  # Forward pass using wide_model\n",
    "        target = target.unsqueeze(-1)  # Reshape target tensor\n",
    "        loss = criterion(output, target)\n",
    "        loss.backward()\n",
    "        optimizer_wide.step()\n",
    "        total_loss += loss.item()\n",
    "    print(f\"Wide Model - Epoch {epoch+1}/{num_epochs}, Loss: {total_loss/len(train_loader):.6f}\")\n",
    "\n",
    "# Training loop for deep model\n",
    "for epoch in range(num_epochs):\n",
    "    deep_model.train()  # Set the model to training mode\n",
    "    total_loss = 0.0\n",
    "    for _, deep_input, target in train_loader:\n",
    "        optimizer_deep.zero_grad()\n",
    "        output = deep_model(deep_input)  # Forward pass using deep_model\n",
    "        target = target.unsqueeze(-1)  # Reshape target tensor\n",
    "        loss = criterion(output, target)\n",
    "        loss.backward()\n",
    "        optimizer_deep.step()\n",
    "        total_loss += loss.item()\n",
    "\n",
    "    # Print average loss for the epoch\n",
    "    print(f\"Deep Model - Epoch {epoch+1}/{num_epochs}, Loss: {total_loss/len(train_loader):.6f}\")\n"
   ]
  },
  {
   "cell_type": "code",
   "execution_count": null,
   "metadata": {
    "colab": {
     "base_uri": "https://localhost:8080/"
    },
    "executionInfo": {
     "elapsed": 39,
     "status": "ok",
     "timestamp": 1711406682562,
     "user": {
      "displayName": "Supriya Vasagiri",
      "userId": "15627917195817140532"
     },
     "user_tz": 420
    },
    "id": "x5lfCXv9OvTj",
    "outputId": "a5fd8b42-5b9d-4a96-aa60-8b03f203b694"
   },
   "outputs": [
    {
     "name": "stdout",
     "output_type": "stream",
     "text": [
      "Type of wide_cross_tensor: <class 'torch.Tensor'>\n",
      "Type of deep_tensor: <class 'torch.Tensor'>\n",
      "Type of target_tensor: <class 'torch.Tensor'>\n"
     ]
    }
   ],
   "source": [
    "print(\"Type of wide_cross_tensor:\", type(wide_cross_test))\n",
    "print(\"Type of deep_tensor:\", type(deep_test))\n",
    "print(\"Type of target_tensor:\", type(target_test))"
   ]
  },
  {
   "cell_type": "code",
   "execution_count": null,
   "metadata": {
    "colab": {
     "base_uri": "https://localhost:8080/"
    },
    "executionInfo": {
     "elapsed": 32,
     "status": "ok",
     "timestamp": 1711406682562,
     "user": {
      "displayName": "Supriya Vasagiri",
      "userId": "15627917195817140532"
     },
     "user_tz": 420
    },
    "id": "pimSwFcbOvWh",
    "outputId": "673fda3f-a767-4ef3-fe86-ddddbf4c71fd"
   },
   "outputs": [
    {
     "name": "stdout",
     "output_type": "stream",
     "text": [
      "Shape of wide_cross_tensor: torch.Size([197509, 40])\n",
      "Shape of deep_tensor: torch.Size([197509, 32])\n",
      "Shape of target_tensor: torch.Size([197509])\n"
     ]
    }
   ],
   "source": [
    "print(\"Shape of wide_cross_tensor:\", wide_cross_test.shape)\n",
    "print(\"Shape of deep_tensor:\", deep_test.shape)\n",
    "print(\"Shape of target_tensor:\", target_test.shape)"
   ]
  },
  {
   "cell_type": "code",
   "execution_count": null,
   "metadata": {
    "id": "jGzeIOo6Zwgf"
   },
   "outputs": [],
   "source": [
    "import torch.nn.functional as F\n",
    "\n",
    "class WideDeepModel(nn.Module):\n",
    "    def __init__(self, wide_input_size, deep_input_size, output_size):\n",
    "        super(WideDeepModel, self).__init__()\n",
    "\n",
    "        # Define wide layers with dropout\n",
    "        self.wide_layers = nn.Sequential(\n",
    "            nn.Linear(wide_input_size, 128),\n",
    "            nn.ReLU(),\n",
    "            nn.Dropout(0.2),  # Dropout layer with p=0.2\n",
    "            nn.Linear(128, 64),\n",
    "            nn.ReLU(),\n",
    "            nn.Dropout(0.2),  # Dropout layer with p=0.2\n",
    "            nn.Linear(64, output_size)\n",
    "        )\n",
    "\n",
    "        # Define deep model\n",
    "        self.deep_model = DeepModel(deep_input_size, output_size)  # You need to define DeepModel\n",
    "\n",
    "    def forward(self, wide_input, deep_input):\n",
    "        # Forward pass through wide layers\n",
    "        wide_output = self.wide_layers(wide_input)\n",
    "\n",
    "        # Forward pass through deep model\n",
    "        deep_output = self.deep_model(deep_input)\n",
    "\n",
    "        # Combine wide and deep outputs\n",
    "        combined_output = wide_output + deep_output\n",
    "        return combined_output\n"
   ]
  },
  {
   "cell_type": "code",
   "execution_count": null,
   "metadata": {
    "colab": {
     "base_uri": "https://localhost:8080/"
    },
    "executionInfo": {
     "elapsed": 805,
     "status": "ok",
     "timestamp": 1711406683339,
     "user": {
      "displayName": "Supriya Vasagiri",
      "userId": "15627917195817140532"
     },
     "user_tz": 420
    },
    "id": "GVjv_nYoOvQR",
    "outputId": "d04d9314-77d3-407d-9c81-45b9abbcd52b"
   },
   "outputs": [
    {
     "name": "stdout",
     "output_type": "stream",
     "text": [
      "Test Loss: 21.222612380981445\n"
     ]
    }
   ],
   "source": [
    "# Create an instance of WideDeepModel with the specified input and output sizes\n",
    "wide_deep_model = WideDeepModel(wide_input_size=40, deep_input_size=32, output_size=1)\n",
    "\n",
    "# Set the model to evaluation mode\n",
    "wide_deep_model.eval()\n",
    "\n",
    "with torch.no_grad():  # Disable gradient calculation during inference\n",
    "    wide_deep_output = wide_deep_model(wide_cross_test, deep_test)\n",
    "\n",
    "\n",
    "target_test = target_test.unsqueeze(-1)\n",
    "# Calculate loss or any evaluation metric if needed\n",
    "criterion = nn.MSELoss()\n",
    "test_loss = criterion(wide_deep_output, target_test)\n",
    "print(\"Test Loss:\", test_loss.item())\n"
   ]
  },
  {
   "cell_type": "code",
   "execution_count": null,
   "metadata": {
    "colab": {
     "base_uri": "https://localhost:8080/"
    },
    "id": "1EqrjV0zX-Mi",
    "outputId": "27aee2dd-1694-486c-fa55-6bbf6303daa8"
   },
   "outputs": [
    {
     "name": "stderr",
     "output_type": "stream",
     "text": [
      "/usr/local/lib/python3.10/dist-packages/torch/nn/modules/loss.py:535: UserWarning: Using a target size (torch.Size([197509, 1, 1])) that is different to the input size (torch.Size([197509, 1])). This will likely lead to incorrect results due to broadcasting. Please ensure they have the same size.\n",
      "  return F.mse_loss(input, target, reduction=self.reduction)\n"
     ]
    }
   ],
   "source": [
    "# # Number of evaluation iterations\n",
    "# num_evaluations = 5\n",
    "\n",
    "# # Loop for multiple evaluations\n",
    "# for i in range(num_evaluations):\n",
    "#     with torch.no_grad():  # Disable gradient calculation during inference\n",
    "#         wide_deep_output = wide_deep_model(wide_cross_test, deep_test)\n",
    "\n",
    "#     # Ensure target tensor has the same shape as the predicted output tensor\n",
    "#     target_test = target_test.unsqueeze(-1)\n",
    "\n",
    "#     # Calculate loss\n",
    "#     criterion = nn.MSELoss()\n",
    "#     test_loss = criterion(wide_deep_output, target_test)\n",
    "#     print(\"Test Loss (Evaluation {}):\".format(i+1), test_loss.item())\n"
   ]
  },
  {
   "cell_type": "code",
   "execution_count": null,
   "metadata": {
    "colab": {
     "base_uri": "https://localhost:8080/"
    },
    "executionInfo": {
     "elapsed": 721,
     "status": "ok",
     "timestamp": 1711407850321,
     "user": {
      "displayName": "Supriya Vasagiri",
      "userId": "15627917195817140532"
     },
     "user_tz": 420
    },
    "id": "rGpcWEo62mRf",
    "outputId": "4e5ed20c-9e26-4dc1-bb5e-a6d7f9f21957"
   },
   "outputs": [
    {
     "name": "stdout",
     "output_type": "stream",
     "text": [
      "Recommended Books for User-ID 2313:\n",
      "     ISBN  Book-Title\n",
      "0  212702      231411\n",
      "1   37984      193327\n",
      "2   69944      180749\n",
      "3    7214       52133\n",
      "4   31864      201277\n",
      "5   86330        5215\n",
      "6   21018      203362\n",
      "7  143207      160141\n",
      "8  131496       14141\n",
      "9   92695      229846\n"
     ]
    }
   ],
   "source": [
    "def recommend_books(user_id, df, top_n=10):\n",
    "    # Filter books not rated by the user\n",
    "    user_books = df[df['User-ID'] == user_id]['ISBN']\n",
    "    all_books = df[~df['ISBN'].isin(user_books)]\n",
    "\n",
    "    # Group by ISBN and count the number of ratings\n",
    "    book_ratings_count = all_books.groupby('ISBN').size().reset_index(name='rating_count')\n",
    "\n",
    "    # Sort books by rating count in descending order\n",
    "    top_books = book_ratings_count.sort_values(by='rating_count', ascending=False).head(top_n)\n",
    "\n",
    "    # Merge with original dataframe to get book titles\n",
    "    recommended_books = pd.merge(top_books, df[['ISBN', 'Book-Title']].drop_duplicates(), on='ISBN', how='left')\n",
    "\n",
    "    return recommended_books[['ISBN', 'Book-Title']]\n",
    "\n",
    "# Example: Recommend 10 books for User-ID 2313\n",
    "recommended_books = recommend_books(2313, df)\n",
    "print(\"Recommended Books for User-ID 2313:\")\n",
    "print(recommended_books)\n"
   ]
  },
  {
   "cell_type": "code",
   "execution_count": null,
   "metadata": {
    "id": "xZBl3djz211w"
   },
   "outputs": [],
   "source": []
  }
 ],
 "metadata": {
  "colab": {
   "provenance": []
  },
  "kernelspec": {
   "display_name": "Python 3 (ipykernel)",
   "language": "python",
   "name": "python3"
  },
  "language_info": {
   "codemirror_mode": {
    "name": "ipython",
    "version": 3
   },
   "file_extension": ".py",
   "mimetype": "text/x-python",
   "name": "python",
   "nbconvert_exporter": "python",
   "pygments_lexer": "ipython3",
   "version": "3.11.5"
  }
 },
 "nbformat": 4,
 "nbformat_minor": 4
}
